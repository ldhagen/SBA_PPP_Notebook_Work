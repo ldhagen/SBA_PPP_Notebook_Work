{
 "cells": [
  {
   "cell_type": "code",
   "execution_count": null,
   "metadata": {},
   "outputs": [],
   "source": [
    "#!wget https://data.sba.gov/dataset/8aa276e2-6cab-4f86-aca4-a7dde42adf24/resource/6b62a44b-69ec-436a-9b95-0ea550475543/download/public_150k_plus.csv"
   ]
  },
  {
   "cell_type": "markdown",
   "metadata": {},
   "source": [
    "Above from https://data.sba.gov/dataset/ppp-foia/resource/6b62a44b-69ec-436a-9b95-0ea550475543"
   ]
  },
  {
   "cell_type": "code",
   "execution_count": null,
   "metadata": {},
   "outputs": [],
   "source": [
    "import pandas as pd\n",
    "import matplotlib.pyplot as plt\n",
    "import numpy as np\n",
    "import datetime\n",
    "%matplotlib inline"
   ]
  },
  {
   "cell_type": "code",
   "execution_count": null,
   "metadata": {},
   "outputs": [],
   "source": [
    "#!wget https://data.sba.gov/dataset/8aa276e2-6cab-4f86-aca4-a7dde42adf24/resource/6b62a44b-69ec-436a-9b95-0ea550475543/download/public_150k_plus.csv"
   ]
  },
  {
   "cell_type": "code",
   "execution_count": null,
   "metadata": {},
   "outputs": [],
   "source": [
    "!ls -alt "
   ]
  },
  {
   "cell_type": "code",
   "execution_count": null,
   "metadata": {},
   "outputs": [],
   "source": [
    "df_all_high_SBA = pd.read_csv('public_150k_plus.csv')"
   ]
  },
  {
   "cell_type": "code",
   "execution_count": null,
   "metadata": {},
   "outputs": [],
   "source": [
    "a = df_all_high_SBA"
   ]
  },
  {
   "cell_type": "code",
   "execution_count": null,
   "metadata": {},
   "outputs": [],
   "source": [
    "len(a)"
   ]
  },
  {
   "cell_type": "code",
   "execution_count": null,
   "metadata": {},
   "outputs": [],
   "source": [
    "#!wget https://data.sba.gov/dataset/8aa276e2-6cab-4f86-aca4-a7dde42adf24/resource/3d28c417-5170-4f1f-be31-b0c7b0182501/download/public_up_to_150k_1.csv"
   ]
  },
  {
   "cell_type": "code",
   "execution_count": null,
   "metadata": {},
   "outputs": [],
   "source": [
    "df_below_150_1_SBA = pd.read_csv('public_up_to_150k_1.csv')"
   ]
  },
  {
   "cell_type": "code",
   "execution_count": null,
   "metadata": {},
   "outputs": [],
   "source": [
    "b = df_below_150_1_SBA"
   ]
  },
  {
   "cell_type": "code",
   "execution_count": null,
   "metadata": {},
   "outputs": [],
   "source": [
    "len(b)"
   ]
  },
  {
   "cell_type": "code",
   "execution_count": null,
   "metadata": {},
   "outputs": [],
   "source": [
    "#!wget https://data.sba.gov/dataset/8aa276e2-6cab-4f86-aca4-a7dde42adf24/resource/4a2529a5-08ce-436d-a448-465ca82eadaf/download/public_up_to_150k_2.csv"
   ]
  },
  {
   "cell_type": "code",
   "execution_count": null,
   "metadata": {},
   "outputs": [],
   "source": [
    "#df_below_150_2_SBA = pd.read_csv('public_up_to_150k_2.csv')"
   ]
  },
  {
   "cell_type": "code",
   "execution_count": null,
   "metadata": {},
   "outputs": [],
   "source": [
    "c = df_below_150_2_SBA"
   ]
  },
  {
   "cell_type": "code",
   "execution_count": null,
   "metadata": {},
   "outputs": [],
   "source": [
    "len(c)"
   ]
  },
  {
   "cell_type": "code",
   "execution_count": null,
   "metadata": {},
   "outputs": [],
   "source": [
    "#!wget https://data.sba.gov/dataset/8aa276e2-6cab-4f86-aca4-a7dde42adf24/resource/ffd0bdb7-cc41-4adb-9762-8957d61c1862/download/public_up_to_150k_3.csv"
   ]
  },
  {
   "cell_type": "code",
   "execution_count": null,
   "metadata": {},
   "outputs": [],
   "source": [
    "df_below_150_3_SBA = pd.read_csv('public_up_to_150k_3.csv')"
   ]
  },
  {
   "cell_type": "code",
   "execution_count": null,
   "metadata": {},
   "outputs": [],
   "source": [
    "d = df_below_150_3_SBA"
   ]
  },
  {
   "cell_type": "code",
   "execution_count": null,
   "metadata": {},
   "outputs": [],
   "source": [
    "len(d)"
   ]
  },
  {
   "cell_type": "code",
   "execution_count": null,
   "metadata": {},
   "outputs": [],
   "source": [
    "#!wget https://data.sba.gov/dataset/8aa276e2-6cab-4f86-aca4-a7dde42adf24/resource/864cd9cb-7797-42da-b991-68ac24fcab9a/download/public_up_to_150k_4.csv"
   ]
  },
  {
   "cell_type": "code",
   "execution_count": null,
   "metadata": {},
   "outputs": [],
   "source": [
    "df_below_150_4_SBA = pd.read_csv('public_up_to_150k_4.csv')"
   ]
  },
  {
   "cell_type": "code",
   "execution_count": null,
   "metadata": {},
   "outputs": [],
   "source": [
    "e = df_below_150_4_SBA"
   ]
  },
  {
   "cell_type": "code",
   "execution_count": null,
   "metadata": {},
   "outputs": [],
   "source": [
    "len(e)"
   ]
  },
  {
   "cell_type": "code",
   "execution_count": null,
   "metadata": {},
   "outputs": [],
   "source": [
    "!df -k"
   ]
  },
  {
   "cell_type": "code",
   "execution_count": null,
   "metadata": {},
   "outputs": [],
   "source": [
    "#!wget https://data.sba.gov/dataset/8aa276e2-6cab-4f86-aca4-a7dde42adf24/resource/3032cb97-3a22-4ded-a0ca-69bdf54cdc32/download/public_up_to_150k_5.csv"
   ]
  },
  {
   "cell_type": "code",
   "execution_count": null,
   "metadata": {},
   "outputs": [],
   "source": [
    "df_below_150_5_SBA = pd.read_csv('public_up_to_150k_5.csv')"
   ]
  },
  {
   "cell_type": "code",
   "execution_count": null,
   "metadata": {},
   "outputs": [],
   "source": [
    "f = df_below_150_5_SBA"
   ]
  },
  {
   "cell_type": "code",
   "execution_count": null,
   "metadata": {},
   "outputs": [],
   "source": [
    "len(f)"
   ]
  },
  {
   "cell_type": "code",
   "execution_count": null,
   "metadata": {},
   "outputs": [],
   "source": [
    "#!wget https://data.sba.gov/dataset/8aa276e2-6cab-4f86-aca4-a7dde42adf24/resource/8fd56c55-8ad6-491e-a219-441c50471e4d/download/public_up_to_150k_6.csv"
   ]
  },
  {
   "cell_type": "code",
   "execution_count": null,
   "metadata": {},
   "outputs": [],
   "source": [
    "df_below_150_6_SBA = pd.read_csv('public_up_to_150k_6.csv')"
   ]
  },
  {
   "cell_type": "code",
   "execution_count": null,
   "metadata": {},
   "outputs": [],
   "source": [
    "g = df_below_150_6_SBA"
   ]
  },
  {
   "cell_type": "code",
   "execution_count": null,
   "metadata": {},
   "outputs": [],
   "source": [
    "len(g)"
   ]
  },
  {
   "cell_type": "code",
   "execution_count": null,
   "metadata": {},
   "outputs": [],
   "source": [
    "#!wget https://data.sba.gov/dataset/8aa276e2-6cab-4f86-aca4-a7dde42adf24/resource/7fd17fde-42a9-4a5a-8be9-dfbc6703e5f3/download/public_up_to_150k_7.csv"
   ]
  },
  {
   "cell_type": "code",
   "execution_count": null,
   "metadata": {},
   "outputs": [],
   "source": [
    "df_below_150_7_SBA = pd.read_csv('public_up_to_150k_7.csv')"
   ]
  },
  {
   "cell_type": "code",
   "execution_count": null,
   "metadata": {},
   "outputs": [],
   "source": [
    "h = df_below_150_7_SBA"
   ]
  },
  {
   "cell_type": "code",
   "execution_count": null,
   "metadata": {},
   "outputs": [],
   "source": [
    "len(h)"
   ]
  },
  {
   "cell_type": "code",
   "execution_count": null,
   "metadata": {},
   "outputs": [],
   "source": [
    "#!wget https://data.sba.gov/dataset/8aa276e2-6cab-4f86-aca4-a7dde42adf24/resource/c0c87f18-333a-43e8-843e-7c1e27b18317/download/public_up_to_150k_8.csv"
   ]
  },
  {
   "cell_type": "code",
   "execution_count": null,
   "metadata": {},
   "outputs": [],
   "source": [
    "df_below_150_8_SBA = pd.read_csv('public_up_to_150k_8.csv')"
   ]
  },
  {
   "cell_type": "code",
   "execution_count": null,
   "metadata": {},
   "outputs": [],
   "source": [
    "i = df_below_150_8_SBA"
   ]
  },
  {
   "cell_type": "code",
   "execution_count": null,
   "metadata": {},
   "outputs": [],
   "source": [
    "len(i)"
   ]
  },
  {
   "cell_type": "code",
   "execution_count": null,
   "metadata": {},
   "outputs": [],
   "source": [
    "#!wget https://data.sba.gov/dataset/8aa276e2-6cab-4f86-aca4-a7dde42adf24/resource/88d9f6f7-b471-4f5b-ae3e-7b9d7b394ad2/download/public_up_to_150k_9.csv"
   ]
  },
  {
   "cell_type": "code",
   "execution_count": null,
   "metadata": {},
   "outputs": [],
   "source": [
    "df_below_150_9_SBA = pd.read_csv('public_up_to_150k_9.csv')"
   ]
  },
  {
   "cell_type": "code",
   "execution_count": null,
   "metadata": {},
   "outputs": [],
   "source": [
    "j = df_below_150_9_SBA"
   ]
  },
  {
   "cell_type": "code",
   "execution_count": null,
   "metadata": {},
   "outputs": [],
   "source": [
    "len(j)"
   ]
  },
  {
   "cell_type": "code",
   "execution_count": null,
   "metadata": {},
   "outputs": [],
   "source": [
    "!df -k"
   ]
  },
  {
   "cell_type": "code",
   "execution_count": null,
   "metadata": {},
   "outputs": [],
   "source": [
    "!ls -alt"
   ]
  },
  {
   "cell_type": "code",
   "execution_count": null,
   "metadata": {},
   "outputs": [],
   "source": [
    "type(a)"
   ]
  },
  {
   "cell_type": "code",
   "execution_count": null,
   "metadata": {},
   "outputs": [],
   "source": [
    "len(a)"
   ]
  },
  {
   "cell_type": "code",
   "execution_count": null,
   "metadata": {},
   "outputs": [],
   "source": [
    "result = a.append([b])"
   ]
  },
  {
   "cell_type": "code",
   "execution_count": null,
   "metadata": {},
   "outputs": [],
   "source": [
    "len(result)"
   ]
  },
  {
   "cell_type": "code",
   "execution_count": null,
   "metadata": {},
   "outputs": [],
   "source": [
    "print(a.shape)"
   ]
  },
  {
   "cell_type": "code",
   "execution_count": null,
   "metadata": {},
   "outputs": [],
   "source": [
    "print(result.shape)"
   ]
  },
  {
   "cell_type": "code",
   "execution_count": null,
   "metadata": {},
   "outputs": [],
   "source": [
    "a.info()"
   ]
  },
  {
   "cell_type": "code",
   "execution_count": null,
   "metadata": {},
   "outputs": [],
   "source": [
    "result.info()"
   ]
  },
  {
   "cell_type": "code",
   "execution_count": null,
   "metadata": {},
   "outputs": [],
   "source": [
    "a.columns"
   ]
  },
  {
   "cell_type": "code",
   "execution_count": null,
   "metadata": {},
   "outputs": [],
   "source": [
    "a.dtypes"
   ]
  },
  {
   "cell_type": "code",
   "execution_count": null,
   "metadata": {},
   "outputs": [],
   "source": [
    "a.info()"
   ]
  },
  {
   "cell_type": "code",
   "execution_count": null,
   "metadata": {},
   "outputs": [],
   "source": [
    "a['CD']"
   ]
  },
  {
   "cell_type": "code",
   "execution_count": null,
   "metadata": {},
   "outputs": [],
   "source": [
    "a['CD'].iloc[6]"
   ]
  },
  {
   "cell_type": "code",
   "execution_count": null,
   "metadata": {},
   "outputs": [],
   "source": [
    "a.head()"
   ]
  },
  {
   "cell_type": "code",
   "execution_count": null,
   "metadata": {},
   "outputs": [],
   "source": [
    "a"
   ]
  },
  {
   "cell_type": "code",
   "execution_count": null,
   "metadata": {},
   "outputs": [],
   "source": [
    "z = pd.read_csv('public_150k_plus.csv', index_col='LoanNumber')"
   ]
  },
  {
   "cell_type": "code",
   "execution_count": null,
   "metadata": {},
   "outputs": [],
   "source": [
    "z"
   ]
  },
  {
   "cell_type": "code",
   "execution_count": null,
   "metadata": {},
   "outputs": [],
   "source": [
    "z.dtypes"
   ]
  },
  {
   "cell_type": "code",
   "execution_count": null,
   "metadata": {},
   "outputs": [],
   "source": [
    "z.head()"
   ]
  },
  {
   "cell_type": "code",
   "execution_count": null,
   "metadata": {},
   "outputs": [],
   "source": [
    "z.tail(11)"
   ]
  },
  {
   "cell_type": "code",
   "execution_count": null,
   "metadata": {},
   "outputs": [],
   "source": [
    "z.columns"
   ]
  },
  {
   "cell_type": "code",
   "execution_count": null,
   "metadata": {},
   "outputs": [],
   "source": [
    "a.columns"
   ]
  },
  {
   "cell_type": "code",
   "execution_count": null,
   "metadata": {},
   "outputs": [],
   "source": [
    "z.index"
   ]
  },
  {
   "cell_type": "code",
   "execution_count": null,
   "metadata": {},
   "outputs": [],
   "source": [
    "a.index"
   ]
  },
  {
   "cell_type": "code",
   "execution_count": null,
   "metadata": {},
   "outputs": [],
   "source": [
    "a.describe()"
   ]
  },
  {
   "cell_type": "code",
   "execution_count": null,
   "metadata": {},
   "outputs": [],
   "source": [
    "z.describe()"
   ]
  },
  {
   "cell_type": "code",
   "execution_count": null,
   "metadata": {},
   "outputs": [],
   "source": [
    "a[:5]"
   ]
  },
  {
   "cell_type": "code",
   "execution_count": null,
   "metadata": {},
   "outputs": [],
   "source": [
    "z[0:5]"
   ]
  },
  {
   "cell_type": "code",
   "execution_count": null,
   "metadata": {},
   "outputs": [],
   "source": [
    "z.head()"
   ]
  },
  {
   "cell_type": "code",
   "execution_count": null,
   "metadata": {},
   "outputs": [],
   "source": [
    "a"
   ]
  },
  {
   "cell_type": "code",
   "execution_count": null,
   "metadata": {},
   "outputs": [],
   "source": [
    "a[a.BorrowerState == 'TX'].count()"
   ]
  },
  {
   "cell_type": "code",
   "execution_count": null,
   "metadata": {},
   "outputs": [],
   "source": [
    "a.loc[791524]"
   ]
  },
  {
   "cell_type": "code",
   "execution_count": null,
   "metadata": {},
   "outputs": [],
   "source": [
    "a.iloc[791524,2]"
   ]
  },
  {
   "cell_type": "code",
   "execution_count": null,
   "metadata": {},
   "outputs": [],
   "source": [
    "a[a.BorrowerAddress == '3400 N. Central Expressway Suite 110-243']"
   ]
  },
  {
   "cell_type": "code",
   "execution_count": null,
   "metadata": {},
   "outputs": [],
   "source": [
    "a[a.BorrowerName == r'SWH MIMIS CAFE LLC']"
   ]
  },
  {
   "cell_type": "code",
   "execution_count": null,
   "metadata": {},
   "outputs": [],
   "source": [
    "a.loc[791578]"
   ]
  },
  {
   "cell_type": "code",
   "execution_count": null,
   "metadata": {},
   "outputs": [],
   "source": [
    "a.shape"
   ]
  },
  {
   "cell_type": "code",
   "execution_count": null,
   "metadata": {},
   "outputs": [],
   "source": [
    "a.columns"
   ]
  },
  {
   "cell_type": "code",
   "execution_count": null,
   "metadata": {},
   "outputs": [],
   "source": [
    "a.count()"
   ]
  },
  {
   "cell_type": "code",
   "execution_count": null,
   "metadata": {},
   "outputs": [],
   "source": [
    "a.BorrowerZip.describe()"
   ]
  },
  {
   "cell_type": "code",
   "execution_count": null,
   "metadata": {},
   "outputs": [],
   "source": [
    "a.last_valid_index()"
   ]
  },
  {
   "cell_type": "code",
   "execution_count": null,
   "metadata": {},
   "outputs": [],
   "source": [
    "z.last_valid_index()"
   ]
  },
  {
   "cell_type": "code",
   "execution_count": null,
   "metadata": {},
   "outputs": [],
   "source": [
    "a.iloc[945919]"
   ]
  },
  {
   "cell_type": "code",
   "execution_count": null,
   "metadata": {},
   "outputs": [],
   "source": [
    "a.iloc[:3]"
   ]
  },
  {
   "cell_type": "code",
   "execution_count": null,
   "metadata": {},
   "outputs": [],
   "source": [
    "z.loc[9547507704]"
   ]
  },
  {
   "cell_type": "code",
   "execution_count": null,
   "metadata": {},
   "outputs": [],
   "source": [
    "z.iloc[945918]"
   ]
  },
  {
   "cell_type": "code",
   "execution_count": null,
   "metadata": {},
   "outputs": [],
   "source": [
    "pd.show_versions()"
   ]
  },
  {
   "cell_type": "code",
   "execution_count": null,
   "metadata": {},
   "outputs": [],
   "source": [
    "a.loc[5, ['DateApproved', 'ProcessingMethod']]"
   ]
  },
  {
   "cell_type": "code",
   "execution_count": null,
   "metadata": {},
   "outputs": [],
   "source": [
    "a.iloc[5, [1,3]]"
   ]
  },
  {
   "cell_type": "code",
   "execution_count": null,
   "metadata": {},
   "outputs": [],
   "source": [
    "!uptime"
   ]
  },
  {
   "cell_type": "code",
   "execution_count": null,
   "metadata": {},
   "outputs": [],
   "source": [
    "a.iloc[range(0,2),[1,2,4]]"
   ]
  },
  {
   "cell_type": "code",
   "execution_count": null,
   "metadata": {},
   "outputs": [],
   "source": [
    "a.loc[range(0,2), ['DateApproved', 'SBAOfficeCode', 'BorrowerName']]"
   ]
  },
  {
   "cell_type": "code",
   "execution_count": null,
   "metadata": {},
   "outputs": [],
   "source": [
    "a.iloc[1:3,:]"
   ]
  },
  {
   "cell_type": "code",
   "execution_count": null,
   "metadata": {},
   "outputs": [],
   "source": [
    "a.iloc[0:2]"
   ]
  },
  {
   "cell_type": "code",
   "execution_count": null,
   "metadata": {},
   "outputs": [],
   "source": [
    "a.groupby('BorrowerState')['DateApproved'].count()"
   ]
  },
  {
   "cell_type": "code",
   "execution_count": null,
   "metadata": {},
   "outputs": [],
   "source": [
    "a['BorrowerState'].describe()"
   ]
  },
  {
   "cell_type": "code",
   "execution_count": null,
   "metadata": {},
   "outputs": [],
   "source": [
    "a['BorrowerState'].unique()"
   ]
  },
  {
   "cell_type": "code",
   "execution_count": null,
   "metadata": {},
   "outputs": [],
   "source": [
    "a.iloc[a['BorrowerState' == 'TX']]"
   ]
  },
  {
   "cell_type": "code",
   "execution_count": 73,
   "metadata": {},
   "outputs": [
    {
     "data": {
      "text/html": [
       "<div>\n",
       "<style scoped>\n",
       "    .dataframe tbody tr th:only-of-type {\n",
       "        vertical-align: middle;\n",
       "    }\n",
       "\n",
       "    .dataframe tbody tr th {\n",
       "        vertical-align: top;\n",
       "    }\n",
       "\n",
       "    .dataframe thead th {\n",
       "        text-align: right;\n",
       "    }\n",
       "</style>\n",
       "<table border=\"1\" class=\"dataframe\">\n",
       "  <thead>\n",
       "    <tr style=\"text-align: right;\">\n",
       "      <th></th>\n",
       "      <th>LoanNumber</th>\n",
       "      <th>DateApproved</th>\n",
       "      <th>SBAOfficeCode</th>\n",
       "      <th>ProcessingMethod</th>\n",
       "      <th>BorrowerName</th>\n",
       "      <th>BorrowerAddress</th>\n",
       "      <th>BorrowerCity</th>\n",
       "      <th>BorrowerState</th>\n",
       "      <th>BorrowerZip</th>\n",
       "      <th>LoanStatusDate</th>\n",
       "      <th>...</th>\n",
       "      <th>HEALTH_CARE_PROCEED</th>\n",
       "      <th>DEBT_INTEREST_PROCEED</th>\n",
       "      <th>BusinessType</th>\n",
       "      <th>OriginatingLenderLocationID</th>\n",
       "      <th>OriginatingLender</th>\n",
       "      <th>OriginatingLenderCity</th>\n",
       "      <th>OriginatingLenderState</th>\n",
       "      <th>Gender</th>\n",
       "      <th>Veteran</th>\n",
       "      <th>NonProfit</th>\n",
       "    </tr>\n",
       "  </thead>\n",
       "  <tbody>\n",
       "    <tr>\n",
       "      <th>945919</th>\n",
       "      <td>9184687004</td>\n",
       "      <td>04/09/2020</td>\n",
       "      <td>897</td>\n",
       "      <td>PPP</td>\n",
       "      <td>S &amp; S JOHNSON ENTERPRISES INC</td>\n",
       "      <td>7342 Granite Loop Rd</td>\n",
       "      <td>TETON VILLAGE</td>\n",
       "      <td>WY</td>\n",
       "      <td>83025-0550</td>\n",
       "      <td>NaN</td>\n",
       "      <td>...</td>\n",
       "      <td>NaN</td>\n",
       "      <td>NaN</td>\n",
       "      <td>Subchapter S Corporation</td>\n",
       "      <td>77193</td>\n",
       "      <td>Bank of Jackson Hole</td>\n",
       "      <td>JACKSON</td>\n",
       "      <td>WY</td>\n",
       "      <td>Unanswered</td>\n",
       "      <td>Unanswered</td>\n",
       "      <td>NaN</td>\n",
       "    </tr>\n",
       "  </tbody>\n",
       "</table>\n",
       "<p>1 rows × 51 columns</p>\n",
       "</div>"
      ],
      "text/plain": [
       "        LoanNumber DateApproved  SBAOfficeCode ProcessingMethod  \\\n",
       "945919  9184687004   04/09/2020            897              PPP   \n",
       "\n",
       "                         BorrowerName       BorrowerAddress   BorrowerCity  \\\n",
       "945919  S & S JOHNSON ENTERPRISES INC  7342 Granite Loop Rd  TETON VILLAGE   \n",
       "\n",
       "       BorrowerState BorrowerZip LoanStatusDate  ... HEALTH_CARE_PROCEED  \\\n",
       "945919            WY  83025-0550            NaN  ...                 NaN   \n",
       "\n",
       "        DEBT_INTEREST_PROCEED              BusinessType  \\\n",
       "945919                    NaN  Subchapter S Corporation   \n",
       "\n",
       "        OriginatingLenderLocationID     OriginatingLender  \\\n",
       "945919                        77193  Bank of Jackson Hole   \n",
       "\n",
       "        OriginatingLenderCity OriginatingLenderState      Gender     Veteran  \\\n",
       "945919                JACKSON                     WY  Unanswered  Unanswered   \n",
       "\n",
       "       NonProfit  \n",
       "945919       NaN  \n",
       "\n",
       "[1 rows x 51 columns]"
      ]
     },
     "execution_count": 73,
     "metadata": {},
     "output_type": "execute_result"
    }
   ],
   "source": [
    "a.tail(1)"
   ]
  },
  {
   "cell_type": "code",
   "execution_count": 74,
   "metadata": {},
   "outputs": [
    {
     "data": {
      "text/html": [
       "<div>\n",
       "<style scoped>\n",
       "    .dataframe tbody tr th:only-of-type {\n",
       "        vertical-align: middle;\n",
       "    }\n",
       "\n",
       "    .dataframe tbody tr th {\n",
       "        vertical-align: top;\n",
       "    }\n",
       "\n",
       "    .dataframe thead th {\n",
       "        text-align: right;\n",
       "    }\n",
       "</style>\n",
       "<table border=\"1\" class=\"dataframe\">\n",
       "  <thead>\n",
       "    <tr style=\"text-align: right;\">\n",
       "      <th></th>\n",
       "      <th>DateApproved</th>\n",
       "      <th>SBAOfficeCode</th>\n",
       "      <th>ProcessingMethod</th>\n",
       "      <th>BorrowerName</th>\n",
       "      <th>BorrowerAddress</th>\n",
       "      <th>BorrowerCity</th>\n",
       "      <th>BorrowerState</th>\n",
       "      <th>BorrowerZip</th>\n",
       "      <th>LoanStatusDate</th>\n",
       "      <th>LoanStatus</th>\n",
       "      <th>...</th>\n",
       "      <th>HEALTH_CARE_PROCEED</th>\n",
       "      <th>DEBT_INTEREST_PROCEED</th>\n",
       "      <th>BusinessType</th>\n",
       "      <th>OriginatingLenderLocationID</th>\n",
       "      <th>OriginatingLender</th>\n",
       "      <th>OriginatingLenderCity</th>\n",
       "      <th>OriginatingLenderState</th>\n",
       "      <th>Gender</th>\n",
       "      <th>Veteran</th>\n",
       "      <th>NonProfit</th>\n",
       "    </tr>\n",
       "    <tr>\n",
       "      <th>LoanNumber</th>\n",
       "      <th></th>\n",
       "      <th></th>\n",
       "      <th></th>\n",
       "      <th></th>\n",
       "      <th></th>\n",
       "      <th></th>\n",
       "      <th></th>\n",
       "      <th></th>\n",
       "      <th></th>\n",
       "      <th></th>\n",
       "      <th></th>\n",
       "      <th></th>\n",
       "      <th></th>\n",
       "      <th></th>\n",
       "      <th></th>\n",
       "      <th></th>\n",
       "      <th></th>\n",
       "      <th></th>\n",
       "      <th></th>\n",
       "      <th></th>\n",
       "      <th></th>\n",
       "    </tr>\n",
       "  </thead>\n",
       "  <tbody>\n",
       "    <tr>\n",
       "      <th>9184687004</th>\n",
       "      <td>04/09/2020</td>\n",
       "      <td>897</td>\n",
       "      <td>PPP</td>\n",
       "      <td>S &amp; S JOHNSON ENTERPRISES INC</td>\n",
       "      <td>7342 Granite Loop Rd</td>\n",
       "      <td>TETON VILLAGE</td>\n",
       "      <td>WY</td>\n",
       "      <td>83025-0550</td>\n",
       "      <td>NaN</td>\n",
       "      <td>Exemption 4</td>\n",
       "      <td>...</td>\n",
       "      <td>NaN</td>\n",
       "      <td>NaN</td>\n",
       "      <td>Subchapter S Corporation</td>\n",
       "      <td>77193</td>\n",
       "      <td>Bank of Jackson Hole</td>\n",
       "      <td>JACKSON</td>\n",
       "      <td>WY</td>\n",
       "      <td>Unanswered</td>\n",
       "      <td>Unanswered</td>\n",
       "      <td>NaN</td>\n",
       "    </tr>\n",
       "  </tbody>\n",
       "</table>\n",
       "<p>1 rows × 50 columns</p>\n",
       "</div>"
      ],
      "text/plain": [
       "           DateApproved  SBAOfficeCode ProcessingMethod  \\\n",
       "LoanNumber                                                \n",
       "9184687004   04/09/2020            897              PPP   \n",
       "\n",
       "                             BorrowerName       BorrowerAddress  \\\n",
       "LoanNumber                                                        \n",
       "9184687004  S & S JOHNSON ENTERPRISES INC  7342 Granite Loop Rd   \n",
       "\n",
       "             BorrowerCity BorrowerState BorrowerZip LoanStatusDate  \\\n",
       "LoanNumber                                                           \n",
       "9184687004  TETON VILLAGE            WY  83025-0550            NaN   \n",
       "\n",
       "             LoanStatus  ...  HEALTH_CARE_PROCEED  DEBT_INTEREST_PROCEED  \\\n",
       "LoanNumber               ...                                               \n",
       "9184687004  Exemption 4  ...                  NaN                    NaN   \n",
       "\n",
       "                        BusinessType  OriginatingLenderLocationID  \\\n",
       "LoanNumber                                                          \n",
       "9184687004  Subchapter S Corporation                        77193   \n",
       "\n",
       "               OriginatingLender OriginatingLenderCity  \\\n",
       "LoanNumber                                               \n",
       "9184687004  Bank of Jackson Hole               JACKSON   \n",
       "\n",
       "            OriginatingLenderState      Gender     Veteran NonProfit  \n",
       "LoanNumber                                                            \n",
       "9184687004                      WY  Unanswered  Unanswered       NaN  \n",
       "\n",
       "[1 rows x 50 columns]"
      ]
     },
     "execution_count": 74,
     "metadata": {},
     "output_type": "execute_result"
    }
   ],
   "source": [
    "z.tail(1)"
   ]
  },
  {
   "cell_type": "code",
   "execution_count": 75,
   "metadata": {},
   "outputs": [
    {
     "data": {
      "text/plain": [
       "LoanNumber                                            9184687004\n",
       "DateApproved                                          04/09/2020\n",
       "SBAOfficeCode                                                897\n",
       "ProcessingMethod                                             PPP\n",
       "BorrowerName                       S & S JOHNSON ENTERPRISES INC\n",
       "BorrowerAddress                             7342 Granite Loop Rd\n",
       "BorrowerCity                                       TETON VILLAGE\n",
       "BorrowerState                                                 WY\n",
       "BorrowerZip                                           83025-0550\n",
       "LoanStatusDate                                               NaN\n",
       "LoanStatus                                           Exemption 4\n",
       "Term                                                          24\n",
       "SBAGuarantyPercentage                                        100\n",
       "InitialApprovalAmount                                   150000.0\n",
       "CurrentApprovalAmount                                   150000.0\n",
       "UndisbursedAmount                                            0.0\n",
       "FranchiseName                                                NaN\n",
       "ServicingLenderLocationID                                  77193\n",
       "ServicingLenderName                         Bank of Jackson Hole\n",
       "ServicingLenderAddress                            990 W Broadway\n",
       "ServicingLenderCity                                      JACKSON\n",
       "ServicingLenderState                                          WY\n",
       "ServicingLenderZip                                         83001\n",
       "RuralUrbanIndicator                                            R\n",
       "HubzoneIndicator                                               N\n",
       "LMIIndicator                                                   N\n",
       "BusinessAgeDescription         Existing or more than 2 years old\n",
       "ProjectCity                                        TETON VILLAGE\n",
       "ProjectCountyName                                          TETON\n",
       "ProjectState                                                  WY\n",
       "ProjectZip                                            83025-0550\n",
       "CD                                                           WY-\n",
       "JobsReported                                                11.0\n",
       "NAICSCode                                               722511.0\n",
       "Race                                                  Unanswered\n",
       "Ethnicity                                      Unknown/NotStated\n",
       "UTILITIES_PROCEED                                            NaN\n",
       "PAYROLL_PROCEED                                         150000.0\n",
       "MORTGAGE_INTEREST_PROCEED                                    NaN\n",
       "RENT_PROCEED                                                 NaN\n",
       "REFINANCE_EIDL_PROCEED                                       NaN\n",
       "HEALTH_CARE_PROCEED                                          NaN\n",
       "DEBT_INTEREST_PROCEED                                        NaN\n",
       "BusinessType                            Subchapter S Corporation\n",
       "OriginatingLenderLocationID                                77193\n",
       "OriginatingLender                           Bank of Jackson Hole\n",
       "OriginatingLenderCity                                    JACKSON\n",
       "OriginatingLenderState                                        WY\n",
       "Gender                                                Unanswered\n",
       "Veteran                                               Unanswered\n",
       "NonProfit                                                    NaN\n",
       "Name: 945919, dtype: object"
      ]
     },
     "execution_count": 75,
     "metadata": {},
     "output_type": "execute_result"
    }
   ],
   "source": [
    "a.iloc[-1]"
   ]
  },
  {
   "cell_type": "code",
   "execution_count": 88,
   "metadata": {},
   "outputs": [
    {
     "data": {
      "text/plain": [
       "'05/01/2020'"
      ]
     },
     "execution_count": 88,
     "metadata": {},
     "output_type": "execute_result"
    }
   ],
   "source": [
    "a.loc[1,'DateApproved']"
   ]
  },
  {
   "cell_type": "code",
   "execution_count": 93,
   "metadata": {
    "scrolled": true
   },
   "outputs": [
    {
     "data": {
      "text/plain": [
       "BorrowerZip\n",
       "00256          1\n",
       "00601          2\n",
       "00602         16\n",
       "00603         25\n",
       "00603-9161     2\n",
       "              ..\n",
       "99925          2\n",
       "99925-0116     1\n",
       "99926-0359     1\n",
       "99929          1\n",
       "99929-2345     1\n",
       "Name: BorrowerName, Length: 509522, dtype: int64"
      ]
     },
     "execution_count": 93,
     "metadata": {},
     "output_type": "execute_result"
    }
   ],
   "source": [
    "a.groupby('BorrowerZip')['BorrowerName'].count()"
   ]
  },
  {
   "cell_type": "code",
   "execution_count": 94,
   "metadata": {},
   "outputs": [
    {
     "data": {
      "text/plain": [
       "BorrowerZip\n",
       "00256          1\n",
       "00601          2\n",
       "00602         15\n",
       "00603         24\n",
       "00603-9161     2\n",
       "              ..\n",
       "99925          2\n",
       "99925-0116     1\n",
       "99926-0359     1\n",
       "99929          1\n",
       "99929-2345     1\n",
       "Name: BorrowerName, Length: 509522, dtype: int64"
      ]
     },
     "execution_count": 94,
     "metadata": {},
     "output_type": "execute_result"
    }
   ],
   "source": [
    "a.groupby('BorrowerZip')['BorrowerName'].nunique()"
   ]
  },
  {
   "cell_type": "code",
   "execution_count": 95,
   "metadata": {},
   "outputs": [
    {
     "data": {
      "text/html": [
       "<div>\n",
       "<style scoped>\n",
       "    .dataframe tbody tr th:only-of-type {\n",
       "        vertical-align: middle;\n",
       "    }\n",
       "\n",
       "    .dataframe tbody tr th {\n",
       "        vertical-align: top;\n",
       "    }\n",
       "\n",
       "    .dataframe thead th {\n",
       "        text-align: right;\n",
       "    }\n",
       "</style>\n",
       "<table border=\"1\" class=\"dataframe\">\n",
       "  <thead>\n",
       "    <tr style=\"text-align: right;\">\n",
       "      <th></th>\n",
       "      <th>LoanNumber</th>\n",
       "      <th>DateApproved</th>\n",
       "      <th>SBAOfficeCode</th>\n",
       "      <th>ProcessingMethod</th>\n",
       "      <th>BorrowerName</th>\n",
       "      <th>BorrowerAddress</th>\n",
       "      <th>BorrowerCity</th>\n",
       "      <th>BorrowerState</th>\n",
       "      <th>LoanStatusDate</th>\n",
       "      <th>LoanStatus</th>\n",
       "      <th>...</th>\n",
       "      <th>HEALTH_CARE_PROCEED</th>\n",
       "      <th>DEBT_INTEREST_PROCEED</th>\n",
       "      <th>BusinessType</th>\n",
       "      <th>OriginatingLenderLocationID</th>\n",
       "      <th>OriginatingLender</th>\n",
       "      <th>OriginatingLenderCity</th>\n",
       "      <th>OriginatingLenderState</th>\n",
       "      <th>Gender</th>\n",
       "      <th>Veteran</th>\n",
       "      <th>NonProfit</th>\n",
       "    </tr>\n",
       "    <tr>\n",
       "      <th>BorrowerZip</th>\n",
       "      <th></th>\n",
       "      <th></th>\n",
       "      <th></th>\n",
       "      <th></th>\n",
       "      <th></th>\n",
       "      <th></th>\n",
       "      <th></th>\n",
       "      <th></th>\n",
       "      <th></th>\n",
       "      <th></th>\n",
       "      <th></th>\n",
       "      <th></th>\n",
       "      <th></th>\n",
       "      <th></th>\n",
       "      <th></th>\n",
       "      <th></th>\n",
       "      <th></th>\n",
       "      <th></th>\n",
       "      <th></th>\n",
       "      <th></th>\n",
       "      <th></th>\n",
       "    </tr>\n",
       "  </thead>\n",
       "  <tbody>\n",
       "    <tr>\n",
       "      <th>00256</th>\n",
       "      <td>1</td>\n",
       "      <td>1</td>\n",
       "      <td>1</td>\n",
       "      <td>1</td>\n",
       "      <td>1</td>\n",
       "      <td>1</td>\n",
       "      <td>1</td>\n",
       "      <td>1</td>\n",
       "      <td>1</td>\n",
       "      <td>1</td>\n",
       "      <td>...</td>\n",
       "      <td>0</td>\n",
       "      <td>0</td>\n",
       "      <td>1</td>\n",
       "      <td>1</td>\n",
       "      <td>1</td>\n",
       "      <td>1</td>\n",
       "      <td>1</td>\n",
       "      <td>1</td>\n",
       "      <td>1</td>\n",
       "      <td>0</td>\n",
       "    </tr>\n",
       "    <tr>\n",
       "      <th>00601</th>\n",
       "      <td>2</td>\n",
       "      <td>2</td>\n",
       "      <td>1</td>\n",
       "      <td>2</td>\n",
       "      <td>2</td>\n",
       "      <td>2</td>\n",
       "      <td>1</td>\n",
       "      <td>1</td>\n",
       "      <td>1</td>\n",
       "      <td>2</td>\n",
       "      <td>...</td>\n",
       "      <td>1</td>\n",
       "      <td>0</td>\n",
       "      <td>1</td>\n",
       "      <td>1</td>\n",
       "      <td>1</td>\n",
       "      <td>1</td>\n",
       "      <td>1</td>\n",
       "      <td>1</td>\n",
       "      <td>1</td>\n",
       "      <td>0</td>\n",
       "    </tr>\n",
       "    <tr>\n",
       "      <th>00602</th>\n",
       "      <td>16</td>\n",
       "      <td>13</td>\n",
       "      <td>1</td>\n",
       "      <td>2</td>\n",
       "      <td>15</td>\n",
       "      <td>16</td>\n",
       "      <td>2</td>\n",
       "      <td>1</td>\n",
       "      <td>6</td>\n",
       "      <td>3</td>\n",
       "      <td>...</td>\n",
       "      <td>0</td>\n",
       "      <td>1</td>\n",
       "      <td>1</td>\n",
       "      <td>2</td>\n",
       "      <td>2</td>\n",
       "      <td>2</td>\n",
       "      <td>1</td>\n",
       "      <td>3</td>\n",
       "      <td>2</td>\n",
       "      <td>0</td>\n",
       "    </tr>\n",
       "    <tr>\n",
       "      <th>00603</th>\n",
       "      <td>25</td>\n",
       "      <td>14</td>\n",
       "      <td>1</td>\n",
       "      <td>2</td>\n",
       "      <td>24</td>\n",
       "      <td>25</td>\n",
       "      <td>3</td>\n",
       "      <td>1</td>\n",
       "      <td>6</td>\n",
       "      <td>3</td>\n",
       "      <td>...</td>\n",
       "      <td>0</td>\n",
       "      <td>0</td>\n",
       "      <td>4</td>\n",
       "      <td>2</td>\n",
       "      <td>2</td>\n",
       "      <td>2</td>\n",
       "      <td>1</td>\n",
       "      <td>2</td>\n",
       "      <td>3</td>\n",
       "      <td>1</td>\n",
       "    </tr>\n",
       "    <tr>\n",
       "      <th>00603-9161</th>\n",
       "      <td>2</td>\n",
       "      <td>1</td>\n",
       "      <td>1</td>\n",
       "      <td>1</td>\n",
       "      <td>2</td>\n",
       "      <td>1</td>\n",
       "      <td>1</td>\n",
       "      <td>1</td>\n",
       "      <td>1</td>\n",
       "      <td>1</td>\n",
       "      <td>...</td>\n",
       "      <td>0</td>\n",
       "      <td>0</td>\n",
       "      <td>1</td>\n",
       "      <td>1</td>\n",
       "      <td>1</td>\n",
       "      <td>1</td>\n",
       "      <td>1</td>\n",
       "      <td>1</td>\n",
       "      <td>1</td>\n",
       "      <td>0</td>\n",
       "    </tr>\n",
       "    <tr>\n",
       "      <th>...</th>\n",
       "      <td>...</td>\n",
       "      <td>...</td>\n",
       "      <td>...</td>\n",
       "      <td>...</td>\n",
       "      <td>...</td>\n",
       "      <td>...</td>\n",
       "      <td>...</td>\n",
       "      <td>...</td>\n",
       "      <td>...</td>\n",
       "      <td>...</td>\n",
       "      <td>...</td>\n",
       "      <td>...</td>\n",
       "      <td>...</td>\n",
       "      <td>...</td>\n",
       "      <td>...</td>\n",
       "      <td>...</td>\n",
       "      <td>...</td>\n",
       "      <td>...</td>\n",
       "      <td>...</td>\n",
       "      <td>...</td>\n",
       "      <td>...</td>\n",
       "    </tr>\n",
       "    <tr>\n",
       "      <th>99925</th>\n",
       "      <td>2</td>\n",
       "      <td>2</td>\n",
       "      <td>1</td>\n",
       "      <td>2</td>\n",
       "      <td>2</td>\n",
       "      <td>2</td>\n",
       "      <td>2</td>\n",
       "      <td>1</td>\n",
       "      <td>1</td>\n",
       "      <td>2</td>\n",
       "      <td>...</td>\n",
       "      <td>0</td>\n",
       "      <td>0</td>\n",
       "      <td>2</td>\n",
       "      <td>2</td>\n",
       "      <td>2</td>\n",
       "      <td>2</td>\n",
       "      <td>2</td>\n",
       "      <td>2</td>\n",
       "      <td>1</td>\n",
       "      <td>0</td>\n",
       "    </tr>\n",
       "    <tr>\n",
       "      <th>99925-0116</th>\n",
       "      <td>1</td>\n",
       "      <td>1</td>\n",
       "      <td>1</td>\n",
       "      <td>1</td>\n",
       "      <td>1</td>\n",
       "      <td>1</td>\n",
       "      <td>1</td>\n",
       "      <td>1</td>\n",
       "      <td>0</td>\n",
       "      <td>1</td>\n",
       "      <td>...</td>\n",
       "      <td>0</td>\n",
       "      <td>0</td>\n",
       "      <td>1</td>\n",
       "      <td>1</td>\n",
       "      <td>1</td>\n",
       "      <td>1</td>\n",
       "      <td>1</td>\n",
       "      <td>1</td>\n",
       "      <td>1</td>\n",
       "      <td>0</td>\n",
       "    </tr>\n",
       "    <tr>\n",
       "      <th>99926-0359</th>\n",
       "      <td>1</td>\n",
       "      <td>1</td>\n",
       "      <td>1</td>\n",
       "      <td>1</td>\n",
       "      <td>1</td>\n",
       "      <td>1</td>\n",
       "      <td>1</td>\n",
       "      <td>1</td>\n",
       "      <td>0</td>\n",
       "      <td>1</td>\n",
       "      <td>...</td>\n",
       "      <td>0</td>\n",
       "      <td>1</td>\n",
       "      <td>1</td>\n",
       "      <td>1</td>\n",
       "      <td>1</td>\n",
       "      <td>1</td>\n",
       "      <td>1</td>\n",
       "      <td>1</td>\n",
       "      <td>1</td>\n",
       "      <td>1</td>\n",
       "    </tr>\n",
       "    <tr>\n",
       "      <th>99929</th>\n",
       "      <td>1</td>\n",
       "      <td>1</td>\n",
       "      <td>1</td>\n",
       "      <td>1</td>\n",
       "      <td>1</td>\n",
       "      <td>1</td>\n",
       "      <td>1</td>\n",
       "      <td>1</td>\n",
       "      <td>0</td>\n",
       "      <td>1</td>\n",
       "      <td>...</td>\n",
       "      <td>0</td>\n",
       "      <td>0</td>\n",
       "      <td>1</td>\n",
       "      <td>1</td>\n",
       "      <td>1</td>\n",
       "      <td>1</td>\n",
       "      <td>1</td>\n",
       "      <td>1</td>\n",
       "      <td>1</td>\n",
       "      <td>0</td>\n",
       "    </tr>\n",
       "    <tr>\n",
       "      <th>99929-2345</th>\n",
       "      <td>1</td>\n",
       "      <td>1</td>\n",
       "      <td>1</td>\n",
       "      <td>1</td>\n",
       "      <td>1</td>\n",
       "      <td>1</td>\n",
       "      <td>1</td>\n",
       "      <td>1</td>\n",
       "      <td>1</td>\n",
       "      <td>1</td>\n",
       "      <td>...</td>\n",
       "      <td>0</td>\n",
       "      <td>0</td>\n",
       "      <td>1</td>\n",
       "      <td>1</td>\n",
       "      <td>1</td>\n",
       "      <td>1</td>\n",
       "      <td>1</td>\n",
       "      <td>1</td>\n",
       "      <td>1</td>\n",
       "      <td>0</td>\n",
       "    </tr>\n",
       "  </tbody>\n",
       "</table>\n",
       "<p>509522 rows × 50 columns</p>\n",
       "</div>"
      ],
      "text/plain": [
       "             LoanNumber  DateApproved  SBAOfficeCode  ProcessingMethod  \\\n",
       "BorrowerZip                                                              \n",
       "00256                 1             1              1                 1   \n",
       "00601                 2             2              1                 2   \n",
       "00602                16            13              1                 2   \n",
       "00603                25            14              1                 2   \n",
       "00603-9161            2             1              1                 1   \n",
       "...                 ...           ...            ...               ...   \n",
       "99925                 2             2              1                 2   \n",
       "99925-0116            1             1              1                 1   \n",
       "99926-0359            1             1              1                 1   \n",
       "99929                 1             1              1                 1   \n",
       "99929-2345            1             1              1                 1   \n",
       "\n",
       "             BorrowerName  BorrowerAddress  BorrowerCity  BorrowerState  \\\n",
       "BorrowerZip                                                               \n",
       "00256                   1                1             1              1   \n",
       "00601                   2                2             1              1   \n",
       "00602                  15               16             2              1   \n",
       "00603                  24               25             3              1   \n",
       "00603-9161              2                1             1              1   \n",
       "...                   ...              ...           ...            ...   \n",
       "99925                   2                2             2              1   \n",
       "99925-0116              1                1             1              1   \n",
       "99926-0359              1                1             1              1   \n",
       "99929                   1                1             1              1   \n",
       "99929-2345              1                1             1              1   \n",
       "\n",
       "             LoanStatusDate  LoanStatus  ...  HEALTH_CARE_PROCEED  \\\n",
       "BorrowerZip                              ...                        \n",
       "00256                     1           1  ...                    0   \n",
       "00601                     1           2  ...                    1   \n",
       "00602                     6           3  ...                    0   \n",
       "00603                     6           3  ...                    0   \n",
       "00603-9161                1           1  ...                    0   \n",
       "...                     ...         ...  ...                  ...   \n",
       "99925                     1           2  ...                    0   \n",
       "99925-0116                0           1  ...                    0   \n",
       "99926-0359                0           1  ...                    0   \n",
       "99929                     0           1  ...                    0   \n",
       "99929-2345                1           1  ...                    0   \n",
       "\n",
       "             DEBT_INTEREST_PROCEED  BusinessType  OriginatingLenderLocationID  \\\n",
       "BorrowerZip                                                                     \n",
       "00256                            0             1                            1   \n",
       "00601                            0             1                            1   \n",
       "00602                            1             1                            2   \n",
       "00603                            0             4                            2   \n",
       "00603-9161                       0             1                            1   \n",
       "...                            ...           ...                          ...   \n",
       "99925                            0             2                            2   \n",
       "99925-0116                       0             1                            1   \n",
       "99926-0359                       1             1                            1   \n",
       "99929                            0             1                            1   \n",
       "99929-2345                       0             1                            1   \n",
       "\n",
       "             OriginatingLender  OriginatingLenderCity  OriginatingLenderState  \\\n",
       "BorrowerZip                                                                     \n",
       "00256                        1                      1                       1   \n",
       "00601                        1                      1                       1   \n",
       "00602                        2                      2                       1   \n",
       "00603                        2                      2                       1   \n",
       "00603-9161                   1                      1                       1   \n",
       "...                        ...                    ...                     ...   \n",
       "99925                        2                      2                       2   \n",
       "99925-0116                   1                      1                       1   \n",
       "99926-0359                   1                      1                       1   \n",
       "99929                        1                      1                       1   \n",
       "99929-2345                   1                      1                       1   \n",
       "\n",
       "             Gender  Veteran  NonProfit  \n",
       "BorrowerZip                              \n",
       "00256             1        1          0  \n",
       "00601             1        1          0  \n",
       "00602             3        2          0  \n",
       "00603             2        3          1  \n",
       "00603-9161        1        1          0  \n",
       "...             ...      ...        ...  \n",
       "99925             2        1          0  \n",
       "99925-0116        1        1          0  \n",
       "99926-0359        1        1          1  \n",
       "99929             1        1          0  \n",
       "99929-2345        1        1          0  \n",
       "\n",
       "[509522 rows x 50 columns]"
      ]
     },
     "execution_count": 95,
     "metadata": {},
     "output_type": "execute_result"
    }
   ],
   "source": [
    "a.groupby('BorrowerZip').nunique()"
   ]
  },
  {
   "cell_type": "code",
   "execution_count": 96,
   "metadata": {},
   "outputs": [
    {
     "data": {
      "text/html": [
       "<div>\n",
       "<style scoped>\n",
       "    .dataframe tbody tr th:only-of-type {\n",
       "        vertical-align: middle;\n",
       "    }\n",
       "\n",
       "    .dataframe tbody tr th {\n",
       "        vertical-align: top;\n",
       "    }\n",
       "\n",
       "    .dataframe thead th {\n",
       "        text-align: right;\n",
       "    }\n",
       "</style>\n",
       "<table border=\"1\" class=\"dataframe\">\n",
       "  <thead>\n",
       "    <tr style=\"text-align: right;\">\n",
       "      <th></th>\n",
       "      <th>0</th>\n",
       "      <th>1</th>\n",
       "      <th>2</th>\n",
       "      <th>3</th>\n",
       "      <th>4</th>\n",
       "      <th>5</th>\n",
       "      <th>6</th>\n",
       "      <th>7</th>\n",
       "      <th>8</th>\n",
       "      <th>9</th>\n",
       "      <th>...</th>\n",
       "      <th>945910</th>\n",
       "      <th>945911</th>\n",
       "      <th>945912</th>\n",
       "      <th>945913</th>\n",
       "      <th>945914</th>\n",
       "      <th>945915</th>\n",
       "      <th>945916</th>\n",
       "      <th>945917</th>\n",
       "      <th>945918</th>\n",
       "      <th>945919</th>\n",
       "    </tr>\n",
       "  </thead>\n",
       "  <tbody>\n",
       "    <tr>\n",
       "      <th>LoanNumber</th>\n",
       "      <td>9547507704</td>\n",
       "      <td>9777677704</td>\n",
       "      <td>5791407702</td>\n",
       "      <td>6223567700</td>\n",
       "      <td>9662437702</td>\n",
       "      <td>9774337701</td>\n",
       "      <td>9794577700</td>\n",
       "      <td>9722187702</td>\n",
       "      <td>9725917702</td>\n",
       "      <td>9666867710</td>\n",
       "      <td>...</td>\n",
       "      <td>1177298301</td>\n",
       "      <td>1641268700</td>\n",
       "      <td>2193718301</td>\n",
       "      <td>2423908306</td>\n",
       "      <td>2665238309</td>\n",
       "      <td>4395967002</td>\n",
       "      <td>6985647108</td>\n",
       "      <td>7996438405</td>\n",
       "      <td>9054647103</td>\n",
       "      <td>9184687004</td>\n",
       "    </tr>\n",
       "    <tr>\n",
       "      <th>DateApproved</th>\n",
       "      <td>05/01/2020</td>\n",
       "      <td>05/01/2020</td>\n",
       "      <td>05/01/2020</td>\n",
       "      <td>05/01/2020</td>\n",
       "      <td>05/01/2020</td>\n",
       "      <td>05/01/2020</td>\n",
       "      <td>05/01/2020</td>\n",
       "      <td>05/01/2020</td>\n",
       "      <td>05/01/2020</td>\n",
       "      <td>05/01/2020</td>\n",
       "      <td>...</td>\n",
       "      <td>01/16/2021</td>\n",
       "      <td>03/27/2021</td>\n",
       "      <td>01/20/2021</td>\n",
       "      <td>01/20/2021</td>\n",
       "      <td>01/21/2021</td>\n",
       "      <td>04/03/2020</td>\n",
       "      <td>04/14/2020</td>\n",
       "      <td>02/12/2021</td>\n",
       "      <td>04/15/2020</td>\n",
       "      <td>04/09/2020</td>\n",
       "    </tr>\n",
       "    <tr>\n",
       "      <th>SBAOfficeCode</th>\n",
       "      <td>464</td>\n",
       "      <td>464</td>\n",
       "      <td>1013</td>\n",
       "      <td>920</td>\n",
       "      <td>101</td>\n",
       "      <td>101</td>\n",
       "      <td>491</td>\n",
       "      <td>101</td>\n",
       "      <td>101</td>\n",
       "      <td>101</td>\n",
       "      <td>...</td>\n",
       "      <td>897</td>\n",
       "      <td>897</td>\n",
       "      <td>897</td>\n",
       "      <td>897</td>\n",
       "      <td>897</td>\n",
       "      <td>897</td>\n",
       "      <td>897</td>\n",
       "      <td>897</td>\n",
       "      <td>897</td>\n",
       "      <td>897</td>\n",
       "    </tr>\n",
       "    <tr>\n",
       "      <th>ProcessingMethod</th>\n",
       "      <td>PPP</td>\n",
       "      <td>PPP</td>\n",
       "      <td>PPP</td>\n",
       "      <td>PPP</td>\n",
       "      <td>PPP</td>\n",
       "      <td>PPP</td>\n",
       "      <td>PPP</td>\n",
       "      <td>PPP</td>\n",
       "      <td>PPP</td>\n",
       "      <td>PPP</td>\n",
       "      <td>...</td>\n",
       "      <td>PPS</td>\n",
       "      <td>PPP</td>\n",
       "      <td>PPS</td>\n",
       "      <td>PPS</td>\n",
       "      <td>PPS</td>\n",
       "      <td>PPP</td>\n",
       "      <td>PPP</td>\n",
       "      <td>PPS</td>\n",
       "      <td>PPP</td>\n",
       "      <td>PPP</td>\n",
       "    </tr>\n",
       "    <tr>\n",
       "      <th>BorrowerName</th>\n",
       "      <td>SUMTER COATINGS, INC.</td>\n",
       "      <td>PLEASANT PLACES, INC.</td>\n",
       "      <td>BOYER CHILDREN'S CLINIC</td>\n",
       "      <td>KIRTLEY CONSTRUCTION INC</td>\n",
       "      <td>AERO BOX LLC</td>\n",
       "      <td>HUDSON EXTRUSIONS INC.</td>\n",
       "      <td>FRUIT COVE BAPTIST CHURCH OF JACKSONVILLE FL INC</td>\n",
       "      <td>MIAMITOWN AUTO PARTS AND RECYCLING INC</td>\n",
       "      <td>POPPYCOCKS INC</td>\n",
       "      <td>CHURCH SQUARE PHARMACY INC</td>\n",
       "      <td>...</td>\n",
       "      <td>ROY E PAULSON, JR., P.C.</td>\n",
       "      <td>THERMAL TECHNOLOGY SERVICES LLC</td>\n",
       "      <td>BASIC BEGINNINGS INC</td>\n",
       "      <td>BSI SERVICES INC</td>\n",
       "      <td>RHOADES DENTAL P.C.</td>\n",
       "      <td>ROY E PAULSON, JR., P.C.</td>\n",
       "      <td>SWEETWATER COUNTY CHILD DEVELOPMENTAL CENTER, ...</td>\n",
       "      <td>ELECTRICAL SYSTEMS OF WYOMING INC</td>\n",
       "      <td>EDEN LIFE CARE</td>\n",
       "      <td>S &amp; S JOHNSON ENTERPRISES INC</td>\n",
       "    </tr>\n",
       "  </tbody>\n",
       "</table>\n",
       "<p>5 rows × 945920 columns</p>\n",
       "</div>"
      ],
      "text/plain": [
       "                                 0                      1       \\\n",
       "LoanNumber                   9547507704             9777677704   \n",
       "DateApproved                 05/01/2020             05/01/2020   \n",
       "SBAOfficeCode                       464                    464   \n",
       "ProcessingMethod                    PPP                    PPP   \n",
       "BorrowerName      SUMTER COATINGS, INC.  PLEASANT PLACES, INC.   \n",
       "\n",
       "                                   2                         3       \\\n",
       "LoanNumber                     5791407702                6223567700   \n",
       "DateApproved                   05/01/2020                05/01/2020   \n",
       "SBAOfficeCode                        1013                       920   \n",
       "ProcessingMethod                      PPP                       PPP   \n",
       "BorrowerName      BOYER CHILDREN'S CLINIC  KIRTLEY CONSTRUCTION INC   \n",
       "\n",
       "                        4                       5       \\\n",
       "LoanNumber          9662437702              9774337701   \n",
       "DateApproved        05/01/2020              05/01/2020   \n",
       "SBAOfficeCode              101                     101   \n",
       "ProcessingMethod           PPP                     PPP   \n",
       "BorrowerName      AERO BOX LLC  HUDSON EXTRUSIONS INC.   \n",
       "\n",
       "                                                            6       \\\n",
       "LoanNumber                                              9794577700   \n",
       "DateApproved                                            05/01/2020   \n",
       "SBAOfficeCode                                                  491   \n",
       "ProcessingMethod                                               PPP   \n",
       "BorrowerName      FRUIT COVE BAPTIST CHURCH OF JACKSONVILLE FL INC   \n",
       "\n",
       "                                                  7               8       \\\n",
       "LoanNumber                                    9722187702      9725917702   \n",
       "DateApproved                                  05/01/2020      05/01/2020   \n",
       "SBAOfficeCode                                        101             101   \n",
       "ProcessingMethod                                     PPP             PPP   \n",
       "BorrowerName      MIAMITOWN AUTO PARTS AND RECYCLING INC  POPPYCOCKS INC   \n",
       "\n",
       "                                      9       ...                    945910  \\\n",
       "LoanNumber                        9666867710  ...                1177298301   \n",
       "DateApproved                      05/01/2020  ...                01/16/2021   \n",
       "SBAOfficeCode                            101  ...                       897   \n",
       "ProcessingMethod                         PPP  ...                       PPS   \n",
       "BorrowerName      CHURCH SQUARE PHARMACY INC  ...  ROY E PAULSON, JR., P.C.   \n",
       "\n",
       "                                           945911                945912  \\\n",
       "LoanNumber                             1641268700            2193718301   \n",
       "DateApproved                           03/27/2021            01/20/2021   \n",
       "SBAOfficeCode                                 897                   897   \n",
       "ProcessingMethod                              PPP                   PPS   \n",
       "BorrowerName      THERMAL TECHNOLOGY SERVICES LLC  BASIC BEGINNINGS INC   \n",
       "\n",
       "                            945913               945914  \\\n",
       "LoanNumber              2423908306           2665238309   \n",
       "DateApproved            01/20/2021           01/21/2021   \n",
       "SBAOfficeCode                  897                  897   \n",
       "ProcessingMethod               PPS                  PPS   \n",
       "BorrowerName      BSI SERVICES INC  RHOADES DENTAL P.C.   \n",
       "\n",
       "                                    945915  \\\n",
       "LoanNumber                      4395967002   \n",
       "DateApproved                    04/03/2020   \n",
       "SBAOfficeCode                          897   \n",
       "ProcessingMethod                       PPP   \n",
       "BorrowerName      ROY E PAULSON, JR., P.C.   \n",
       "\n",
       "                                                             945916  \\\n",
       "LoanNumber                                               6985647108   \n",
       "DateApproved                                             04/14/2020   \n",
       "SBAOfficeCode                                                   897   \n",
       "ProcessingMethod                                                PPP   \n",
       "BorrowerName      SWEETWATER COUNTY CHILD DEVELOPMENTAL CENTER, ...   \n",
       "\n",
       "                                             945917          945918  \\\n",
       "LoanNumber                               7996438405      9054647103   \n",
       "DateApproved                             02/12/2021      04/15/2020   \n",
       "SBAOfficeCode                                   897             897   \n",
       "ProcessingMethod                                PPS             PPP   \n",
       "BorrowerName      ELECTRICAL SYSTEMS OF WYOMING INC  EDEN LIFE CARE   \n",
       "\n",
       "                                         945919  \n",
       "LoanNumber                           9184687004  \n",
       "DateApproved                         04/09/2020  \n",
       "SBAOfficeCode                               897  \n",
       "ProcessingMethod                            PPP  \n",
       "BorrowerName      S & S JOHNSON ENTERPRISES INC  \n",
       "\n",
       "[5 rows x 945920 columns]"
      ]
     },
     "execution_count": 96,
     "metadata": {},
     "output_type": "execute_result"
    }
   ],
   "source": [
    "a.T.head()"
   ]
  },
  {
   "cell_type": "code",
   "execution_count": 97,
   "metadata": {},
   "outputs": [
    {
     "data": {
      "text/plain": [
       "LoanNumber                     900000\n",
       "DateApproved                   900000\n",
       "SBAOfficeCode                  899992\n",
       "ProcessingMethod               900000\n",
       "BorrowerName                   899997\n",
       "BorrowerAddress                899870\n",
       "BorrowerCity                   899870\n",
       "BorrowerState                  899864\n",
       "BorrowerZip                    899872\n",
       "LoanStatusDate                 251987\n",
       "LoanStatus                     900000\n",
       "Term                           900000\n",
       "SBAGuarantyPercentage          900000\n",
       "InitialApprovalAmount          900000\n",
       "CurrentApprovalAmount          900000\n",
       "UndisbursedAmount              899462\n",
       "FranchiseName                   14508\n",
       "ServicingLenderLocationID      899992\n",
       "ServicingLenderName            899992\n",
       "ServicingLenderAddress         899992\n",
       "ServicingLenderCity            899992\n",
       "ServicingLenderState           899992\n",
       "ServicingLenderZip             899992\n",
       "RuralUrbanIndicator            900000\n",
       "HubzoneIndicator               900000\n",
       "LMIIndicator                   899999\n",
       "BusinessAgeDescription         900000\n",
       "ProjectCity                    899868\n",
       "ProjectCountyName              899786\n",
       "ProjectState                   899885\n",
       "ProjectZip                     899870\n",
       "CD                             899798\n",
       "JobsReported                   900000\n",
       "NAICSCode                      882350\n",
       "Race                           900000\n",
       "Ethnicity                      900000\n",
       "UTILITIES_PROCEED              270781\n",
       "PAYROLL_PROCEED                898882\n",
       "MORTGAGE_INTEREST_PROCEED       23194\n",
       "RENT_PROCEED                    57787\n",
       "REFINANCE_EIDL_PROCEED          10658\n",
       "HEALTH_CARE_PROCEED             22293\n",
       "DEBT_INTEREST_PROCEED           13872\n",
       "BusinessType                   899803\n",
       "OriginatingLenderLocationID    899992\n",
       "OriginatingLender              899992\n",
       "OriginatingLenderCity          899992\n",
       "OriginatingLenderState         899992\n",
       "Gender                         900000\n",
       "Veteran                        900000\n",
       "NonProfit                       20756\n",
       "dtype: int64"
      ]
     },
     "execution_count": 97,
     "metadata": {},
     "output_type": "execute_result"
    }
   ],
   "source": [
    "b.count()"
   ]
  },
  {
   "cell_type": "code",
   "execution_count": 98,
   "metadata": {},
   "outputs": [
    {
     "data": {
      "text/plain": [
       "128"
      ]
     },
     "execution_count": 98,
     "metadata": {},
     "output_type": "execute_result"
    }
   ],
   "source": [
    "900000 - 899872"
   ]
  },
  {
   "cell_type": "code",
   "execution_count": 99,
   "metadata": {},
   "outputs": [],
   "source": [
    "b_missing_dropped = b.dropna()"
   ]
  },
  {
   "cell_type": "code",
   "execution_count": 102,
   "metadata": {},
   "outputs": [
    {
     "data": {
      "text/plain": [
       "(900000, 51)"
      ]
     },
     "execution_count": 102,
     "metadata": {},
     "output_type": "execute_result"
    }
   ],
   "source": [
    "b.shape"
   ]
  },
  {
   "cell_type": "code",
   "execution_count": 103,
   "metadata": {},
   "outputs": [
    {
     "data": {
      "text/plain": [
       "(0, 51)"
      ]
     },
     "execution_count": 103,
     "metadata": {},
     "output_type": "execute_result"
    }
   ],
   "source": [
    "b_missing_dropped.shape"
   ]
  },
  {
   "cell_type": "code",
   "execution_count": 104,
   "metadata": {},
   "outputs": [
    {
     "data": {
      "text/html": [
       "<div>\n",
       "<style scoped>\n",
       "    .dataframe tbody tr th:only-of-type {\n",
       "        vertical-align: middle;\n",
       "    }\n",
       "\n",
       "    .dataframe tbody tr th {\n",
       "        vertical-align: top;\n",
       "    }\n",
       "\n",
       "    .dataframe thead th {\n",
       "        text-align: right;\n",
       "    }\n",
       "</style>\n",
       "<table border=\"1\" class=\"dataframe\">\n",
       "  <thead>\n",
       "    <tr style=\"text-align: right;\">\n",
       "      <th></th>\n",
       "      <th>LoanNumber</th>\n",
       "      <th>SBAOfficeCode</th>\n",
       "      <th>Term</th>\n",
       "      <th>SBAGuarantyPercentage</th>\n",
       "      <th>InitialApprovalAmount</th>\n",
       "      <th>CurrentApprovalAmount</th>\n",
       "      <th>UndisbursedAmount</th>\n",
       "      <th>ServicingLenderLocationID</th>\n",
       "      <th>JobsReported</th>\n",
       "      <th>NAICSCode</th>\n",
       "      <th>UTILITIES_PROCEED</th>\n",
       "      <th>PAYROLL_PROCEED</th>\n",
       "      <th>MORTGAGE_INTEREST_PROCEED</th>\n",
       "      <th>RENT_PROCEED</th>\n",
       "      <th>REFINANCE_EIDL_PROCEED</th>\n",
       "      <th>HEALTH_CARE_PROCEED</th>\n",
       "      <th>DEBT_INTEREST_PROCEED</th>\n",
       "      <th>OriginatingLenderLocationID</th>\n",
       "    </tr>\n",
       "  </thead>\n",
       "  <tbody>\n",
       "    <tr>\n",
       "      <th>count</th>\n",
       "      <td>9.459200e+05</td>\n",
       "      <td>945920.000000</td>\n",
       "      <td>945920.000000</td>\n",
       "      <td>945920.0</td>\n",
       "      <td>9.459200e+05</td>\n",
       "      <td>9.459200e+05</td>\n",
       "      <td>9.450740e+05</td>\n",
       "      <td>945920.000000</td>\n",
       "      <td>945919.000000</td>\n",
       "      <td>939273.000000</td>\n",
       "      <td>3.247410e+05</td>\n",
       "      <td>9.440930e+05</td>\n",
       "      <td>4.649300e+04</td>\n",
       "      <td>9.966500e+04</td>\n",
       "      <td>2.327000e+04</td>\n",
       "      <td>5.758100e+04</td>\n",
       "      <td>3.199300e+04</td>\n",
       "      <td>945920.000000</td>\n",
       "    </tr>\n",
       "    <tr>\n",
       "      <th>mean</th>\n",
       "      <td>5.423559e+09</td>\n",
       "      <td>571.706436</td>\n",
       "      <td>35.705829</td>\n",
       "      <td>100.0</td>\n",
       "      <td>5.318829e+05</td>\n",
       "      <td>5.302417e+05</td>\n",
       "      <td>2.946130e+04</td>\n",
       "      <td>109083.040470</td>\n",
       "      <td>51.795458</td>\n",
       "      <td>511408.020275</td>\n",
       "      <td>1.561303e+04</td>\n",
       "      <td>5.141111e+05</td>\n",
       "      <td>4.784875e+04</td>\n",
       "      <td>5.613811e+04</td>\n",
       "      <td>6.796852e+03</td>\n",
       "      <td>4.675724e+04</td>\n",
       "      <td>1.423753e+04</td>\n",
       "      <td>108780.062155</td>\n",
       "    </tr>\n",
       "    <tr>\n",
       "      <th>std</th>\n",
       "      <td>2.553008e+09</td>\n",
       "      <td>262.825855</td>\n",
       "      <td>16.863922</td>\n",
       "      <td>0.0</td>\n",
       "      <td>7.419365e+05</td>\n",
       "      <td>7.354173e+05</td>\n",
       "      <td>1.753747e+05</td>\n",
       "      <td>134597.099364</td>\n",
       "      <td>67.383287</td>\n",
       "      <td>181018.322440</td>\n",
       "      <td>8.678965e+04</td>\n",
       "      <td>7.108952e+05</td>\n",
       "      <td>1.586303e+05</td>\n",
       "      <td>1.113372e+05</td>\n",
       "      <td>6.160987e+04</td>\n",
       "      <td>1.028171e+05</td>\n",
       "      <td>5.526985e+04</td>\n",
       "      <td>136188.947435</td>\n",
       "    </tr>\n",
       "    <tr>\n",
       "      <th>min</th>\n",
       "      <td>1.000007e+09</td>\n",
       "      <td>101.000000</td>\n",
       "      <td>19.000000</td>\n",
       "      <td>100.0</td>\n",
       "      <td>0.000000e+00</td>\n",
       "      <td>1.500000e+05</td>\n",
       "      <td>0.000000e+00</td>\n",
       "      <td>20.000000</td>\n",
       "      <td>0.000000</td>\n",
       "      <td>111110.000000</td>\n",
       "      <td>0.000000e+00</td>\n",
       "      <td>0.000000e+00</td>\n",
       "      <td>0.000000e+00</td>\n",
       "      <td>0.000000e+00</td>\n",
       "      <td>0.000000e+00</td>\n",
       "      <td>0.000000e+00</td>\n",
       "      <td>0.000000e+00</td>\n",
       "      <td>20.000000</td>\n",
       "    </tr>\n",
       "    <tr>\n",
       "      <th>25%</th>\n",
       "      <td>3.260973e+09</td>\n",
       "      <td>373.000000</td>\n",
       "      <td>24.000000</td>\n",
       "      <td>100.0</td>\n",
       "      <td>2.001040e+05</td>\n",
       "      <td>2.003130e+05</td>\n",
       "      <td>0.000000e+00</td>\n",
       "      <td>29805.000000</td>\n",
       "      <td>18.000000</td>\n",
       "      <td>336612.000000</td>\n",
       "      <td>1.000000e+00</td>\n",
       "      <td>1.954000e+05</td>\n",
       "      <td>0.000000e+00</td>\n",
       "      <td>1.350000e+04</td>\n",
       "      <td>0.000000e+00</td>\n",
       "      <td>8.000000e+03</td>\n",
       "      <td>0.000000e+00</td>\n",
       "      <td>29805.000000</td>\n",
       "    </tr>\n",
       "    <tr>\n",
       "      <th>50%</th>\n",
       "      <td>5.398237e+09</td>\n",
       "      <td>515.000000</td>\n",
       "      <td>24.000000</td>\n",
       "      <td>100.0</td>\n",
       "      <td>2.950750e+05</td>\n",
       "      <td>2.950000e+05</td>\n",
       "      <td>0.000000e+00</td>\n",
       "      <td>57328.000000</td>\n",
       "      <td>30.000000</td>\n",
       "      <td>541211.000000</td>\n",
       "      <td>1.000000e+00</td>\n",
       "      <td>2.868000e+05</td>\n",
       "      <td>9.500000e+03</td>\n",
       "      <td>2.880000e+04</td>\n",
       "      <td>0.000000e+00</td>\n",
       "      <td>1.935000e+04</td>\n",
       "      <td>4.000000e+02</td>\n",
       "      <td>56102.000000</td>\n",
       "    </tr>\n",
       "    <tr>\n",
       "      <th>75%</th>\n",
       "      <td>7.546181e+09</td>\n",
       "      <td>811.000000</td>\n",
       "      <td>60.000000</td>\n",
       "      <td>100.0</td>\n",
       "      <td>5.400000e+05</td>\n",
       "      <td>5.390000e+05</td>\n",
       "      <td>0.000000e+00</td>\n",
       "      <td>117723.000000</td>\n",
       "      <td>54.000000</td>\n",
       "      <td>622110.000000</td>\n",
       "      <td>5.000000e+03</td>\n",
       "      <td>5.239000e+05</td>\n",
       "      <td>4.000000e+04</td>\n",
       "      <td>5.620000e+04</td>\n",
       "      <td>0.000000e+00</td>\n",
       "      <td>4.397500e+04</td>\n",
       "      <td>9.636000e+03</td>\n",
       "      <td>113190.000000</td>\n",
       "    </tr>\n",
       "    <tr>\n",
       "      <th>max</th>\n",
       "      <td>9.999007e+09</td>\n",
       "      <td>1094.000000</td>\n",
       "      <td>60.000000</td>\n",
       "      <td>100.0</td>\n",
       "      <td>1.000000e+07</td>\n",
       "      <td>1.000000e+07</td>\n",
       "      <td>1.000000e+07</td>\n",
       "      <td>532950.000000</td>\n",
       "      <td>500.000000</td>\n",
       "      <td>999990.000000</td>\n",
       "      <td>1.000000e+07</td>\n",
       "      <td>1.000000e+07</td>\n",
       "      <td>1.000000e+07</td>\n",
       "      <td>5.518278e+06</td>\n",
       "      <td>2.951590e+06</td>\n",
       "      <td>3.880000e+06</td>\n",
       "      <td>2.497617e+06</td>\n",
       "      <td>532950.000000</td>\n",
       "    </tr>\n",
       "  </tbody>\n",
       "</table>\n",
       "</div>"
      ],
      "text/plain": [
       "         LoanNumber  SBAOfficeCode           Term  SBAGuarantyPercentage  \\\n",
       "count  9.459200e+05  945920.000000  945920.000000               945920.0   \n",
       "mean   5.423559e+09     571.706436      35.705829                  100.0   \n",
       "std    2.553008e+09     262.825855      16.863922                    0.0   \n",
       "min    1.000007e+09     101.000000      19.000000                  100.0   \n",
       "25%    3.260973e+09     373.000000      24.000000                  100.0   \n",
       "50%    5.398237e+09     515.000000      24.000000                  100.0   \n",
       "75%    7.546181e+09     811.000000      60.000000                  100.0   \n",
       "max    9.999007e+09    1094.000000      60.000000                  100.0   \n",
       "\n",
       "       InitialApprovalAmount  CurrentApprovalAmount  UndisbursedAmount  \\\n",
       "count           9.459200e+05           9.459200e+05       9.450740e+05   \n",
       "mean            5.318829e+05           5.302417e+05       2.946130e+04   \n",
       "std             7.419365e+05           7.354173e+05       1.753747e+05   \n",
       "min             0.000000e+00           1.500000e+05       0.000000e+00   \n",
       "25%             2.001040e+05           2.003130e+05       0.000000e+00   \n",
       "50%             2.950750e+05           2.950000e+05       0.000000e+00   \n",
       "75%             5.400000e+05           5.390000e+05       0.000000e+00   \n",
       "max             1.000000e+07           1.000000e+07       1.000000e+07   \n",
       "\n",
       "       ServicingLenderLocationID   JobsReported      NAICSCode  \\\n",
       "count              945920.000000  945919.000000  939273.000000   \n",
       "mean               109083.040470      51.795458  511408.020275   \n",
       "std                134597.099364      67.383287  181018.322440   \n",
       "min                    20.000000       0.000000  111110.000000   \n",
       "25%                 29805.000000      18.000000  336612.000000   \n",
       "50%                 57328.000000      30.000000  541211.000000   \n",
       "75%                117723.000000      54.000000  622110.000000   \n",
       "max                532950.000000     500.000000  999990.000000   \n",
       "\n",
       "       UTILITIES_PROCEED  PAYROLL_PROCEED  MORTGAGE_INTEREST_PROCEED  \\\n",
       "count       3.247410e+05     9.440930e+05               4.649300e+04   \n",
       "mean        1.561303e+04     5.141111e+05               4.784875e+04   \n",
       "std         8.678965e+04     7.108952e+05               1.586303e+05   \n",
       "min         0.000000e+00     0.000000e+00               0.000000e+00   \n",
       "25%         1.000000e+00     1.954000e+05               0.000000e+00   \n",
       "50%         1.000000e+00     2.868000e+05               9.500000e+03   \n",
       "75%         5.000000e+03     5.239000e+05               4.000000e+04   \n",
       "max         1.000000e+07     1.000000e+07               1.000000e+07   \n",
       "\n",
       "       RENT_PROCEED  REFINANCE_EIDL_PROCEED  HEALTH_CARE_PROCEED  \\\n",
       "count  9.966500e+04            2.327000e+04         5.758100e+04   \n",
       "mean   5.613811e+04            6.796852e+03         4.675724e+04   \n",
       "std    1.113372e+05            6.160987e+04         1.028171e+05   \n",
       "min    0.000000e+00            0.000000e+00         0.000000e+00   \n",
       "25%    1.350000e+04            0.000000e+00         8.000000e+03   \n",
       "50%    2.880000e+04            0.000000e+00         1.935000e+04   \n",
       "75%    5.620000e+04            0.000000e+00         4.397500e+04   \n",
       "max    5.518278e+06            2.951590e+06         3.880000e+06   \n",
       "\n",
       "       DEBT_INTEREST_PROCEED  OriginatingLenderLocationID  \n",
       "count           3.199300e+04                945920.000000  \n",
       "mean            1.423753e+04                108780.062155  \n",
       "std             5.526985e+04                136188.947435  \n",
       "min             0.000000e+00                    20.000000  \n",
       "25%             0.000000e+00                 29805.000000  \n",
       "50%             4.000000e+02                 56102.000000  \n",
       "75%             9.636000e+03                113190.000000  \n",
       "max             2.497617e+06                532950.000000  "
      ]
     },
     "execution_count": 104,
     "metadata": {},
     "output_type": "execute_result"
    }
   ],
   "source": [
    "a.describe()"
   ]
  },
  {
   "cell_type": "code",
   "execution_count": 106,
   "metadata": {},
   "outputs": [
    {
     "name": "stdout",
     "output_type": "stream",
     "text": [
      " 21:54:29 up  1:12,  1 user,  load average: 0.00, 0.02, 0.00\r\n"
     ]
    }
   ],
   "source": [
    "!uptime"
   ]
  },
  {
   "cell_type": "code",
   "execution_count": null,
   "metadata": {},
   "outputs": [],
   "source": []
  }
 ],
 "metadata": {
  "kernelspec": {
   "display_name": "Python 3",
   "language": "python",
   "name": "python3"
  },
  "language_info": {
   "codemirror_mode": {
    "name": "ipython",
    "version": 3
   },
   "file_extension": ".py",
   "mimetype": "text/x-python",
   "name": "python",
   "nbconvert_exporter": "python",
   "pygments_lexer": "ipython3",
   "version": "3.7.9"
  }
 },
 "nbformat": 4,
 "nbformat_minor": 4
}

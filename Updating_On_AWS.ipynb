{
 "cells": [
  {
   "cell_type": "code",
   "execution_count": null,
   "metadata": {
    "scrolled": false
   },
   "outputs": [],
   "source": [
    "!wget https://data.sba.gov/dataset/ppp-foia/resource/6b62a44b-69ec-436a-9b95-0ea550475543"
   ]
  },
  {
   "cell_type": "code",
   "execution_count": null,
   "metadata": {
    "scrolled": false
   },
   "outputs": [],
   "source": [
    "!wget https://data.sba.gov/dataset/8aa276e2-6cab-4f86-aca4-a7dde42adf24/resource/6b62a44b-69ec-436a-9b95-0ea550475543/download/public_150k_plus.csv"
   ]
  },
  {
   "cell_type": "markdown",
   "metadata": {},
   "source": [
    "Above from https://data.sba.gov/dataset/ppp-foia/resource/6b62a44b-69ec-436a-9b95-0ea550475543"
   ]
  },
  {
   "cell_type": "code",
   "execution_count": null,
   "metadata": {
    "scrolled": false
   },
   "outputs": [],
   "source": [
    "import pandas as pd\n",
    "import matplotlib.pyplot as plt\n",
    "import numpy as np\n",
    "import datetime\n",
    "%matplotlib inline"
   ]
  },
  {
   "cell_type": "code",
   "execution_count": null,
   "metadata": {
    "scrolled": false
   },
   "outputs": [],
   "source": [
    "!wget https://data.sba.gov/dataset/8aa276e2-6cab-4f86-aca4-a7dde42adf24/resource/6b62a44b-69ec-436a-9b95-0ea550475543/download/public_150k_plus.csv"
   ]
  },
  {
   "cell_type": "code",
   "execution_count": null,
   "metadata": {
    "scrolled": false
   },
   "outputs": [],
   "source": [
    "!ls -alt "
   ]
  },
  {
   "cell_type": "code",
   "execution_count": null,
   "metadata": {
    "scrolled": false
   },
   "outputs": [],
   "source": [
    "df_all_high_SBA = pd.read_csv('public_150k_plus.csv')"
   ]
  },
  {
   "cell_type": "code",
   "execution_count": null,
   "metadata": {
    "scrolled": true
   },
   "outputs": [],
   "source": [
    "!diff public_150k_plus.csv public_150k_plus.csv.1"
   ]
  },
  {
   "cell_type": "code",
   "execution_count": null,
   "metadata": {
    "scrolled": false
   },
   "outputs": [],
   "source": [
    "a = df_all_high_SBA"
   ]
  },
  {
   "cell_type": "code",
   "execution_count": null,
   "metadata": {
    "scrolled": false
   },
   "outputs": [],
   "source": [
    "len(a)"
   ]
  },
  {
   "cell_type": "code",
   "execution_count": null,
   "metadata": {
    "scrolled": false
   },
   "outputs": [],
   "source": []
  },
  {
   "cell_type": "code",
   "execution_count": null,
   "metadata": {
    "scrolled": false
   },
   "outputs": [],
   "source": [
    "!wget https://data.sba.gov/dataset/8aa276e2-6cab-4f86-aca4-a7dde42adf24/resource/ffd0bdb7-cc41-4adb-9762-8957d61c1862/download/public_up_to_150k_1.csv"
   ]
  },
  {
   "cell_type": "code",
   "execution_count": null,
   "metadata": {
    "scrolled": false
   },
   "outputs": [],
   "source": [
    "df_below_150_SBA_1 = pd.read_csv('public_up_to_150k_1.csv')"
   ]
  },
  {
   "cell_type": "code",
   "execution_count": null,
   "metadata": {
    "scrolled": false
   },
   "outputs": [],
   "source": [
    "b = df_below_150_SBA_1"
   ]
  },
  {
   "cell_type": "code",
   "execution_count": null,
   "metadata": {
    "scrolled": false
   },
   "outputs": [],
   "source": [
    "len(b)"
   ]
  },
  {
   "cell_type": "code",
   "execution_count": null,
   "metadata": {
    "scrolled": false
   },
   "outputs": [],
   "source": []
  },
  {
   "cell_type": "code",
   "execution_count": null,
   "metadata": {
    "scrolled": false
   },
   "outputs": [],
   "source": [
    "!wget https://data.sba.gov/dataset/8aa276e2-6cab-4f86-aca4-a7dde42adf24/resource/ffd0bdb7-cc41-4adb-9762-8957d61c1862/download/public_up_to_150k_2.csv"
   ]
  },
  {
   "cell_type": "code",
   "execution_count": null,
   "metadata": {
    "scrolled": false
   },
   "outputs": [],
   "source": [
    "df_below_150_SBA_2 = pd.read_csv('public_up_to_150k_2.csv')"
   ]
  },
  {
   "cell_type": "code",
   "execution_count": null,
   "metadata": {
    "scrolled": false
   },
   "outputs": [],
   "source": [
    "c = df_below_150_SBA_2"
   ]
  },
  {
   "cell_type": "code",
   "execution_count": null,
   "metadata": {
    "scrolled": false
   },
   "outputs": [],
   "source": [
    "len(c)"
   ]
  },
  {
   "cell_type": "code",
   "execution_count": null,
   "metadata": {
    "scrolled": false
   },
   "outputs": [],
   "source": []
  },
  {
   "cell_type": "code",
   "execution_count": null,
   "metadata": {
    "scrolled": false
   },
   "outputs": [],
   "source": [
    "!wget https://data.sba.gov/dataset/8aa276e2-6cab-4f86-aca4-a7dde42adf24/resource/ffd0bdb7-cc41-4adb-9762-8957d61c1862/download/public_up_to_150k_3.csv"
   ]
  },
  {
   "cell_type": "code",
   "execution_count": null,
   "metadata": {
    "scrolled": false
   },
   "outputs": [],
   "source": [
    "df_below_150_3_SBA = pd.read_csv('public_up_to_150k_3.csv')"
   ]
  },
  {
   "cell_type": "code",
   "execution_count": null,
   "metadata": {
    "scrolled": false
   },
   "outputs": [],
   "source": [
    "d = df_below_150_3_SBA"
   ]
  },
  {
   "cell_type": "code",
   "execution_count": null,
   "metadata": {
    "scrolled": false
   },
   "outputs": [],
   "source": [
    "len(d)"
   ]
  },
  {
   "cell_type": "code",
   "execution_count": null,
   "metadata": {
    "scrolled": false
   },
   "outputs": [],
   "source": [
    "!wget https://data.sba.gov/dataset/8aa276e2-6cab-4f86-aca4-a7dde42adf24/resource/864cd9cb-7797-42da-b991-68ac24fcab9a/download/public_up_to_150k_4.csv"
   ]
  },
  {
   "cell_type": "code",
   "execution_count": null,
   "metadata": {
    "scrolled": false
   },
   "outputs": [],
   "source": [
    "df_below_150_4_SBA = pd.read_csv('public_up_to_150k_4.csv')"
   ]
  },
  {
   "cell_type": "code",
   "execution_count": null,
   "metadata": {
    "scrolled": false
   },
   "outputs": [],
   "source": [
    "e = df_below_150_4_SBA"
   ]
  },
  {
   "cell_type": "code",
   "execution_count": null,
   "metadata": {
    "scrolled": false
   },
   "outputs": [],
   "source": [
    "len(e)"
   ]
  },
  {
   "cell_type": "code",
   "execution_count": null,
   "metadata": {
    "scrolled": false
   },
   "outputs": [],
   "source": [
    "!df -k"
   ]
  },
  {
   "cell_type": "code",
   "execution_count": null,
   "metadata": {
    "scrolled": false
   },
   "outputs": [],
   "source": [
    "!wget https://data.sba.gov/dataset/8aa276e2-6cab-4f86-aca4-a7dde42adf24/resource/3032cb97-3a22-4ded-a0ca-69bdf54cdc32/download/public_up_to_150k_5.csv"
   ]
  },
  {
   "cell_type": "code",
   "execution_count": null,
   "metadata": {
    "scrolled": false
   },
   "outputs": [],
   "source": [
    "df_below_150_5_SBA = pd.read_csv('public_up_to_150k_5.csv')"
   ]
  },
  {
   "cell_type": "code",
   "execution_count": null,
   "metadata": {
    "scrolled": false
   },
   "outputs": [],
   "source": [
    "f = df_below_150_5_SBA"
   ]
  },
  {
   "cell_type": "code",
   "execution_count": null,
   "metadata": {
    "scrolled": false
   },
   "outputs": [],
   "source": [
    "len(f)"
   ]
  },
  {
   "cell_type": "code",
   "execution_count": null,
   "metadata": {
    "scrolled": false
   },
   "outputs": [],
   "source": [
    "!wget https://data.sba.gov/dataset/8aa276e2-6cab-4f86-aca4-a7dde42adf24/resource/8fd56c55-8ad6-491e-a219-441c50471e4d/download/public_up_to_150k_6.csv"
   ]
  },
  {
   "cell_type": "code",
   "execution_count": null,
   "metadata": {
    "scrolled": false
   },
   "outputs": [],
   "source": [
    "df_below_150_6_SBA = pd.read_csv('public_up_to_150k_6.csv')"
   ]
  },
  {
   "cell_type": "code",
   "execution_count": null,
   "metadata": {
    "scrolled": false
   },
   "outputs": [],
   "source": [
    "g = df_below_150_6_SBA"
   ]
  },
  {
   "cell_type": "code",
   "execution_count": null,
   "metadata": {
    "scrolled": false
   },
   "outputs": [],
   "source": [
    "len(g)"
   ]
  },
  {
   "cell_type": "code",
   "execution_count": null,
   "metadata": {
    "scrolled": false
   },
   "outputs": [],
   "source": [
    "!wget https://data.sba.gov/dataset/8aa276e2-6cab-4f86-aca4-a7dde42adf24/resource/7fd17fde-42a9-4a5a-8be9-dfbc6703e5f3/download/public_up_to_150k_7.csv"
   ]
  },
  {
   "cell_type": "code",
   "execution_count": null,
   "metadata": {
    "scrolled": false
   },
   "outputs": [],
   "source": [
    "df_below_150_7_SBA = pd.read_csv('public_up_to_150k_7.csv')"
   ]
  },
  {
   "cell_type": "code",
   "execution_count": null,
   "metadata": {
    "scrolled": false
   },
   "outputs": [],
   "source": [
    "h = df_below_150_7_SBA"
   ]
  },
  {
   "cell_type": "code",
   "execution_count": null,
   "metadata": {
    "scrolled": false
   },
   "outputs": [],
   "source": [
    "len(h)"
   ]
  },
  {
   "cell_type": "code",
   "execution_count": null,
   "metadata": {
    "scrolled": false
   },
   "outputs": [],
   "source": [
    "!wget https://data.sba.gov/dataset/8aa276e2-6cab-4f86-aca4-a7dde42adf24/resource/c0c87f18-333a-43e8-843e-7c1e27b18317/download/public_up_to_150k_8.csv"
   ]
  },
  {
   "cell_type": "code",
   "execution_count": null,
   "metadata": {
    "scrolled": false
   },
   "outputs": [],
   "source": [
    "df_below_150_8_SBA = pd.read_csv('public_up_to_150k_8.csv')"
   ]
  },
  {
   "cell_type": "code",
   "execution_count": null,
   "metadata": {
    "scrolled": false
   },
   "outputs": [],
   "source": [
    "i = df_below_150_8_SBA"
   ]
  },
  {
   "cell_type": "code",
   "execution_count": null,
   "metadata": {
    "scrolled": false
   },
   "outputs": [],
   "source": [
    "len(i)"
   ]
  },
  {
   "cell_type": "code",
   "execution_count": null,
   "metadata": {
    "scrolled": false
   },
   "outputs": [],
   "source": []
  },
  {
   "cell_type": "code",
   "execution_count": null,
   "metadata": {
    "scrolled": false
   },
   "outputs": [],
   "source": [
    "!wget https://data.sba.gov/dataset/8aa276e2-6cab-4f86-aca4-a7dde42adf24/resource/88d9f6f7-b471-4f5b-ae3e-7b9d7b394ad2/download/public_up_to_150k_9.csv"
   ]
  },
  {
   "cell_type": "code",
   "execution_count": null,
   "metadata": {
    "scrolled": false
   },
   "outputs": [],
   "source": [
    "df_below_150_9_SBA = pd.read_csv('public_up_to_150k_9.csv')"
   ]
  },
  {
   "cell_type": "code",
   "execution_count": null,
   "metadata": {
    "scrolled": false
   },
   "outputs": [],
   "source": [
    "j = df_below_150_9_SBA"
   ]
  },
  {
   "cell_type": "code",
   "execution_count": null,
   "metadata": {
    "scrolled": false
   },
   "outputs": [],
   "source": [
    "len(j)"
   ]
  },
  {
   "cell_type": "code",
   "execution_count": null,
   "metadata": {
    "scrolled": false
   },
   "outputs": [],
   "source": []
  },
  {
   "cell_type": "code",
   "execution_count": null,
   "metadata": {
    "scrolled": false
   },
   "outputs": [],
   "source": [
    "!wget https://data.sba.gov/dataset/8aa276e2-6cab-4f86-aca4-a7dde42adf24/resource/88d9f6f7-b471-4f5b-ae3e-7b9d7b394ad2/download/public_up_to_150k_10.csv"
   ]
  },
  {
   "cell_type": "code",
   "execution_count": null,
   "metadata": {
    "scrolled": false
   },
   "outputs": [],
   "source": [
    "df_below_150_10_SBA = pd.read_csv('public_up_to_150k_10.csv')"
   ]
  },
  {
   "cell_type": "code",
   "execution_count": null,
   "metadata": {
    "scrolled": false
   },
   "outputs": [],
   "source": [
    "k = df_below_150_10_SBA"
   ]
  },
  {
   "cell_type": "code",
   "execution_count": null,
   "metadata": {
    "scrolled": false
   },
   "outputs": [],
   "source": [
    "len(k)"
   ]
  },
  {
   "cell_type": "code",
   "execution_count": null,
   "metadata": {
    "scrolled": false
   },
   "outputs": [],
   "source": []
  },
  {
   "cell_type": "code",
   "execution_count": null,
   "metadata": {
    "scrolled": false
   },
   "outputs": [],
   "source": [
    "!wget https://data.sba.gov/dataset/8aa276e2-6cab-4f86-aca4-a7dde42adf24/resource/88d9f6f7-b471-4f5b-ae3e-7b9d7b394ad2/download/public_up_to_150k_11.csv"
   ]
  },
  {
   "cell_type": "code",
   "execution_count": null,
   "metadata": {
    "scrolled": false
   },
   "outputs": [],
   "source": [
    "df_below_150_11_SBA = pd.read_csv('public_up_to_150k_11.csv')"
   ]
  },
  {
   "cell_type": "code",
   "execution_count": null,
   "metadata": {
    "scrolled": false
   },
   "outputs": [],
   "source": [
    "l = df_below_150_11_SBA"
   ]
  },
  {
   "cell_type": "code",
   "execution_count": null,
   "metadata": {
    "scrolled": false
   },
   "outputs": [],
   "source": [
    "len(l)"
   ]
  },
  {
   "cell_type": "code",
   "execution_count": null,
   "metadata": {
    "scrolled": false
   },
   "outputs": [],
   "source": []
  },
  {
   "cell_type": "code",
   "execution_count": null,
   "metadata": {
    "scrolled": false
   },
   "outputs": [],
   "source": [
    "!wget https://data.sba.gov/dataset/8aa276e2-6cab-4f86-aca4-a7dde42adf24/resource/88d9f6f7-b471-4f5b-ae3e-7b9d7b394ad2/download/public_up_to_150k_12.csv"
   ]
  },
  {
   "cell_type": "code",
   "execution_count": null,
   "metadata": {
    "scrolled": false
   },
   "outputs": [],
   "source": [
    "df_below_150_12_SBA = pd.read_csv('public_up_to_150k_12.csv')"
   ]
  },
  {
   "cell_type": "code",
   "execution_count": null,
   "metadata": {
    "scrolled": false
   },
   "outputs": [],
   "source": [
    "m = df_below_150_12_SBA"
   ]
  },
  {
   "cell_type": "code",
   "execution_count": null,
   "metadata": {
    "scrolled": false
   },
   "outputs": [],
   "source": [
    "len(m)"
   ]
  },
  {
   "cell_type": "code",
   "execution_count": null,
   "metadata": {
    "scrolled": false
   },
   "outputs": [],
   "source": []
  },
  {
   "cell_type": "code",
   "execution_count": null,
   "metadata": {
    "scrolled": false
   },
   "outputs": [],
   "source": [
    "!wget https://data.sba.gov/dataset/8aa276e2-6cab-4f86-aca4-a7dde42adf24/resource/88d9f6f7-b471-4f5b-ae3e-7b9d7b394ad2/download/public_up_to_150k_13.csv"
   ]
  },
  {
   "cell_type": "code",
   "execution_count": null,
   "metadata": {
    "scrolled": false
   },
   "outputs": [],
   "source": [
    "df_below_150_13_SBA = pd.read_csv('public_up_to_150k_13.csv')"
   ]
  },
  {
   "cell_type": "code",
   "execution_count": null,
   "metadata": {
    "scrolled": false
   },
   "outputs": [],
   "source": [
    "n = df_below_150_13_SBA"
   ]
  },
  {
   "cell_type": "code",
   "execution_count": null,
   "metadata": {
    "scrolled": false
   },
   "outputs": [],
   "source": [
    "len(n)"
   ]
  },
  {
   "cell_type": "code",
   "execution_count": null,
   "metadata": {
    "scrolled": false
   },
   "outputs": [],
   "source": []
  },
  {
   "cell_type": "code",
   "execution_count": null,
   "metadata": {
    "scrolled": false
   },
   "outputs": [],
   "source": [
    "xxxx=zzzzzz"
   ]
  },
  {
   "cell_type": "code",
   "execution_count": null,
   "metadata": {
    "scrolled": false
   },
   "outputs": [],
   "source": [
    "dir()"
   ]
  },
  {
   "cell_type": "code",
   "execution_count": null,
   "metadata": {
    "scrolled": false
   },
   "outputs": [],
   "source": [
    "!df -k"
   ]
  },
  {
   "cell_type": "code",
   "execution_count": null,
   "metadata": {
    "scrolled": false
   },
   "outputs": [],
   "source": [
    "!ls -alt"
   ]
  },
  {
   "cell_type": "code",
   "execution_count": null,
   "metadata": {
    "scrolled": false
   },
   "outputs": [],
   "source": [
    "type(a)"
   ]
  },
  {
   "cell_type": "code",
   "execution_count": null,
   "metadata": {
    "scrolled": false
   },
   "outputs": [],
   "source": [
    "len(a)"
   ]
  },
  {
   "cell_type": "code",
   "execution_count": null,
   "metadata": {
    "scrolled": false
   },
   "outputs": [],
   "source": [
    "len(b)"
   ]
  },
  {
   "cell_type": "code",
   "execution_count": null,
   "metadata": {
    "scrolled": false
   },
   "outputs": [],
   "source": []
  },
  {
   "cell_type": "code",
   "execution_count": null,
   "metadata": {
    "scrolled": false
   },
   "outputs": [],
   "source": [
    "result = a.append([b])"
   ]
  },
  {
   "cell_type": "code",
   "execution_count": null,
   "metadata": {
    "scrolled": false
   },
   "outputs": [],
   "source": [
    "len(result)"
   ]
  },
  {
   "cell_type": "code",
   "execution_count": null,
   "metadata": {
    "scrolled": false
   },
   "outputs": [],
   "source": [
    "print(a.shape)"
   ]
  },
  {
   "cell_type": "code",
   "execution_count": null,
   "metadata": {
    "scrolled": false
   },
   "outputs": [],
   "source": [
    "print(result.shape)"
   ]
  },
  {
   "cell_type": "code",
   "execution_count": null,
   "metadata": {
    "scrolled": false
   },
   "outputs": [],
   "source": []
  },
  {
   "cell_type": "code",
   "execution_count": null,
   "metadata": {
    "scrolled": false
   },
   "outputs": [],
   "source": [
    "result = result.append([c])"
   ]
  },
  {
   "cell_type": "code",
   "execution_count": null,
   "metadata": {
    "scrolled": false
   },
   "outputs": [],
   "source": [
    "len(result)"
   ]
  },
  {
   "cell_type": "code",
   "execution_count": null,
   "metadata": {
    "scrolled": false
   },
   "outputs": [],
   "source": []
  },
  {
   "cell_type": "code",
   "execution_count": null,
   "metadata": {
    "scrolled": false
   },
   "outputs": [],
   "source": [
    "result = result.append([d])"
   ]
  },
  {
   "cell_type": "code",
   "execution_count": null,
   "metadata": {
    "scrolled": false
   },
   "outputs": [],
   "source": [
    "result = result.append([e])"
   ]
  },
  {
   "cell_type": "code",
   "execution_count": null,
   "metadata": {
    "scrolled": false
   },
   "outputs": [],
   "source": [
    "result = result.append([f])"
   ]
  },
  {
   "cell_type": "code",
   "execution_count": null,
   "metadata": {
    "scrolled": false
   },
   "outputs": [],
   "source": [
    "result = result.append([g])"
   ]
  },
  {
   "cell_type": "code",
   "execution_count": null,
   "metadata": {
    "scrolled": false
   },
   "outputs": [],
   "source": [
    "result = result.append([h])"
   ]
  },
  {
   "cell_type": "code",
   "execution_count": null,
   "metadata": {
    "scrolled": false
   },
   "outputs": [],
   "source": [
    "result = result.append([i])"
   ]
  },
  {
   "cell_type": "code",
   "execution_count": null,
   "metadata": {
    "scrolled": false
   },
   "outputs": [],
   "source": [
    "result = result.append([j])"
   ]
  },
  {
   "cell_type": "code",
   "execution_count": null,
   "metadata": {
    "scrolled": false
   },
   "outputs": [],
   "source": [
    "result = result.append([k])"
   ]
  },
  {
   "cell_type": "code",
   "execution_count": null,
   "metadata": {
    "scrolled": false
   },
   "outputs": [],
   "source": [
    "result = result.append([l])"
   ]
  },
  {
   "cell_type": "code",
   "execution_count": null,
   "metadata": {
    "scrolled": false
   },
   "outputs": [],
   "source": [
    "result = result.append([m])"
   ]
  },
  {
   "cell_type": "code",
   "execution_count": null,
   "metadata": {
    "scrolled": false
   },
   "outputs": [],
   "source": [
    "result = result.append([n])"
   ]
  },
  {
   "cell_type": "code",
   "execution_count": null,
   "metadata": {
    "scrolled": false
   },
   "outputs": [],
   "source": []
  },
  {
   "cell_type": "code",
   "execution_count": null,
   "metadata": {
    "scrolled": false
   },
   "outputs": [],
   "source": [
    "result.shape"
   ]
  },
  {
   "cell_type": "code",
   "execution_count": null,
   "metadata": {
    "scrolled": false
   },
   "outputs": [],
   "source": [
    "result.info()"
   ]
  },
  {
   "cell_type": "code",
   "execution_count": null,
   "metadata": {
    "scrolled": false
   },
   "outputs": [],
   "source": []
  },
  {
   "cell_type": "code",
   "execution_count": null,
   "metadata": {
    "scrolled": false
   },
   "outputs": [],
   "source": [
    "!df -k"
   ]
  },
  {
   "cell_type": "code",
   "execution_count": 1,
   "metadata": {
    "scrolled": false
   },
   "outputs": [],
   "source": [
    "import pickle"
   ]
  },
  {
   "cell_type": "code",
   "execution_count": 2,
   "metadata": {
    "scrolled": false
   },
   "outputs": [],
   "source": [
    "with open('6_Jun_21_Combined_PPP.pkl', 'rb') as ifile:\n",
    "    result = pickle.load(ifile)"
   ]
  },
  {
   "cell_type": "code",
   "execution_count": 3,
   "metadata": {
    "scrolled": false
   },
   "outputs": [
    {
     "name": "stdout",
     "output_type": "stream",
     "text": [
      "<class 'pandas.core.frame.DataFrame'>\n",
      "Int64Index: 12664361 entries, 0 to 899999\n",
      "Data columns (total 51 columns):\n",
      " #   Column                       Dtype  \n",
      "---  ------                       -----  \n",
      " 0   LoanNumber                   int64  \n",
      " 1   DateApproved                 object \n",
      " 2   SBAOfficeCode                int64  \n",
      " 3   ProcessingMethod             object \n",
      " 4   BorrowerName                 object \n",
      " 5   BorrowerAddress              object \n",
      " 6   BorrowerCity                 object \n",
      " 7   BorrowerState                object \n",
      " 8   BorrowerZip                  object \n",
      " 9   LoanStatusDate               object \n",
      " 10  LoanStatus                   object \n",
      " 11  Term                         int64  \n",
      " 12  SBAGuarantyPercentage        int64  \n",
      " 13  InitialApprovalAmount        float64\n",
      " 14  CurrentApprovalAmount        float64\n",
      " 15  UndisbursedAmount            float64\n",
      " 16  FranchiseName                object \n",
      " 17  ServicingLenderLocationID    int64  \n",
      " 18  ServicingLenderName          object \n",
      " 19  ServicingLenderAddress       object \n",
      " 20  ServicingLenderCity          object \n",
      " 21  ServicingLenderState         object \n",
      " 22  ServicingLenderZip           object \n",
      " 23  RuralUrbanIndicator          object \n",
      " 24  HubzoneIndicator             object \n",
      " 25  LMIIndicator                 object \n",
      " 26  BusinessAgeDescription       object \n",
      " 27  ProjectCity                  object \n",
      " 28  ProjectCountyName            object \n",
      " 29  ProjectState                 object \n",
      " 30  ProjectZip                   object \n",
      " 31  CD                           object \n",
      " 32  JobsReported                 float64\n",
      " 33  NAICSCode                    float64\n",
      " 34  Race                         object \n",
      " 35  Ethnicity                    object \n",
      " 36  UTILITIES_PROCEED            float64\n",
      " 37  PAYROLL_PROCEED              float64\n",
      " 38  MORTGAGE_INTEREST_PROCEED    float64\n",
      " 39  RENT_PROCEED                 float64\n",
      " 40  REFINANCE_EIDL_PROCEED       float64\n",
      " 41  HEALTH_CARE_PROCEED          float64\n",
      " 42  DEBT_INTEREST_PROCEED        float64\n",
      " 43  BusinessType                 object \n",
      " 44  OriginatingLenderLocationID  int64  \n",
      " 45  OriginatingLender            object \n",
      " 46  OriginatingLenderCity        object \n",
      " 47  OriginatingLenderState       object \n",
      " 48  Gender                       object \n",
      " 49  Veteran                      object \n",
      " 50  NonProfit                    object \n",
      "dtypes: float64(12), int64(6), object(33)\n",
      "memory usage: 4.9+ GB\n"
     ]
    }
   ],
   "source": [
    "result.info()"
   ]
  },
  {
   "cell_type": "code",
   "execution_count": null,
   "metadata": {},
   "outputs": [],
   "source": [
    "xxxxxx"
   ]
  },
  {
   "cell_type": "code",
   "execution_count": null,
   "metadata": {},
   "outputs": [],
   "source": []
  },
  {
   "cell_type": "code",
   "execution_count": 32,
   "metadata": {},
   "outputs": [
    {
     "data": {
      "text/html": [
       "<div>\n",
       "<style scoped>\n",
       "    .dataframe tbody tr th:only-of-type {\n",
       "        vertical-align: middle;\n",
       "    }\n",
       "\n",
       "    .dataframe tbody tr th {\n",
       "        vertical-align: top;\n",
       "    }\n",
       "\n",
       "    .dataframe thead th {\n",
       "        text-align: right;\n",
       "    }\n",
       "</style>\n",
       "<table border=\"1\" class=\"dataframe\">\n",
       "  <thead>\n",
       "    <tr style=\"text-align: right;\">\n",
       "      <th></th>\n",
       "      <th>BorrowerName</th>\n",
       "      <th>CurrentApprovalAmount</th>\n",
       "      <th>BorrowerAddress</th>\n",
       "      <th>BorrowerCity</th>\n",
       "    </tr>\n",
       "  </thead>\n",
       "  <tbody>\n",
       "    <tr>\n",
       "      <th>807145</th>\n",
       "      <td>MUY HAMBURGER PARTNERS, LLC</td>\n",
       "      <td>10000000.0</td>\n",
       "      <td>17890 Blanco Rd - Suite 401</td>\n",
       "      <td>SAN ANTONIO</td>\n",
       "    </tr>\n",
       "    <tr>\n",
       "      <th>807151</th>\n",
       "      <td>MUY PIZZA TEJAS, LLC</td>\n",
       "      <td>10000000.0</td>\n",
       "      <td>17890 BLANCO RD STE 401</td>\n",
       "      <td>SAN ANTONIO</td>\n",
       "    </tr>\n",
       "    <tr>\n",
       "      <th>807193</th>\n",
       "      <td>MUY BRANDS, LLC</td>\n",
       "      <td>8655100.0</td>\n",
       "      <td>17890 BLANCO RD Suite 401</td>\n",
       "      <td>SAN ANTONIO</td>\n",
       "    </tr>\n",
       "    <tr>\n",
       "      <th>807942</th>\n",
       "      <td>MUY PIZZA MINNESOTA, LLC</td>\n",
       "      <td>3550800.0</td>\n",
       "      <td>17890 Blanco Road Suite 401</td>\n",
       "      <td>SAN ANTONIO</td>\n",
       "    </tr>\n",
       "    <tr>\n",
       "      <th>814762</th>\n",
       "      <td>MUY CONSULTING CORPORATION</td>\n",
       "      <td>1060500.0</td>\n",
       "      <td>17890 Blanco Rd Suite 401</td>\n",
       "      <td>SAN ANTONIO</td>\n",
       "    </tr>\n",
       "  </tbody>\n",
       "</table>\n",
       "</div>"
      ],
      "text/plain": [
       "                       BorrowerName  CurrentApprovalAmount  \\\n",
       "807145  MUY HAMBURGER PARTNERS, LLC             10000000.0   \n",
       "807151         MUY PIZZA TEJAS, LLC             10000000.0   \n",
       "807193              MUY BRANDS, LLC              8655100.0   \n",
       "807942     MUY PIZZA MINNESOTA, LLC              3550800.0   \n",
       "814762   MUY CONSULTING CORPORATION              1060500.0   \n",
       "\n",
       "                    BorrowerAddress BorrowerCity  \n",
       "807145  17890 Blanco Rd - Suite 401  SAN ANTONIO  \n",
       "807151      17890 BLANCO RD STE 401  SAN ANTONIO  \n",
       "807193    17890 BLANCO RD Suite 401  SAN ANTONIO  \n",
       "807942  17890 Blanco Road Suite 401  SAN ANTONIO  \n",
       "814762    17890 Blanco Rd Suite 401  SAN ANTONIO  "
      ]
     },
     "execution_count": 32,
     "metadata": {},
     "output_type": "execute_result"
    }
   ],
   "source": [
    "result[(result['BorrowerCity'].str.contains('antonio', case = False, na= False)) & (result['BorrowerName'].str.contains(r'MUY ', case = False, na = False))][['BorrowerName','CurrentApprovalAmount', 'BorrowerAddress','BorrowerCity']]"
   ]
  },
  {
   "cell_type": "code",
   "execution_count": null,
   "metadata": {},
   "outputs": [],
   "source": []
  },
  {
   "cell_type": "code",
   "execution_count": 33,
   "metadata": {},
   "outputs": [
    {
     "data": {
      "text/plain": [
       "33266400.0"
      ]
     },
     "execution_count": 33,
     "metadata": {},
     "output_type": "execute_result"
    }
   ],
   "source": [
    "result[(result['BorrowerCity'].str.contains('antonio', case = False, na= False)) & (result['BorrowerName'].str.contains(r'MUY ', case = False, na = False))]['CurrentApprovalAmount'].sum()"
   ]
  },
  {
   "cell_type": "code",
   "execution_count": null,
   "metadata": {},
   "outputs": [],
   "source": []
  },
  {
   "cell_type": "code",
   "execution_count": 37,
   "metadata": {
    "scrolled": true
   },
   "outputs": [
    {
     "data": {
      "text/plain": [
       "2161 NW Military Hwy Ste 300    26\n",
       "5815 CALLAGHAN RD SUITE 100      9\n",
       "10010 SAN PEDRO AVE              8\n",
       "10010 San Pedro Ave Ste 650      7\n",
       "12542 Curley St                  6\n",
       "325 E Sonterra Blvd Ste 240      6\n",
       "31131 Pasco Rd                   6\n",
       "10910 Curley Rd                  6\n",
       "1723 N Loop 1604 E Ste 211       6\n",
       "1277 NE Loop 410                 6\n",
       "Name: BorrowerAddress, dtype: int64"
      ]
     },
     "execution_count": 37,
     "metadata": {},
     "output_type": "execute_result"
    }
   ],
   "source": [
    "result[result['BorrowerCity'].str.contains('antonio', case = False, na= False)]['BorrowerAddress'].value_counts()[:10]"
   ]
  },
  {
   "cell_type": "code",
   "execution_count": null,
   "metadata": {},
   "outputs": [],
   "source": []
  },
  {
   "cell_type": "code",
   "execution_count": 47,
   "metadata": {},
   "outputs": [
    {
     "data": {
      "text/html": [
       "<div>\n",
       "<style scoped>\n",
       "    .dataframe tbody tr th:only-of-type {\n",
       "        vertical-align: middle;\n",
       "    }\n",
       "\n",
       "    .dataframe tbody tr th {\n",
       "        vertical-align: top;\n",
       "    }\n",
       "\n",
       "    .dataframe thead th {\n",
       "        text-align: right;\n",
       "    }\n",
       "</style>\n",
       "<table border=\"1\" class=\"dataframe\">\n",
       "  <thead>\n",
       "    <tr style=\"text-align: right;\">\n",
       "      <th></th>\n",
       "      <th>BorrowerName</th>\n",
       "      <th>CurrentApprovalAmount</th>\n",
       "      <th>BorrowerAddress</th>\n",
       "      <th>BorrowerCity</th>\n",
       "      <th>OriginatingLender</th>\n",
       "      <th>DateApproved</th>\n",
       "      <th>LoanNumber</th>\n",
       "    </tr>\n",
       "  </thead>\n",
       "  <tbody>\n",
       "    <tr>\n",
       "      <th>856802</th>\n",
       "      <td>DAMARAYA LP</td>\n",
       "      <td>227943.20</td>\n",
       "      <td>2161 NW Military Hwy Ste 300</td>\n",
       "      <td>San Antonio</td>\n",
       "      <td>City Bank</td>\n",
       "      <td>02/05/2021</td>\n",
       "      <td>3852318407</td>\n",
       "    </tr>\n",
       "    <tr>\n",
       "      <th>851573</th>\n",
       "      <td>DARA LP</td>\n",
       "      <td>252596.29</td>\n",
       "      <td>2161 NW Military Hwy Ste 300</td>\n",
       "      <td>San Antonio</td>\n",
       "      <td>City Bank</td>\n",
       "      <td>01/21/2021</td>\n",
       "      <td>2855928305</td>\n",
       "    </tr>\n",
       "    <tr>\n",
       "      <th>867746</th>\n",
       "      <td>DARAMAYA LP</td>\n",
       "      <td>187861.07</td>\n",
       "      <td>2161 NW Military Hwy Ste 300</td>\n",
       "      <td>San Antonio</td>\n",
       "      <td>City Bank</td>\n",
       "      <td>01/21/2021</td>\n",
       "      <td>2883098302</td>\n",
       "    </tr>\n",
       "    <tr>\n",
       "      <th>855873</th>\n",
       "      <td>DARAYAMA LP</td>\n",
       "      <td>232042.82</td>\n",
       "      <td>2161 NW Military Hwy Ste 300</td>\n",
       "      <td>San Antonio</td>\n",
       "      <td>City Bank</td>\n",
       "      <td>03/10/2021</td>\n",
       "      <td>9022058508</td>\n",
       "    </tr>\n",
       "    <tr>\n",
       "      <th>853834</th>\n",
       "      <td>DAYARADA INC</td>\n",
       "      <td>241821.86</td>\n",
       "      <td>2161 NW Military Hwy Ste 300</td>\n",
       "      <td>San Antonio</td>\n",
       "      <td>City Bank</td>\n",
       "      <td>01/21/2021</td>\n",
       "      <td>3145958303</td>\n",
       "    </tr>\n",
       "    <tr>\n",
       "      <th>874193</th>\n",
       "      <td>KAMA LP</td>\n",
       "      <td>169669.82</td>\n",
       "      <td>2161 NW Military Hwy Ste 300</td>\n",
       "      <td>San Antonio</td>\n",
       "      <td>City Bank</td>\n",
       "      <td>02/05/2021</td>\n",
       "      <td>3626368402</td>\n",
       "    </tr>\n",
       "    <tr>\n",
       "      <th>839908</th>\n",
       "      <td>KAMARAYA LP</td>\n",
       "      <td>333462.89</td>\n",
       "      <td>2161 NW Military Hwy Ste 300</td>\n",
       "      <td>San Antonio</td>\n",
       "      <td>City Bank</td>\n",
       "      <td>01/21/2021</td>\n",
       "      <td>2627588308</td>\n",
       "    </tr>\n",
       "    <tr>\n",
       "      <th>852646</th>\n",
       "      <td>MADARADA INC</td>\n",
       "      <td>247813.30</td>\n",
       "      <td>2161 NW Military Hwy Ste 300</td>\n",
       "      <td>San Antonio</td>\n",
       "      <td>City Bank</td>\n",
       "      <td>01/21/2021</td>\n",
       "      <td>3130718309</td>\n",
       "    </tr>\n",
       "    <tr>\n",
       "      <th>879018</th>\n",
       "      <td>MARA MARA INC</td>\n",
       "      <td>157770.02</td>\n",
       "      <td>2161 NW Military Hwy Ste 300</td>\n",
       "      <td>San Antonio</td>\n",
       "      <td>City Bank</td>\n",
       "      <td>01/21/2021</td>\n",
       "      <td>2801618300</td>\n",
       "    </tr>\n",
       "    <tr>\n",
       "      <th>875177</th>\n",
       "      <td>MARADAYA LP</td>\n",
       "      <td>167047.30</td>\n",
       "      <td>2161 NW Military Hwy Ste 300</td>\n",
       "      <td>San Antonio</td>\n",
       "      <td>City Bank</td>\n",
       "      <td>01/21/2021</td>\n",
       "      <td>2854078308</td>\n",
       "    </tr>\n",
       "    <tr>\n",
       "      <th>864881</th>\n",
       "      <td>MARAKAYA LP</td>\n",
       "      <td>197372.49</td>\n",
       "      <td>2161 NW Military Hwy Ste 300</td>\n",
       "      <td>San Antonio</td>\n",
       "      <td>City Bank</td>\n",
       "      <td>02/01/2021</td>\n",
       "      <td>1417638405</td>\n",
       "    </tr>\n",
       "    <tr>\n",
       "      <th>853008</th>\n",
       "      <td>MARAYA LP</td>\n",
       "      <td>245957.50</td>\n",
       "      <td>2161 NW Military Hwy Ste 300</td>\n",
       "      <td>San Antonio</td>\n",
       "      <td>City Bank</td>\n",
       "      <td>01/21/2021</td>\n",
       "      <td>3174018302</td>\n",
       "    </tr>\n",
       "    <tr>\n",
       "      <th>845753</th>\n",
       "      <td>MAYA MAYA INC</td>\n",
       "      <td>287987.74</td>\n",
       "      <td>2161 NW Military Hwy Ste 300</td>\n",
       "      <td>San Antonio</td>\n",
       "      <td>City Bank</td>\n",
       "      <td>03/10/2021</td>\n",
       "      <td>8870198502</td>\n",
       "    </tr>\n",
       "    <tr>\n",
       "      <th>839063</th>\n",
       "      <td>R HAKIM CORP</td>\n",
       "      <td>341657.05</td>\n",
       "      <td>2161 NW Military Hwy Ste 300</td>\n",
       "      <td>San Antonio</td>\n",
       "      <td>City Bank</td>\n",
       "      <td>01/22/2021</td>\n",
       "      <td>3695998309</td>\n",
       "    </tr>\n",
       "    <tr>\n",
       "      <th>854318</th>\n",
       "      <td>RADA RADA INC</td>\n",
       "      <td>239470.49</td>\n",
       "      <td>2161 NW Military Hwy Ste 300</td>\n",
       "      <td>San Antonio</td>\n",
       "      <td>City Bank</td>\n",
       "      <td>01/21/2021</td>\n",
       "      <td>3005568302</td>\n",
       "    </tr>\n",
       "    <tr>\n",
       "      <th>847386</th>\n",
       "      <td>RAMAKAYA LP</td>\n",
       "      <td>276642.55</td>\n",
       "      <td>2161 NW Military Hwy Ste 300</td>\n",
       "      <td>San Antonio</td>\n",
       "      <td>City Bank</td>\n",
       "      <td>02/05/2021</td>\n",
       "      <td>4058618400</td>\n",
       "    </tr>\n",
       "    <tr>\n",
       "      <th>859946</th>\n",
       "      <td>RAMAMARA LP</td>\n",
       "      <td>215024.67</td>\n",
       "      <td>2161 NW Military Hwy Ste 300</td>\n",
       "      <td>San Antonio</td>\n",
       "      <td>City Bank</td>\n",
       "      <td>01/21/2021</td>\n",
       "      <td>2705048306</td>\n",
       "    </tr>\n",
       "    <tr>\n",
       "      <th>844265</th>\n",
       "      <td>RAYA LP</td>\n",
       "      <td>298914.46</td>\n",
       "      <td>2161 NW Military Hwy Ste 300</td>\n",
       "      <td>San Antonio</td>\n",
       "      <td>City Bank</td>\n",
       "      <td>02/05/2021</td>\n",
       "      <td>3546258404</td>\n",
       "    </tr>\n",
       "    <tr>\n",
       "      <th>848711</th>\n",
       "      <td>RIVER RAMA INC</td>\n",
       "      <td>268998.17</td>\n",
       "      <td>2161 NW Military Hwy Ste 300</td>\n",
       "      <td>San Antonio</td>\n",
       "      <td>City Bank</td>\n",
       "      <td>01/21/2021</td>\n",
       "      <td>3239058305</td>\n",
       "    </tr>\n",
       "    <tr>\n",
       "      <th>868980</th>\n",
       "      <td>YADARADA INC</td>\n",
       "      <td>184231.32</td>\n",
       "      <td>2161 NW Military Hwy Ste 300</td>\n",
       "      <td>San Antonio</td>\n",
       "      <td>City Bank</td>\n",
       "      <td>01/21/2021</td>\n",
       "      <td>2745568303</td>\n",
       "    </tr>\n",
       "    <tr>\n",
       "      <th>851282</th>\n",
       "      <td>YAM YAM LP</td>\n",
       "      <td>254049.43</td>\n",
       "      <td>2161 NW Military Hwy Ste 300</td>\n",
       "      <td>San Antonio</td>\n",
       "      <td>City Bank</td>\n",
       "      <td>01/21/2021</td>\n",
       "      <td>2612788306</td>\n",
       "    </tr>\n",
       "    <tr>\n",
       "      <th>852374</th>\n",
       "      <td>YAMA LP</td>\n",
       "      <td>249347.49</td>\n",
       "      <td>2161 NW Military Hwy Ste 300</td>\n",
       "      <td>San Antonio</td>\n",
       "      <td>City Bank</td>\n",
       "      <td>01/21/2021</td>\n",
       "      <td>2624208304</td>\n",
       "    </tr>\n",
       "    <tr>\n",
       "      <th>857321</th>\n",
       "      <td>YAMADARA LP</td>\n",
       "      <td>225481.83</td>\n",
       "      <td>2161 NW Military Hwy Ste 300</td>\n",
       "      <td>San Antonio</td>\n",
       "      <td>City Bank</td>\n",
       "      <td>01/21/2021</td>\n",
       "      <td>3075308300</td>\n",
       "    </tr>\n",
       "    <tr>\n",
       "      <th>859026</th>\n",
       "      <td>YAMADAYA LP</td>\n",
       "      <td>218916.35</td>\n",
       "      <td>2161 NW Military Hwy Ste 300</td>\n",
       "      <td>San Antonio</td>\n",
       "      <td>City Bank</td>\n",
       "      <td>01/21/2021</td>\n",
       "      <td>3308778303</td>\n",
       "    </tr>\n",
       "    <tr>\n",
       "      <th>852320</th>\n",
       "      <td>YAMAKARA LP</td>\n",
       "      <td>249665.64</td>\n",
       "      <td>2161 NW Military Hwy Ste 300</td>\n",
       "      <td>San Antonio</td>\n",
       "      <td>City Bank</td>\n",
       "      <td>01/21/2021</td>\n",
       "      <td>2913168301</td>\n",
       "    </tr>\n",
       "    <tr>\n",
       "      <th>841519</th>\n",
       "      <td>YARA LP</td>\n",
       "      <td>320017.81</td>\n",
       "      <td>2161 NW Military Hwy Ste 300</td>\n",
       "      <td>San Antonio</td>\n",
       "      <td>City Bank</td>\n",
       "      <td>01/21/2021</td>\n",
       "      <td>3027298305</td>\n",
       "    </tr>\n",
       "  </tbody>\n",
       "</table>\n",
       "</div>"
      ],
      "text/plain": [
       "          BorrowerName  CurrentApprovalAmount               BorrowerAddress  \\\n",
       "856802     DAMARAYA LP              227943.20  2161 NW Military Hwy Ste 300   \n",
       "851573         DARA LP              252596.29  2161 NW Military Hwy Ste 300   \n",
       "867746     DARAMAYA LP              187861.07  2161 NW Military Hwy Ste 300   \n",
       "855873     DARAYAMA LP              232042.82  2161 NW Military Hwy Ste 300   \n",
       "853834    DAYARADA INC              241821.86  2161 NW Military Hwy Ste 300   \n",
       "874193         KAMA LP              169669.82  2161 NW Military Hwy Ste 300   \n",
       "839908     KAMARAYA LP              333462.89  2161 NW Military Hwy Ste 300   \n",
       "852646    MADARADA INC              247813.30  2161 NW Military Hwy Ste 300   \n",
       "879018   MARA MARA INC              157770.02  2161 NW Military Hwy Ste 300   \n",
       "875177     MARADAYA LP              167047.30  2161 NW Military Hwy Ste 300   \n",
       "864881     MARAKAYA LP              197372.49  2161 NW Military Hwy Ste 300   \n",
       "853008       MARAYA LP              245957.50  2161 NW Military Hwy Ste 300   \n",
       "845753   MAYA MAYA INC              287987.74  2161 NW Military Hwy Ste 300   \n",
       "839063    R HAKIM CORP              341657.05  2161 NW Military Hwy Ste 300   \n",
       "854318   RADA RADA INC              239470.49  2161 NW Military Hwy Ste 300   \n",
       "847386     RAMAKAYA LP              276642.55  2161 NW Military Hwy Ste 300   \n",
       "859946     RAMAMARA LP              215024.67  2161 NW Military Hwy Ste 300   \n",
       "844265         RAYA LP              298914.46  2161 NW Military Hwy Ste 300   \n",
       "848711  RIVER RAMA INC              268998.17  2161 NW Military Hwy Ste 300   \n",
       "868980    YADARADA INC              184231.32  2161 NW Military Hwy Ste 300   \n",
       "851282      YAM YAM LP              254049.43  2161 NW Military Hwy Ste 300   \n",
       "852374         YAMA LP              249347.49  2161 NW Military Hwy Ste 300   \n",
       "857321     YAMADARA LP              225481.83  2161 NW Military Hwy Ste 300   \n",
       "859026     YAMADAYA LP              218916.35  2161 NW Military Hwy Ste 300   \n",
       "852320     YAMAKARA LP              249665.64  2161 NW Military Hwy Ste 300   \n",
       "841519         YARA LP              320017.81  2161 NW Military Hwy Ste 300   \n",
       "\n",
       "       BorrowerCity OriginatingLender DateApproved  LoanNumber  \n",
       "856802  San Antonio         City Bank   02/05/2021  3852318407  \n",
       "851573  San Antonio         City Bank   01/21/2021  2855928305  \n",
       "867746  San Antonio         City Bank   01/21/2021  2883098302  \n",
       "855873  San Antonio         City Bank   03/10/2021  9022058508  \n",
       "853834  San Antonio         City Bank   01/21/2021  3145958303  \n",
       "874193  San Antonio         City Bank   02/05/2021  3626368402  \n",
       "839908  San Antonio         City Bank   01/21/2021  2627588308  \n",
       "852646  San Antonio         City Bank   01/21/2021  3130718309  \n",
       "879018  San Antonio         City Bank   01/21/2021  2801618300  \n",
       "875177  San Antonio         City Bank   01/21/2021  2854078308  \n",
       "864881  San Antonio         City Bank   02/01/2021  1417638405  \n",
       "853008  San Antonio         City Bank   01/21/2021  3174018302  \n",
       "845753  San Antonio         City Bank   03/10/2021  8870198502  \n",
       "839063  San Antonio         City Bank   01/22/2021  3695998309  \n",
       "854318  San Antonio         City Bank   01/21/2021  3005568302  \n",
       "847386  San Antonio         City Bank   02/05/2021  4058618400  \n",
       "859946  San Antonio         City Bank   01/21/2021  2705048306  \n",
       "844265  San Antonio         City Bank   02/05/2021  3546258404  \n",
       "848711  San Antonio         City Bank   01/21/2021  3239058305  \n",
       "868980  San Antonio         City Bank   01/21/2021  2745568303  \n",
       "851282  San Antonio         City Bank   01/21/2021  2612788306  \n",
       "852374  San Antonio         City Bank   01/21/2021  2624208304  \n",
       "857321  San Antonio         City Bank   01/21/2021  3075308300  \n",
       "859026  San Antonio         City Bank   01/21/2021  3308778303  \n",
       "852320  San Antonio         City Bank   01/21/2021  2913168301  \n",
       "841519  San Antonio         City Bank   01/21/2021  3027298305  "
      ]
     },
     "execution_count": 47,
     "metadata": {},
     "output_type": "execute_result"
    }
   ],
   "source": [
    "result[(result['BorrowerCity'].str.contains('antonio', case = False, na= False)) & (result['BorrowerAddress'] == r'2161 NW Military Hwy Ste 300')][['BorrowerName', 'CurrentApprovalAmount', 'BorrowerAddress', 'BorrowerCity', 'OriginatingLender', 'DateApproved','LoanNumber']].sort_values('BorrowerName')"
   ]
  },
  {
   "cell_type": "code",
   "execution_count": 45,
   "metadata": {},
   "outputs": [
    {
     "data": {
      "text/plain": [
       "6291763.56"
      ]
     },
     "execution_count": 45,
     "metadata": {},
     "output_type": "execute_result"
    }
   ],
   "source": [
    "result[(result['BorrowerCity'].str.contains('antonio', case = False, na= False)) & (result['BorrowerAddress'] == r'2161 NW Military Hwy Ste 300')]['CurrentApprovalAmount'].sum()"
   ]
  },
  {
   "cell_type": "code",
   "execution_count": null,
   "metadata": {},
   "outputs": [],
   "source": [
    "    "
   ]
  },
  {
   "cell_type": "code",
   "execution_count": 60,
   "metadata": {},
   "outputs": [
    {
     "data": {
      "text/html": [
       "<div>\n",
       "<style scoped>\n",
       "    .dataframe tbody tr th:only-of-type {\n",
       "        vertical-align: middle;\n",
       "    }\n",
       "\n",
       "    .dataframe tbody tr th {\n",
       "        vertical-align: top;\n",
       "    }\n",
       "\n",
       "    .dataframe thead th {\n",
       "        text-align: right;\n",
       "    }\n",
       "</style>\n",
       "<table border=\"1\" class=\"dataframe\">\n",
       "  <thead>\n",
       "    <tr style=\"text-align: right;\">\n",
       "      <th></th>\n",
       "      <th>LoanNumber</th>\n",
       "      <th>DateApproved</th>\n",
       "      <th>SBAOfficeCode</th>\n",
       "      <th>ProcessingMethod</th>\n",
       "      <th>BorrowerName</th>\n",
       "      <th>BorrowerAddress</th>\n",
       "      <th>BorrowerCity</th>\n",
       "      <th>BorrowerState</th>\n",
       "      <th>BorrowerZip</th>\n",
       "      <th>LoanStatusDate</th>\n",
       "      <th>...</th>\n",
       "      <th>HEALTH_CARE_PROCEED</th>\n",
       "      <th>DEBT_INTEREST_PROCEED</th>\n",
       "      <th>BusinessType</th>\n",
       "      <th>OriginatingLenderLocationID</th>\n",
       "      <th>OriginatingLender</th>\n",
       "      <th>OriginatingLenderCity</th>\n",
       "      <th>OriginatingLenderState</th>\n",
       "      <th>Gender</th>\n",
       "      <th>Veteran</th>\n",
       "      <th>NonProfit</th>\n",
       "    </tr>\n",
       "  </thead>\n",
       "  <tbody>\n",
       "    <tr>\n",
       "      <th>847386</th>\n",
       "      <td>4058618400</td>\n",
       "      <td>02/05/2021</td>\n",
       "      <td>681</td>\n",
       "      <td>PPS</td>\n",
       "      <td>RAMAKAYA LP</td>\n",
       "      <td>2161 NW Military Hwy Ste 300</td>\n",
       "      <td>San Antonio</td>\n",
       "      <td>TX</td>\n",
       "      <td>78213-1844</td>\n",
       "      <td>NaN</td>\n",
       "      <td>...</td>\n",
       "      <td>NaN</td>\n",
       "      <td>NaN</td>\n",
       "      <td>Partnership</td>\n",
       "      <td>71330</td>\n",
       "      <td>City Bank</td>\n",
       "      <td>LUBBOCK</td>\n",
       "      <td>TX</td>\n",
       "      <td>Male Owned</td>\n",
       "      <td>Unanswered</td>\n",
       "      <td>NaN</td>\n",
       "    </tr>\n",
       "    <tr>\n",
       "      <th>867827</th>\n",
       "      <td>9183017109</td>\n",
       "      <td>04/15/2020</td>\n",
       "      <td>681</td>\n",
       "      <td>PPP</td>\n",
       "      <td>RAMAKAYA LP</td>\n",
       "      <td>817 N INTERSTATE 35</td>\n",
       "      <td>NEW BRAUNFELS</td>\n",
       "      <td>TX</td>\n",
       "      <td>78130-3780</td>\n",
       "      <td>NaN</td>\n",
       "      <td>...</td>\n",
       "      <td>NaN</td>\n",
       "      <td>NaN</td>\n",
       "      <td>Partnership</td>\n",
       "      <td>71330</td>\n",
       "      <td>City Bank</td>\n",
       "      <td>LUBBOCK</td>\n",
       "      <td>TX</td>\n",
       "      <td>Male Owned</td>\n",
       "      <td>Unanswered</td>\n",
       "      <td>NaN</td>\n",
       "    </tr>\n",
       "  </tbody>\n",
       "</table>\n",
       "<p>2 rows × 51 columns</p>\n",
       "</div>"
      ],
      "text/plain": [
       "        LoanNumber DateApproved  SBAOfficeCode ProcessingMethod BorrowerName  \\\n",
       "847386  4058618400   02/05/2021            681              PPS  RAMAKAYA LP   \n",
       "867827  9183017109   04/15/2020            681              PPP  RAMAKAYA LP   \n",
       "\n",
       "                     BorrowerAddress   BorrowerCity BorrowerState BorrowerZip  \\\n",
       "847386  2161 NW Military Hwy Ste 300    San Antonio            TX  78213-1844   \n",
       "867827           817 N INTERSTATE 35  NEW BRAUNFELS            TX  78130-3780   \n",
       "\n",
       "       LoanStatusDate  ... HEALTH_CARE_PROCEED  DEBT_INTEREST_PROCEED  \\\n",
       "847386            NaN  ...                 NaN                    NaN   \n",
       "867827            NaN  ...                 NaN                    NaN   \n",
       "\n",
       "        BusinessType  OriginatingLenderLocationID  OriginatingLender  \\\n",
       "847386   Partnership                        71330          City Bank   \n",
       "867827   Partnership                        71330          City Bank   \n",
       "\n",
       "        OriginatingLenderCity OriginatingLenderState      Gender     Veteran  \\\n",
       "847386                LUBBOCK                     TX  Male Owned  Unanswered   \n",
       "867827                LUBBOCK                     TX  Male Owned  Unanswered   \n",
       "\n",
       "       NonProfit  \n",
       "847386       NaN  \n",
       "867827       NaN  \n",
       "\n",
       "[2 rows x 51 columns]"
      ]
     },
     "execution_count": 60,
     "metadata": {},
     "output_type": "execute_result"
    }
   ],
   "source": [
    "result[result['BorrowerName'].str.contains('ramakaya', case= False,na = False)]"
   ]
  },
  {
   "cell_type": "code",
   "execution_count": 57,
   "metadata": {},
   "outputs": [
    {
     "data": {
      "text/html": [
       "<div>\n",
       "<style scoped>\n",
       "    .dataframe tbody tr th:only-of-type {\n",
       "        vertical-align: middle;\n",
       "    }\n",
       "\n",
       "    .dataframe tbody tr th {\n",
       "        vertical-align: top;\n",
       "    }\n",
       "\n",
       "    .dataframe thead th {\n",
       "        text-align: right;\n",
       "    }\n",
       "</style>\n",
       "<table border=\"1\" class=\"dataframe\">\n",
       "  <thead>\n",
       "    <tr style=\"text-align: right;\">\n",
       "      <th></th>\n",
       "      <th>LoanNumber</th>\n",
       "      <th>DateApproved</th>\n",
       "      <th>SBAOfficeCode</th>\n",
       "      <th>ProcessingMethod</th>\n",
       "      <th>BorrowerName</th>\n",
       "      <th>BorrowerAddress</th>\n",
       "      <th>BorrowerCity</th>\n",
       "      <th>BorrowerState</th>\n",
       "      <th>BorrowerZip</th>\n",
       "      <th>LoanStatusDate</th>\n",
       "      <th>...</th>\n",
       "      <th>HEALTH_CARE_PROCEED</th>\n",
       "      <th>DEBT_INTEREST_PROCEED</th>\n",
       "      <th>BusinessType</th>\n",
       "      <th>OriginatingLenderLocationID</th>\n",
       "      <th>OriginatingLender</th>\n",
       "      <th>OriginatingLenderCity</th>\n",
       "      <th>OriginatingLenderState</th>\n",
       "      <th>Gender</th>\n",
       "      <th>Veteran</th>\n",
       "      <th>NonProfit</th>\n",
       "    </tr>\n",
       "  </thead>\n",
       "  <tbody>\n",
       "    <tr>\n",
       "      <th>881912</th>\n",
       "      <td>1047667202</td>\n",
       "      <td>04/15/2020</td>\n",
       "      <td>681</td>\n",
       "      <td>PPP</td>\n",
       "      <td>YAMADARA LP</td>\n",
       "      <td>17220 INTERSTATE 35 N</td>\n",
       "      <td>SCHERTZ</td>\n",
       "      <td>TX</td>\n",
       "      <td>78154-1293</td>\n",
       "      <td>NaN</td>\n",
       "      <td>...</td>\n",
       "      <td>NaN</td>\n",
       "      <td>NaN</td>\n",
       "      <td>Partnership</td>\n",
       "      <td>71330</td>\n",
       "      <td>City Bank</td>\n",
       "      <td>LUBBOCK</td>\n",
       "      <td>TX</td>\n",
       "      <td>Male Owned</td>\n",
       "      <td>Unanswered</td>\n",
       "      <td>NaN</td>\n",
       "    </tr>\n",
       "  </tbody>\n",
       "</table>\n",
       "<p>1 rows × 51 columns</p>\n",
       "</div>"
      ],
      "text/plain": [
       "        LoanNumber DateApproved  SBAOfficeCode ProcessingMethod BorrowerName  \\\n",
       "881912  1047667202   04/15/2020            681              PPP  YAMADARA LP   \n",
       "\n",
       "              BorrowerAddress BorrowerCity BorrowerState BorrowerZip  \\\n",
       "881912  17220 INTERSTATE 35 N      SCHERTZ            TX  78154-1293   \n",
       "\n",
       "       LoanStatusDate  ... HEALTH_CARE_PROCEED  DEBT_INTEREST_PROCEED  \\\n",
       "881912            NaN  ...                 NaN                    NaN   \n",
       "\n",
       "        BusinessType  OriginatingLenderLocationID  OriginatingLender  \\\n",
       "881912   Partnership                        71330          City Bank   \n",
       "\n",
       "        OriginatingLenderCity OriginatingLenderState      Gender     Veteran  \\\n",
       "881912                LUBBOCK                     TX  Male Owned  Unanswered   \n",
       "\n",
       "       NonProfit  \n",
       "881912       NaN  \n",
       "\n",
       "[1 rows x 51 columns]"
      ]
     },
     "execution_count": 57,
     "metadata": {},
     "output_type": "execute_result"
    }
   ],
   "source": [
    "result[(result['BorrowerCity'].str.contains('schertz', case = False, na= False)) & (result['BorrowerAddress'].str.contains('17220 INTERSTATE 35'))]"
   ]
  },
  {
   "cell_type": "code",
   "execution_count": null,
   "metadata": {},
   "outputs": [],
   "source": []
  },
  {
   "cell_type": "code",
   "execution_count": 69,
   "metadata": {},
   "outputs": [],
   "source": [
    "aaa = result[(result['BorrowerCity'].str.contains('antonio', case = False, na= False)) & (result['BorrowerAddress'] == r'2161 NW Military Hwy Ste 300')][['BorrowerName']]"
   ]
  },
  {
   "cell_type": "code",
   "execution_count": 117,
   "metadata": {},
   "outputs": [
    {
     "data": {
      "text/html": [
       "<div>\n",
       "<style scoped>\n",
       "    .dataframe tbody tr th:only-of-type {\n",
       "        vertical-align: middle;\n",
       "    }\n",
       "\n",
       "    .dataframe tbody tr th {\n",
       "        vertical-align: top;\n",
       "    }\n",
       "\n",
       "    .dataframe thead th {\n",
       "        text-align: right;\n",
       "    }\n",
       "</style>\n",
       "<table border=\"1\" class=\"dataframe\">\n",
       "  <thead>\n",
       "    <tr style=\"text-align: right;\">\n",
       "      <th></th>\n",
       "      <th>BorrowerName</th>\n",
       "    </tr>\n",
       "  </thead>\n",
       "  <tbody>\n",
       "    <tr>\n",
       "      <th>839063</th>\n",
       "      <td>R HAKIM CORP</td>\n",
       "    </tr>\n",
       "    <tr>\n",
       "      <th>839908</th>\n",
       "      <td>KAMARAYA LP</td>\n",
       "    </tr>\n",
       "    <tr>\n",
       "      <th>841519</th>\n",
       "      <td>YARA LP</td>\n",
       "    </tr>\n",
       "    <tr>\n",
       "      <th>844265</th>\n",
       "      <td>RAYA LP</td>\n",
       "    </tr>\n",
       "    <tr>\n",
       "      <th>845753</th>\n",
       "      <td>MAYA MAYA INC</td>\n",
       "    </tr>\n",
       "    <tr>\n",
       "      <th>847386</th>\n",
       "      <td>RAMAKAYA LP</td>\n",
       "    </tr>\n",
       "    <tr>\n",
       "      <th>848711</th>\n",
       "      <td>RIVER RAMA INC</td>\n",
       "    </tr>\n",
       "    <tr>\n",
       "      <th>851282</th>\n",
       "      <td>YAM YAM LP</td>\n",
       "    </tr>\n",
       "    <tr>\n",
       "      <th>851573</th>\n",
       "      <td>DARA LP</td>\n",
       "    </tr>\n",
       "    <tr>\n",
       "      <th>852320</th>\n",
       "      <td>YAMAKARA LP</td>\n",
       "    </tr>\n",
       "    <tr>\n",
       "      <th>852374</th>\n",
       "      <td>YAMA LP</td>\n",
       "    </tr>\n",
       "    <tr>\n",
       "      <th>852646</th>\n",
       "      <td>MADARADA INC</td>\n",
       "    </tr>\n",
       "    <tr>\n",
       "      <th>853008</th>\n",
       "      <td>MARAYA LP</td>\n",
       "    </tr>\n",
       "    <tr>\n",
       "      <th>853834</th>\n",
       "      <td>DAYARADA INC</td>\n",
       "    </tr>\n",
       "    <tr>\n",
       "      <th>854318</th>\n",
       "      <td>RADA RADA INC</td>\n",
       "    </tr>\n",
       "    <tr>\n",
       "      <th>855873</th>\n",
       "      <td>DARAYAMA LP</td>\n",
       "    </tr>\n",
       "    <tr>\n",
       "      <th>856802</th>\n",
       "      <td>DAMARAYA LP</td>\n",
       "    </tr>\n",
       "    <tr>\n",
       "      <th>857321</th>\n",
       "      <td>YAMADARA LP</td>\n",
       "    </tr>\n",
       "    <tr>\n",
       "      <th>859026</th>\n",
       "      <td>YAMADAYA LP</td>\n",
       "    </tr>\n",
       "    <tr>\n",
       "      <th>859946</th>\n",
       "      <td>RAMAMARA LP</td>\n",
       "    </tr>\n",
       "    <tr>\n",
       "      <th>864881</th>\n",
       "      <td>MARAKAYA LP</td>\n",
       "    </tr>\n",
       "    <tr>\n",
       "      <th>867746</th>\n",
       "      <td>DARAMAYA LP</td>\n",
       "    </tr>\n",
       "    <tr>\n",
       "      <th>868980</th>\n",
       "      <td>YADARADA INC</td>\n",
       "    </tr>\n",
       "    <tr>\n",
       "      <th>874193</th>\n",
       "      <td>KAMA LP</td>\n",
       "    </tr>\n",
       "    <tr>\n",
       "      <th>875177</th>\n",
       "      <td>MARADAYA LP</td>\n",
       "    </tr>\n",
       "    <tr>\n",
       "      <th>879018</th>\n",
       "      <td>MARA MARA INC</td>\n",
       "    </tr>\n",
       "  </tbody>\n",
       "</table>\n",
       "</div>"
      ],
      "text/plain": [
       "          BorrowerName\n",
       "839063    R HAKIM CORP\n",
       "839908     KAMARAYA LP\n",
       "841519         YARA LP\n",
       "844265         RAYA LP\n",
       "845753   MAYA MAYA INC\n",
       "847386     RAMAKAYA LP\n",
       "848711  RIVER RAMA INC\n",
       "851282      YAM YAM LP\n",
       "851573         DARA LP\n",
       "852320     YAMAKARA LP\n",
       "852374         YAMA LP\n",
       "852646    MADARADA INC\n",
       "853008       MARAYA LP\n",
       "853834    DAYARADA INC\n",
       "854318   RADA RADA INC\n",
       "855873     DARAYAMA LP\n",
       "856802     DAMARAYA LP\n",
       "857321     YAMADARA LP\n",
       "859026     YAMADAYA LP\n",
       "859946     RAMAMARA LP\n",
       "864881     MARAKAYA LP\n",
       "867746     DARAMAYA LP\n",
       "868980    YADARADA INC\n",
       "874193         KAMA LP\n",
       "875177     MARADAYA LP\n",
       "879018   MARA MARA INC"
      ]
     },
     "execution_count": 117,
     "metadata": {},
     "output_type": "execute_result"
    }
   ],
   "source": [
    "aaa.iloc[:,[0]]"
   ]
  },
  {
   "cell_type": "code",
   "execution_count": 118,
   "metadata": {},
   "outputs": [],
   "source": [
    "aaa.set_index('BorrowerName', inplace = True)"
   ]
  },
  {
   "cell_type": "code",
   "execution_count": 127,
   "metadata": {},
   "outputs": [
    {
     "data": {
      "text/plain": [
       "pandas.core.frame.DataFrame"
      ]
     },
     "execution_count": 127,
     "metadata": {},
     "output_type": "execute_result"
    }
   ],
   "source": [
    "type(aaa)"
   ]
  },
  {
   "cell_type": "code",
   "execution_count": 150,
   "metadata": {},
   "outputs": [
    {
     "name": "stdout",
     "output_type": "stream",
     "text": [
      "R HAKIM CORP\n",
      "KAMARAYA LP\n",
      "YARA LP\n",
      "RAYA LP\n",
      "MAYA MAYA INC\n",
      "RAMAKAYA LP\n",
      "RIVER RAMA INC\n",
      "YAM YAM LP\n",
      "DARA LP\n",
      "YAMAKARA LP\n",
      "YAMA LP\n",
      "MADARADA INC\n",
      "MARAYA LP\n",
      "DAYARADA INC\n",
      "RADA RADA INC\n",
      "DARAYAMA LP\n",
      "DAMARAYA LP\n",
      "YAMADARA LP\n",
      "YAMADAYA LP\n",
      "RAMAMARA LP\n",
      "MARAKAYA LP\n",
      "DARAMAYA LP\n",
      "YADARADA INC\n",
      "KAMA LP\n",
      "MARADAYA LP\n",
      "MARA MARA INC\n"
     ]
    }
   ],
   "source": [
    "for x in aaa.index:\n",
    "    print(x)"
   ]
  },
  {
   "cell_type": "code",
   "execution_count": null,
   "metadata": {},
   "outputs": [],
   "source": []
  },
  {
   "cell_type": "code",
   "execution_count": null,
   "metadata": {},
   "outputs": [],
   "source": []
  },
  {
   "cell_type": "code",
   "execution_count": null,
   "metadata": {},
   "outputs": [],
   "source": []
  },
  {
   "cell_type": "code",
   "execution_count": null,
   "metadata": {},
   "outputs": [],
   "source": []
  },
  {
   "cell_type": "code",
   "execution_count": null,
   "metadata": {},
   "outputs": [],
   "source": []
  },
  {
   "cell_type": "code",
   "execution_count": null,
   "metadata": {},
   "outputs": [],
   "source": []
  },
  {
   "cell_type": "code",
   "execution_count": null,
   "metadata": {},
   "outputs": [],
   "source": []
  },
  {
   "cell_type": "code",
   "execution_count": null,
   "metadata": {},
   "outputs": [],
   "source": []
  },
  {
   "cell_type": "code",
   "execution_count": null,
   "metadata": {},
   "outputs": [],
   "source": []
  },
  {
   "cell_type": "code",
   "execution_count": null,
   "metadata": {},
   "outputs": [],
   "source": []
  },
  {
   "cell_type": "code",
   "execution_count": null,
   "metadata": {},
   "outputs": [],
   "source": []
  },
  {
   "cell_type": "code",
   "execution_count": 68,
   "metadata": {},
   "outputs": [
    {
     "data": {
      "text/plain": [
       "BorrowerName  \n",
       "DAMARAYA LP       1\n",
       "DARA LP           1\n",
       "YAMAKARA LP       1\n",
       "YAMADAYA LP       1\n",
       "YAMADARA LP       1\n",
       "YAMA LP           1\n",
       "YAM YAM LP        1\n",
       "YADARADA INC      1\n",
       "RIVER RAMA INC    1\n",
       "RAYA LP           1\n",
       "RAMAMARA LP       1\n",
       "RAMAKAYA LP       1\n",
       "RADA RADA INC     1\n",
       "R HAKIM CORP      1\n",
       "MAYA MAYA INC     1\n",
       "MARAYA LP         1\n",
       "MARAKAYA LP       1\n",
       "MARADAYA LP       1\n",
       "MARA MARA INC     1\n",
       "MADARADA INC      1\n",
       "KAMARAYA LP       1\n",
       "KAMA LP           1\n",
       "DAYARADA INC      1\n",
       "DARAYAMA LP       1\n",
       "DARAMAYA LP       1\n",
       "YARA LP           1\n",
       "dtype: int64"
      ]
     },
     "execution_count": 68,
     "metadata": {},
     "output_type": "execute_result"
    }
   ],
   "source": [
    "aaa"
   ]
  },
  {
   "cell_type": "code",
   "execution_count": null,
   "metadata": {},
   "outputs": [],
   "source": []
  },
  {
   "cell_type": "code",
   "execution_count": null,
   "metadata": {
    "scrolled": false
   },
   "outputs": [],
   "source": [
    "xxxx=stop_here"
   ]
  },
  {
   "cell_type": "code",
   "execution_count": null,
   "metadata": {
    "scrolled": false
   },
   "outputs": [],
   "source": []
  },
  {
   "cell_type": "code",
   "execution_count": null,
   "metadata": {
    "scrolled": false
   },
   "outputs": [],
   "source": [
    "type(a.DateApproved)"
   ]
  },
  {
   "cell_type": "code",
   "execution_count": null,
   "metadata": {
    "scrolled": false
   },
   "outputs": [],
   "source": [
    "pd.to_datetime(a.DateApproved[0])"
   ]
  },
  {
   "cell_type": "code",
   "execution_count": null,
   "metadata": {
    "scrolled": false
   },
   "outputs": [],
   "source": [
    "a.loc[:, 'DateApproved_datetime'] = pd.to_datetime(a['DateApproved'])"
   ]
  },
  {
   "cell_type": "code",
   "execution_count": null,
   "metadata": {
    "scrolled": false
   },
   "outputs": [],
   "source": [
    "a.info()"
   ]
  },
  {
   "cell_type": "code",
   "execution_count": null,
   "metadata": {
    "scrolled": false
   },
   "outputs": [],
   "source": [
    "a.tail()"
   ]
  },
  {
   "cell_type": "code",
   "execution_count": null,
   "metadata": {
    "scrolled": false
   },
   "outputs": [],
   "source": [
    "print(set(a.DateApproved_datetime.dt.month))"
   ]
  },
  {
   "cell_type": "code",
   "execution_count": null,
   "metadata": {
    "scrolled": false
   },
   "outputs": [],
   "source": [
    "a.columns"
   ]
  },
  {
   "cell_type": "code",
   "execution_count": null,
   "metadata": {
    "scrolled": false
   },
   "outputs": [],
   "source": [
    "a.dtypes"
   ]
  },
  {
   "cell_type": "code",
   "execution_count": null,
   "metadata": {
    "scrolled": false
   },
   "outputs": [],
   "source": [
    "a.info()"
   ]
  },
  {
   "cell_type": "code",
   "execution_count": 17,
   "metadata": {
    "scrolled": false
   },
   "outputs": [],
   "source": [
    "pd.set_option('display.max_columns', None)"
   ]
  },
  {
   "cell_type": "code",
   "execution_count": 18,
   "metadata": {
    "scrolled": false
   },
   "outputs": [],
   "source": [
    "pd.set_option('display.max_rows', None)"
   ]
  },
  {
   "cell_type": "code",
   "execution_count": 16,
   "metadata": {
    "scrolled": false
   },
   "outputs": [],
   "source": [
    "import pandas as pd"
   ]
  },
  {
   "cell_type": "code",
   "execution_count": null,
   "metadata": {
    "scrolled": false
   },
   "outputs": [],
   "source": [
    "a.head()"
   ]
  },
  {
   "cell_type": "code",
   "execution_count": null,
   "metadata": {
    "scrolled": false
   },
   "outputs": [],
   "source": [
    "a[a.DateApproved_datetime <'2020-05-01T00:00:00.000000000']"
   ]
  },
  {
   "cell_type": "code",
   "execution_count": null,
   "metadata": {
    "scrolled": false
   },
   "outputs": [],
   "source": []
  },
  {
   "cell_type": "code",
   "execution_count": null,
   "metadata": {
    "scrolled": false
   },
   "outputs": [],
   "source": [
    "a['CD']"
   ]
  },
  {
   "cell_type": "code",
   "execution_count": null,
   "metadata": {
    "scrolled": false
   },
   "outputs": [],
   "source": [
    "a['CD'].iloc[6]"
   ]
  },
  {
   "cell_type": "code",
   "execution_count": null,
   "metadata": {
    "scrolled": false
   },
   "outputs": [],
   "source": [
    "a.head()"
   ]
  },
  {
   "cell_type": "code",
   "execution_count": null,
   "metadata": {
    "scrolled": false
   },
   "outputs": [],
   "source": [
    "a"
   ]
  },
  {
   "cell_type": "code",
   "execution_count": null,
   "metadata": {
    "scrolled": false
   },
   "outputs": [],
   "source": [
    "z = pd.read_csv('public_150k_plus.csv', index_col='LoanNumber')"
   ]
  },
  {
   "cell_type": "code",
   "execution_count": null,
   "metadata": {
    "scrolled": false
   },
   "outputs": [],
   "source": [
    "z"
   ]
  },
  {
   "cell_type": "code",
   "execution_count": null,
   "metadata": {
    "scrolled": false
   },
   "outputs": [],
   "source": [
    "z.dtypes"
   ]
  },
  {
   "cell_type": "code",
   "execution_count": null,
   "metadata": {
    "scrolled": false
   },
   "outputs": [],
   "source": [
    "z.head()"
   ]
  },
  {
   "cell_type": "code",
   "execution_count": null,
   "metadata": {
    "scrolled": false
   },
   "outputs": [],
   "source": [
    "z.tail(11)"
   ]
  },
  {
   "cell_type": "code",
   "execution_count": null,
   "metadata": {
    "scrolled": false
   },
   "outputs": [],
   "source": [
    "z.columns"
   ]
  },
  {
   "cell_type": "code",
   "execution_count": null,
   "metadata": {
    "scrolled": false
   },
   "outputs": [],
   "source": [
    "a.columns"
   ]
  },
  {
   "cell_type": "code",
   "execution_count": null,
   "metadata": {
    "scrolled": false
   },
   "outputs": [],
   "source": [
    "z.index"
   ]
  },
  {
   "cell_type": "code",
   "execution_count": null,
   "metadata": {
    "scrolled": false
   },
   "outputs": [],
   "source": [
    "a.index"
   ]
  },
  {
   "cell_type": "code",
   "execution_count": null,
   "metadata": {
    "scrolled": false
   },
   "outputs": [],
   "source": [
    "a.describe()"
   ]
  },
  {
   "cell_type": "code",
   "execution_count": null,
   "metadata": {
    "scrolled": false
   },
   "outputs": [],
   "source": [
    "z.describe()"
   ]
  },
  {
   "cell_type": "code",
   "execution_count": null,
   "metadata": {
    "scrolled": false
   },
   "outputs": [],
   "source": [
    "a[:5]"
   ]
  },
  {
   "cell_type": "code",
   "execution_count": null,
   "metadata": {
    "scrolled": false
   },
   "outputs": [],
   "source": [
    "z[0:5]"
   ]
  },
  {
   "cell_type": "code",
   "execution_count": null,
   "metadata": {
    "scrolled": false
   },
   "outputs": [],
   "source": [
    "z.head()"
   ]
  },
  {
   "cell_type": "code",
   "execution_count": null,
   "metadata": {
    "scrolled": false
   },
   "outputs": [],
   "source": [
    "a"
   ]
  },
  {
   "cell_type": "code",
   "execution_count": null,
   "metadata": {
    "scrolled": false
   },
   "outputs": [],
   "source": [
    "a[a.BorrowerState == 'TX'].count()"
   ]
  },
  {
   "cell_type": "code",
   "execution_count": null,
   "metadata": {
    "scrolled": false
   },
   "outputs": [],
   "source": [
    "a.loc[791524]"
   ]
  },
  {
   "cell_type": "code",
   "execution_count": null,
   "metadata": {
    "scrolled": false
   },
   "outputs": [],
   "source": [
    "a.iloc[791524,2]"
   ]
  },
  {
   "cell_type": "code",
   "execution_count": null,
   "metadata": {
    "scrolled": false
   },
   "outputs": [],
   "source": [
    "a[a.BorrowerAddress == '3400 N. Central Expressway Suite 110-243']"
   ]
  },
  {
   "cell_type": "code",
   "execution_count": null,
   "metadata": {
    "scrolled": false
   },
   "outputs": [],
   "source": [
    "a[a.BorrowerName == r'SWH MIMIS CAFE LLC']"
   ]
  },
  {
   "cell_type": "code",
   "execution_count": null,
   "metadata": {
    "scrolled": false
   },
   "outputs": [],
   "source": [
    "a.loc[791578]"
   ]
  },
  {
   "cell_type": "code",
   "execution_count": null,
   "metadata": {
    "scrolled": false
   },
   "outputs": [],
   "source": [
    "a.shape"
   ]
  },
  {
   "cell_type": "code",
   "execution_count": null,
   "metadata": {
    "scrolled": false
   },
   "outputs": [],
   "source": [
    "a.columns"
   ]
  },
  {
   "cell_type": "code",
   "execution_count": null,
   "metadata": {
    "scrolled": false
   },
   "outputs": [],
   "source": [
    "a.count()"
   ]
  },
  {
   "cell_type": "code",
   "execution_count": null,
   "metadata": {
    "scrolled": false
   },
   "outputs": [],
   "source": [
    "a.BorrowerZip.describe()"
   ]
  },
  {
   "cell_type": "code",
   "execution_count": null,
   "metadata": {
    "scrolled": false
   },
   "outputs": [],
   "source": [
    "a.last_valid_index()"
   ]
  },
  {
   "cell_type": "code",
   "execution_count": null,
   "metadata": {
    "scrolled": false
   },
   "outputs": [],
   "source": [
    "z.last_valid_index()"
   ]
  },
  {
   "cell_type": "code",
   "execution_count": null,
   "metadata": {
    "scrolled": false
   },
   "outputs": [],
   "source": [
    "a.iloc[945919]"
   ]
  },
  {
   "cell_type": "code",
   "execution_count": null,
   "metadata": {
    "scrolled": false
   },
   "outputs": [],
   "source": [
    "a.iloc[:3]"
   ]
  },
  {
   "cell_type": "code",
   "execution_count": null,
   "metadata": {
    "scrolled": false
   },
   "outputs": [],
   "source": [
    "z.loc[9547507704]"
   ]
  },
  {
   "cell_type": "code",
   "execution_count": null,
   "metadata": {
    "scrolled": false
   },
   "outputs": [],
   "source": [
    "z.iloc[945918]"
   ]
  },
  {
   "cell_type": "code",
   "execution_count": null,
   "metadata": {
    "scrolled": false
   },
   "outputs": [],
   "source": [
    "pd.show_versions()"
   ]
  },
  {
   "cell_type": "code",
   "execution_count": null,
   "metadata": {
    "scrolled": false
   },
   "outputs": [],
   "source": [
    "a.loc[5, ['DateApproved', 'ProcessingMethod']]"
   ]
  },
  {
   "cell_type": "code",
   "execution_count": null,
   "metadata": {
    "scrolled": false
   },
   "outputs": [],
   "source": [
    "a.iloc[5, [1,3]]"
   ]
  },
  {
   "cell_type": "code",
   "execution_count": null,
   "metadata": {
    "scrolled": false
   },
   "outputs": [],
   "source": [
    "!uptime"
   ]
  },
  {
   "cell_type": "code",
   "execution_count": null,
   "metadata": {
    "scrolled": false
   },
   "outputs": [],
   "source": [
    "a.iloc[range(0,2),[1,2,4]]"
   ]
  },
  {
   "cell_type": "code",
   "execution_count": null,
   "metadata": {
    "scrolled": false
   },
   "outputs": [],
   "source": [
    "a.loc[range(0,2), ['DateApproved', 'SBAOfficeCode', 'BorrowerName']]"
   ]
  },
  {
   "cell_type": "code",
   "execution_count": null,
   "metadata": {
    "scrolled": false
   },
   "outputs": [],
   "source": [
    "a.iloc[1:3,:]"
   ]
  },
  {
   "cell_type": "code",
   "execution_count": null,
   "metadata": {
    "scrolled": false
   },
   "outputs": [],
   "source": [
    "a.iloc[0:2]"
   ]
  },
  {
   "cell_type": "code",
   "execution_count": null,
   "metadata": {
    "scrolled": false
   },
   "outputs": [],
   "source": [
    "a.groupby('BorrowerState')['DateApproved'].count()"
   ]
  },
  {
   "cell_type": "code",
   "execution_count": null,
   "metadata": {
    "scrolled": false
   },
   "outputs": [],
   "source": [
    "a['BorrowerState'].describe()"
   ]
  },
  {
   "cell_type": "code",
   "execution_count": null,
   "metadata": {
    "scrolled": false
   },
   "outputs": [],
   "source": [
    "a['BorrowerState'].unique()"
   ]
  },
  {
   "cell_type": "code",
   "execution_count": null,
   "metadata": {
    "scrolled": false
   },
   "outputs": [],
   "source": [
    "a.iloc[a['BorrowerState' == 'TX']]"
   ]
  },
  {
   "cell_type": "code",
   "execution_count": null,
   "metadata": {
    "scrolled": false
   },
   "outputs": [],
   "source": [
    "a.tail(1)"
   ]
  },
  {
   "cell_type": "code",
   "execution_count": null,
   "metadata": {
    "scrolled": false
   },
   "outputs": [],
   "source": [
    "z.tail(1)"
   ]
  },
  {
   "cell_type": "code",
   "execution_count": null,
   "metadata": {
    "scrolled": false
   },
   "outputs": [],
   "source": [
    "a.iloc[-1]"
   ]
  },
  {
   "cell_type": "code",
   "execution_count": null,
   "metadata": {
    "scrolled": false
   },
   "outputs": [],
   "source": [
    "a.loc[1,'DateApproved']"
   ]
  },
  {
   "cell_type": "code",
   "execution_count": null,
   "metadata": {
    "scrolled": true
   },
   "outputs": [],
   "source": [
    "a.groupby('BorrowerZip')['BorrowerName'].count()"
   ]
  },
  {
   "cell_type": "code",
   "execution_count": null,
   "metadata": {
    "scrolled": false
   },
   "outputs": [],
   "source": [
    "a.groupby('BorrowerZip')['BorrowerName'].nunique()"
   ]
  },
  {
   "cell_type": "code",
   "execution_count": null,
   "metadata": {
    "scrolled": false
   },
   "outputs": [],
   "source": [
    "a.groupby('BorrowerZip').nunique()"
   ]
  },
  {
   "cell_type": "code",
   "execution_count": null,
   "metadata": {
    "scrolled": false
   },
   "outputs": [],
   "source": [
    "a.T.head()"
   ]
  },
  {
   "cell_type": "code",
   "execution_count": null,
   "metadata": {
    "scrolled": false
   },
   "outputs": [],
   "source": [
    "b.count()"
   ]
  },
  {
   "cell_type": "code",
   "execution_count": null,
   "metadata": {
    "scrolled": false
   },
   "outputs": [],
   "source": [
    "900000 - 899872"
   ]
  },
  {
   "cell_type": "code",
   "execution_count": null,
   "metadata": {
    "scrolled": false
   },
   "outputs": [],
   "source": [
    "b_missing_dropped = b.dropna()"
   ]
  },
  {
   "cell_type": "code",
   "execution_count": null,
   "metadata": {
    "scrolled": false
   },
   "outputs": [],
   "source": [
    "b.shape"
   ]
  },
  {
   "cell_type": "code",
   "execution_count": null,
   "metadata": {
    "scrolled": false
   },
   "outputs": [],
   "source": [
    "b_missing_dropped.shape"
   ]
  },
  {
   "cell_type": "code",
   "execution_count": null,
   "metadata": {
    "scrolled": false
   },
   "outputs": [],
   "source": [
    "a.describe()"
   ]
  },
  {
   "cell_type": "code",
   "execution_count": null,
   "metadata": {
    "scrolled": false
   },
   "outputs": [],
   "source": [
    "!uptime"
   ]
  },
  {
   "cell_type": "code",
   "execution_count": null,
   "metadata": {
    "scrolled": false
   },
   "outputs": [],
   "source": []
  }
 ],
 "metadata": {
  "kernelspec": {
   "display_name": "Python 3",
   "language": "python",
   "name": "python3"
  },
  "language_info": {
   "codemirror_mode": {
    "name": "ipython",
    "version": 3
   },
   "file_extension": ".py",
   "mimetype": "text/x-python",
   "name": "python",
   "nbconvert_exporter": "python",
   "pygments_lexer": "ipython3",
   "version": "3.8.5"
  }
 },
 "nbformat": 4,
 "nbformat_minor": 4
}

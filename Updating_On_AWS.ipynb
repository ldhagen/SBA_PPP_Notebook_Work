{
 "cells": [
  {
   "cell_type": "markdown",
   "metadata": {},
   "source": [
    "Above from https://data.sba.gov/dataset/ppp-foia/resource/6b62a44b-69ec-436a-9b95-0ea550475543"
   ]
  },
  {
   "cell_type": "code",
   "execution_count": 2,
   "metadata": {},
   "outputs": [],
   "source": [
    "import pandas as pd\n",
    "import matplotlib.pyplot as plt\n",
    "import numpy as np\n",
    "import datetime\n",
    "%matplotlib inline"
   ]
  },
  {
   "cell_type": "code",
   "execution_count": 3,
   "metadata": {},
   "outputs": [
    {
     "name": "stdout",
     "output_type": "stream",
     "text": [
      "--2021-05-19 14:05:54--  https://data.sba.gov/dataset/8aa276e2-6cab-4f86-aca4-a7dde42adf24/resource/6b62a44b-69ec-436a-9b95-0ea550475543/download/public_150k_plus.csv\n",
      "Resolving data.sba.gov (data.sba.gov)... 99.86.100.4, 99.86.100.62, 99.86.100.14, ...\n",
      "Connecting to data.sba.gov (data.sba.gov)|99.86.100.4|:443... connected.\n",
      "HTTP request sent, awaiting response... 200 OK\n",
      "Length: 424917164 (405M) [text/csv]\n",
      "Saving to: ‘public_150k_plus.csv’\n",
      "\n",
      "public_150k_plus.cs 100%[===================>] 405.23M  22.6MB/s    in 19s     \n",
      "\n",
      "2021-05-19 14:06:12 (21.8 MB/s) - ‘public_150k_plus.csv’ saved [424917164/424917164]\n",
      "\n"
     ]
    }
   ],
   "source": [
    "!wget https://data.sba.gov/dataset/8aa276e2-6cab-4f86-aca4-a7dde42adf24/resource/6b62a44b-69ec-436a-9b95-0ea550475543/download/public_150k_plus.csv"
   ]
  },
  {
   "cell_type": "code",
   "execution_count": 4,
   "metadata": {},
   "outputs": [
    {
     "name": "stdout",
     "output_type": "stream",
     "text": [
      "total 415428\r\n",
      "drwxr-xr-x 1 ldhagen ldhagen      4096 May 19 14:06 .ipynb_checkpoints\r\n",
      "drwxr-xr-x 1 ldhagen ldhagen      4096 May 19 14:06 .\r\n",
      "-rw-r--r-- 1 ldhagen ldhagen     20028 May 19 14:06 Updating_On_AWS.ipynb\r\n",
      "drwxr-xr-x 1 ldhagen ldhagen      4096 May 19 14:03 ..\r\n",
      "drwxr-xr-x 1 ldhagen ldhagen      4096 May 19 14:02 .git\r\n",
      "-rw-r--r-- 1 ldhagen ldhagen      1064 May 19 14:02 LICENSE\r\n",
      "-rw-r--r-- 1 ldhagen ldhagen        82 May 19 14:02 README.md\r\n",
      "-rw-r--r-- 1 ldhagen ldhagen    127633 May 19 14:02 Dec_2020_PPP_Work.ipynb\r\n",
      "-rw-r--r-- 1 ldhagen ldhagen     53812 May 19 14:02 InitialReview.ipynb\r\n",
      "-rw-r--r-- 1 ldhagen ldhagen 424917164 May  2 20:21 public_150k_plus.csv\r\n"
     ]
    }
   ],
   "source": [
    "!ls -alt "
   ]
  },
  {
   "cell_type": "code",
   "execution_count": 5,
   "metadata": {},
   "outputs": [],
   "source": [
    "df_all_high_SBA = pd.read_csv('public_150k_plus.csv')"
   ]
  },
  {
   "cell_type": "code",
   "execution_count": 6,
   "metadata": {},
   "outputs": [],
   "source": [
    "a = df_all_high_SBA"
   ]
  },
  {
   "cell_type": "code",
   "execution_count": 7,
   "metadata": {},
   "outputs": [
    {
     "data": {
      "text/plain": [
       "964361"
      ]
     },
     "execution_count": 7,
     "metadata": {},
     "output_type": "execute_result"
    }
   ],
   "source": [
    "len(a)"
   ]
  },
  {
   "cell_type": "code",
   "execution_count": 8,
   "metadata": {},
   "outputs": [
    {
     "name": "stdout",
     "output_type": "stream",
     "text": [
      "--2021-05-19 14:06:21--  https://data.sba.gov/dataset/8aa276e2-6cab-4f86-aca4-a7dde42adf24/resource/3d28c417-5170-4f1f-be31-b0c7b0182501/download/public_up_to_150k_1.csv\n",
      "Resolving data.sba.gov (data.sba.gov)... 13.226.201.77, 13.226.201.112, 13.226.201.11, ...\n",
      "Connecting to data.sba.gov (data.sba.gov)|13.226.201.77|:443... connected.\n",
      "HTTP request sent, awaiting response... 200 OK\n",
      "Length: 392252523 (374M) [text/csv]\n",
      "Saving to: ‘public_up_to_150k_1.csv’\n",
      "\n",
      "public_up_to_150k_1 100%[===================>] 374.08M  22.1MB/s    in 18s     \n",
      "\n",
      "2021-05-19 14:06:40 (20.5 MB/s) - ‘public_up_to_150k_1.csv’ saved [392252523/392252523]\n",
      "\n"
     ]
    }
   ],
   "source": [
    "!wget https://data.sba.gov/dataset/8aa276e2-6cab-4f86-aca4-a7dde42adf24/resource/3d28c417-5170-4f1f-be31-b0c7b0182501/download/public_up_to_150k_1.csv"
   ]
  },
  {
   "cell_type": "code",
   "execution_count": 9,
   "metadata": {},
   "outputs": [],
   "source": [
    "df_below_150_1_SBA = pd.read_csv('public_up_to_150k_1.csv')"
   ]
  },
  {
   "cell_type": "code",
   "execution_count": 10,
   "metadata": {},
   "outputs": [],
   "source": [
    "b = df_below_150_1_SBA"
   ]
  },
  {
   "cell_type": "code",
   "execution_count": 11,
   "metadata": {},
   "outputs": [
    {
     "data": {
      "text/plain": [
       "900000"
      ]
     },
     "execution_count": 11,
     "metadata": {},
     "output_type": "execute_result"
    }
   ],
   "source": [
    "len(b)"
   ]
  },
  {
   "cell_type": "code",
   "execution_count": 12,
   "metadata": {},
   "outputs": [
    {
     "name": "stdout",
     "output_type": "stream",
     "text": [
      "--2021-05-19 14:06:50--  https://data.sba.gov/dataset/8aa276e2-6cab-4f86-aca4-a7dde42adf24/resource/4a2529a5-08ce-436d-a448-465ca82eadaf/download/public_up_to_150k_2.csv\n",
      "Resolving data.sba.gov (data.sba.gov)... 13.226.201.77, 13.226.201.79, 13.226.201.11, ...\n",
      "Connecting to data.sba.gov (data.sba.gov)|13.226.201.77|:443... connected.\n",
      "HTTP request sent, awaiting response... 200 OK\n",
      "Length: 391773859 (374M) [text/csv]\n",
      "Saving to: ‘public_up_to_150k_2.csv’\n",
      "\n",
      "public_up_to_150k_2 100%[===================>] 373.62M  20.5MB/s    in 18s     \n",
      "\n",
      "2021-05-19 14:07:08 (20.9 MB/s) - ‘public_up_to_150k_2.csv’ saved [391773859/391773859]\n",
      "\n"
     ]
    }
   ],
   "source": [
    "!wget https://data.sba.gov/dataset/8aa276e2-6cab-4f86-aca4-a7dde42adf24/resource/4a2529a5-08ce-436d-a448-465ca82eadaf/download/public_up_to_150k_2.csv"
   ]
  },
  {
   "cell_type": "code",
   "execution_count": 15,
   "metadata": {},
   "outputs": [],
   "source": [
    "df_below_150_2_SBA = pd.read_csv('public_up_to_150k_2.csv')"
   ]
  },
  {
   "cell_type": "code",
   "execution_count": 16,
   "metadata": {},
   "outputs": [],
   "source": [
    "c = df_below_150_2_SBA"
   ]
  },
  {
   "cell_type": "code",
   "execution_count": 17,
   "metadata": {},
   "outputs": [
    {
     "data": {
      "text/plain": [
       "900000"
      ]
     },
     "execution_count": 17,
     "metadata": {},
     "output_type": "execute_result"
    }
   ],
   "source": [
    "len(c)"
   ]
  },
  {
   "cell_type": "code",
   "execution_count": 18,
   "metadata": {},
   "outputs": [
    {
     "name": "stdout",
     "output_type": "stream",
     "text": [
      "--2021-05-19 14:10:04--  https://data.sba.gov/dataset/8aa276e2-6cab-4f86-aca4-a7dde42adf24/resource/ffd0bdb7-cc41-4adb-9762-8957d61c1862/download/public_up_to_150k_3.csv\n",
      "Resolving data.sba.gov (data.sba.gov)... 99.86.100.4, 99.86.100.20, 99.86.100.62, ...\n",
      "Connecting to data.sba.gov (data.sba.gov)|99.86.100.4|:443... connected.\n",
      "HTTP request sent, awaiting response... 200 OK\n",
      "Length: 391318098 (373M) [text/csv]\n",
      "Saving to: ‘public_up_to_150k_3.csv’\n",
      "\n",
      "public_up_to_150k_3 100%[===================>] 373.19M  22.1MB/s    in 17s     \n",
      "\n",
      "2021-05-19 14:10:21 (21.9 MB/s) - ‘public_up_to_150k_3.csv’ saved [391318098/391318098]\n",
      "\n"
     ]
    }
   ],
   "source": [
    "!wget https://data.sba.gov/dataset/8aa276e2-6cab-4f86-aca4-a7dde42adf24/resource/ffd0bdb7-cc41-4adb-9762-8957d61c1862/download/public_up_to_150k_3.csv"
   ]
  },
  {
   "cell_type": "code",
   "execution_count": 19,
   "metadata": {},
   "outputs": [],
   "source": [
    "df_below_150_3_SBA = pd.read_csv('public_up_to_150k_3.csv')"
   ]
  },
  {
   "cell_type": "code",
   "execution_count": 20,
   "metadata": {},
   "outputs": [],
   "source": [
    "d = df_below_150_3_SBA"
   ]
  },
  {
   "cell_type": "code",
   "execution_count": 21,
   "metadata": {},
   "outputs": [
    {
     "data": {
      "text/plain": [
       "900000"
      ]
     },
     "execution_count": 21,
     "metadata": {},
     "output_type": "execute_result"
    }
   ],
   "source": [
    "len(d)"
   ]
  },
  {
   "cell_type": "code",
   "execution_count": 22,
   "metadata": {},
   "outputs": [
    {
     "name": "stdout",
     "output_type": "stream",
     "text": [
      "--2021-05-19 14:10:29--  https://data.sba.gov/dataset/8aa276e2-6cab-4f86-aca4-a7dde42adf24/resource/864cd9cb-7797-42da-b991-68ac24fcab9a/download/public_up_to_150k_4.csv\n",
      "Resolving data.sba.gov (data.sba.gov)... 99.86.100.14, 99.86.100.4, 99.86.100.20, ...\n",
      "Connecting to data.sba.gov (data.sba.gov)|99.86.100.14|:443... connected.\n",
      "HTTP request sent, awaiting response... 200 OK\n",
      "Length: 384552881 (367M) [text/csv]\n",
      "Saving to: ‘public_up_to_150k_4.csv’\n",
      "\n",
      "public_up_to_150k_4 100%[===================>] 366.74M  21.8MB/s    in 16s     \n",
      "\n",
      "2021-05-19 14:10:45 (22.6 MB/s) - ‘public_up_to_150k_4.csv’ saved [384552881/384552881]\n",
      "\n"
     ]
    }
   ],
   "source": [
    "!wget https://data.sba.gov/dataset/8aa276e2-6cab-4f86-aca4-a7dde42adf24/resource/864cd9cb-7797-42da-b991-68ac24fcab9a/download/public_up_to_150k_4.csv"
   ]
  },
  {
   "cell_type": "code",
   "execution_count": 23,
   "metadata": {},
   "outputs": [
    {
     "name": "stderr",
     "output_type": "stream",
     "text": [
      "/usr/lib/python3/dist-packages/IPython/core/interactiveshell.py:3062: DtypeWarning: Columns (16,50) have mixed types.Specify dtype option on import or set low_memory=False.\n",
      "  has_raised = await self.run_ast_nodes(code_ast.body, cell_name,\n"
     ]
    }
   ],
   "source": [
    "df_below_150_4_SBA = pd.read_csv('public_up_to_150k_4.csv')"
   ]
  },
  {
   "cell_type": "code",
   "execution_count": 24,
   "metadata": {},
   "outputs": [],
   "source": [
    "e = df_below_150_4_SBA"
   ]
  },
  {
   "cell_type": "code",
   "execution_count": 25,
   "metadata": {},
   "outputs": [
    {
     "data": {
      "text/plain": [
       "900000"
      ]
     },
     "execution_count": 25,
     "metadata": {},
     "output_type": "execute_result"
    }
   ],
   "source": [
    "len(e)"
   ]
  },
  {
   "cell_type": "code",
   "execution_count": 26,
   "metadata": {},
   "outputs": [
    {
     "name": "stdout",
     "output_type": "stream",
     "text": [
      "Filesystem     1K-blocks     Used Available Use% Mounted on\r\n",
      "rootfs         498713704 68728504 429985200  14% /\r\n",
      "none           498713704 68728504 429985200  14% /dev\r\n",
      "none           498713704 68728504 429985200  14% /run\r\n",
      "none           498713704 68728504 429985200  14% /run/lock\r\n",
      "none           498713704 68728504 429985200  14% /run/shm\r\n",
      "none           498713704 68728504 429985200  14% /run/user\r\n",
      "tmpfs          498713704 68728504 429985200  14% /sys/fs/cgroup\r\n",
      "C:\\            498713704 68728504 429985200  14% /mnt/c\r\n"
     ]
    }
   ],
   "source": [
    "!df -k"
   ]
  },
  {
   "cell_type": "code",
   "execution_count": 27,
   "metadata": {},
   "outputs": [
    {
     "name": "stdout",
     "output_type": "stream",
     "text": [
      "--2021-05-19 14:10:52--  https://data.sba.gov/dataset/8aa276e2-6cab-4f86-aca4-a7dde42adf24/resource/3032cb97-3a22-4ded-a0ca-69bdf54cdc32/download/public_up_to_150k_5.csv\n",
      "Resolving data.sba.gov (data.sba.gov)... 99.86.100.14, 99.86.100.62, 99.86.100.20, ...\n",
      "Connecting to data.sba.gov (data.sba.gov)|99.86.100.14|:443... connected.\n",
      "HTTP request sent, awaiting response... 200 OK\n",
      "Length: 386053602 (368M) [text/csv]\n",
      "Saving to: ‘public_up_to_150k_5.csv’\n",
      "\n",
      "public_up_to_150k_5 100%[===================>] 368.17M  21.6MB/s    in 16s     \n",
      "\n",
      "2021-05-19 14:11:08 (22.7 MB/s) - ‘public_up_to_150k_5.csv’ saved [386053602/386053602]\n",
      "\n"
     ]
    }
   ],
   "source": [
    "!wget https://data.sba.gov/dataset/8aa276e2-6cab-4f86-aca4-a7dde42adf24/resource/3032cb97-3a22-4ded-a0ca-69bdf54cdc32/download/public_up_to_150k_5.csv"
   ]
  },
  {
   "cell_type": "code",
   "execution_count": 28,
   "metadata": {},
   "outputs": [],
   "source": [
    "df_below_150_5_SBA = pd.read_csv('public_up_to_150k_5.csv')"
   ]
  },
  {
   "cell_type": "code",
   "execution_count": 29,
   "metadata": {},
   "outputs": [],
   "source": [
    "f = df_below_150_5_SBA"
   ]
  },
  {
   "cell_type": "code",
   "execution_count": 30,
   "metadata": {},
   "outputs": [
    {
     "data": {
      "text/plain": [
       "900000"
      ]
     },
     "execution_count": 30,
     "metadata": {},
     "output_type": "execute_result"
    }
   ],
   "source": [
    "len(f)"
   ]
  },
  {
   "cell_type": "code",
   "execution_count": 31,
   "metadata": {},
   "outputs": [
    {
     "name": "stdout",
     "output_type": "stream",
     "text": [
      "--2021-05-19 14:11:16--  https://data.sba.gov/dataset/8aa276e2-6cab-4f86-aca4-a7dde42adf24/resource/8fd56c55-8ad6-491e-a219-441c50471e4d/download/public_up_to_150k_6.csv\n",
      "Resolving data.sba.gov (data.sba.gov)... 99.86.100.4, 99.86.100.14, 99.86.100.62, ...\n",
      "Connecting to data.sba.gov (data.sba.gov)|99.86.100.4|:443... connected.\n",
      "HTTP request sent, awaiting response... 200 OK\n",
      "Length: 386944818 (369M) [text/csv]\n",
      "Saving to: ‘public_up_to_150k_6.csv’\n",
      "\n",
      "public_up_to_150k_6 100%[===================>] 369.02M  23.6MB/s    in 16s     \n",
      "\n",
      "2021-05-19 14:11:33 (22.4 MB/s) - ‘public_up_to_150k_6.csv’ saved [386944818/386944818]\n",
      "\n"
     ]
    }
   ],
   "source": [
    "!wget https://data.sba.gov/dataset/8aa276e2-6cab-4f86-aca4-a7dde42adf24/resource/8fd56c55-8ad6-491e-a219-441c50471e4d/download/public_up_to_150k_6.csv"
   ]
  },
  {
   "cell_type": "code",
   "execution_count": 32,
   "metadata": {},
   "outputs": [
    {
     "name": "stderr",
     "output_type": "stream",
     "text": [
      "/usr/lib/python3/dist-packages/IPython/core/interactiveshell.py:3062: DtypeWarning: Columns (50) have mixed types.Specify dtype option on import or set low_memory=False.\n",
      "  has_raised = await self.run_ast_nodes(code_ast.body, cell_name,\n"
     ]
    }
   ],
   "source": [
    "df_below_150_6_SBA = pd.read_csv('public_up_to_150k_6.csv')"
   ]
  },
  {
   "cell_type": "code",
   "execution_count": 33,
   "metadata": {},
   "outputs": [],
   "source": [
    "g = df_below_150_6_SBA"
   ]
  },
  {
   "cell_type": "code",
   "execution_count": 34,
   "metadata": {},
   "outputs": [
    {
     "data": {
      "text/plain": [
       "900000"
      ]
     },
     "execution_count": 34,
     "metadata": {},
     "output_type": "execute_result"
    }
   ],
   "source": [
    "len(g)"
   ]
  },
  {
   "cell_type": "code",
   "execution_count": 35,
   "metadata": {},
   "outputs": [
    {
     "name": "stdout",
     "output_type": "stream",
     "text": [
      "--2021-05-19 14:11:40--  https://data.sba.gov/dataset/8aa276e2-6cab-4f86-aca4-a7dde42adf24/resource/7fd17fde-42a9-4a5a-8be9-dfbc6703e5f3/download/public_up_to_150k_7.csv\n",
      "Resolving data.sba.gov (data.sba.gov)... 99.86.100.62, 99.86.100.4, 99.86.100.14, ...\n",
      "Connecting to data.sba.gov (data.sba.gov)|99.86.100.62|:443... connected.\n",
      "HTTP request sent, awaiting response... 200 OK\n",
      "Length: 383803269 (366M) [text/csv]\n",
      "Saving to: ‘public_up_to_150k_7.csv’\n",
      "\n",
      "public_up_to_150k_7 100%[===================>] 366.02M  21.9MB/s    in 17s     \n",
      "\n",
      "2021-05-19 14:11:57 (21.0 MB/s) - ‘public_up_to_150k_7.csv’ saved [383803269/383803269]\n",
      "\n"
     ]
    }
   ],
   "source": [
    "!wget https://data.sba.gov/dataset/8aa276e2-6cab-4f86-aca4-a7dde42adf24/resource/7fd17fde-42a9-4a5a-8be9-dfbc6703e5f3/download/public_up_to_150k_7.csv"
   ]
  },
  {
   "cell_type": "code",
   "execution_count": 36,
   "metadata": {},
   "outputs": [],
   "source": [
    "df_below_150_7_SBA = pd.read_csv('public_up_to_150k_7.csv')"
   ]
  },
  {
   "cell_type": "code",
   "execution_count": 37,
   "metadata": {},
   "outputs": [],
   "source": [
    "h = df_below_150_7_SBA"
   ]
  },
  {
   "cell_type": "code",
   "execution_count": 38,
   "metadata": {},
   "outputs": [
    {
     "data": {
      "text/plain": [
       "900000"
      ]
     },
     "execution_count": 38,
     "metadata": {},
     "output_type": "execute_result"
    }
   ],
   "source": [
    "len(h)"
   ]
  },
  {
   "cell_type": "code",
   "execution_count": 39,
   "metadata": {},
   "outputs": [
    {
     "name": "stdout",
     "output_type": "stream",
     "text": [
      "--2021-05-19 14:12:04--  https://data.sba.gov/dataset/8aa276e2-6cab-4f86-aca4-a7dde42adf24/resource/c0c87f18-333a-43e8-843e-7c1e27b18317/download/public_up_to_150k_8.csv\n",
      "Resolving data.sba.gov (data.sba.gov)... 99.86.100.20, 99.86.100.62, 99.86.100.4, ...\n",
      "Connecting to data.sba.gov (data.sba.gov)|99.86.100.20|:443... connected.\n",
      "HTTP request sent, awaiting response... 200 OK\n",
      "Length: 389512439 (371M) [text/csv]\n",
      "Saving to: ‘public_up_to_150k_8.csv’\n",
      "\n",
      "public_up_to_150k_8 100%[===================>] 371.47M  20.8MB/s    in 17s     \n",
      "\n",
      "2021-05-19 14:12:21 (22.0 MB/s) - ‘public_up_to_150k_8.csv’ saved [389512439/389512439]\n",
      "\n"
     ]
    }
   ],
   "source": [
    "!wget https://data.sba.gov/dataset/8aa276e2-6cab-4f86-aca4-a7dde42adf24/resource/c0c87f18-333a-43e8-843e-7c1e27b18317/download/public_up_to_150k_8.csv"
   ]
  },
  {
   "cell_type": "code",
   "execution_count": 40,
   "metadata": {},
   "outputs": [],
   "source": [
    "df_below_150_8_SBA = pd.read_csv('public_up_to_150k_8.csv')"
   ]
  },
  {
   "cell_type": "code",
   "execution_count": 41,
   "metadata": {},
   "outputs": [],
   "source": [
    "i = df_below_150_8_SBA"
   ]
  },
  {
   "cell_type": "code",
   "execution_count": 42,
   "metadata": {},
   "outputs": [
    {
     "data": {
      "text/plain": [
       "900000"
      ]
     },
     "execution_count": 42,
     "metadata": {},
     "output_type": "execute_result"
    }
   ],
   "source": [
    "len(i)"
   ]
  },
  {
   "cell_type": "code",
   "execution_count": 43,
   "metadata": {},
   "outputs": [
    {
     "name": "stdout",
     "output_type": "stream",
     "text": [
      "--2021-05-19 14:12:29--  https://data.sba.gov/dataset/8aa276e2-6cab-4f86-aca4-a7dde42adf24/resource/88d9f6f7-b471-4f5b-ae3e-7b9d7b394ad2/download/public_up_to_150k_9.csv\n",
      "Resolving data.sba.gov (data.sba.gov)... 99.86.100.14, 99.86.100.20, 99.86.100.62, ...\n",
      "Connecting to data.sba.gov (data.sba.gov)|99.86.100.14|:443... connected.\n",
      "HTTP request sent, awaiting response... 200 OK\n",
      "Length: 387829563 (370M) [text/csv]\n",
      "Saving to: ‘public_up_to_150k_9.csv’\n",
      "\n",
      "public_up_to_150k_9 100%[===================>] 369.86M  21.5MB/s    in 17s     \n",
      "\n",
      "2021-05-19 14:12:47 (21.4 MB/s) - ‘public_up_to_150k_9.csv’ saved [387829563/387829563]\n",
      "\n"
     ]
    }
   ],
   "source": [
    "!wget https://data.sba.gov/dataset/8aa276e2-6cab-4f86-aca4-a7dde42adf24/resource/88d9f6f7-b471-4f5b-ae3e-7b9d7b394ad2/download/public_up_to_150k_9.csv"
   ]
  },
  {
   "cell_type": "code",
   "execution_count": 44,
   "metadata": {},
   "outputs": [],
   "source": [
    "df_below_150_9_SBA = pd.read_csv('public_up_to_150k_9.csv')"
   ]
  },
  {
   "cell_type": "code",
   "execution_count": 45,
   "metadata": {},
   "outputs": [],
   "source": [
    "j = df_below_150_9_SBA"
   ]
  },
  {
   "cell_type": "code",
   "execution_count": 46,
   "metadata": {},
   "outputs": [
    {
     "data": {
      "text/plain": [
       "900000"
      ]
     },
     "execution_count": 46,
     "metadata": {},
     "output_type": "execute_result"
    }
   ],
   "source": [
    "len(j)"
   ]
  },
  {
   "cell_type": "code",
   "execution_count": 57,
   "metadata": {},
   "outputs": [
    {
     "name": "stdout",
     "output_type": "stream",
     "text": [
      "--2021-05-19 14:17:11--  https://data.sba.gov/dataset/8aa276e2-6cab-4f86-aca4-a7dde42adf24/resource/1d790863-35f5-491c-9e1c-e09fa7905a7c/download/public_up_to_150k_10.csv\n",
      "Resolving data.sba.gov (data.sba.gov)... 99.86.100.62, 99.86.100.4, 99.86.100.20, ...\n",
      "Connecting to data.sba.gov (data.sba.gov)|99.86.100.62|:443... connected.\n",
      "HTTP request sent, awaiting response... 200 OK\n",
      "Length: 385399115 (368M) [text/csv]\n",
      "Saving to: ‘public_up_to_150k_10.csv’\n",
      "\n",
      "public_up_to_150k_1 100%[===================>] 367.54M  21.7MB/s    in 17s     \n",
      "\n",
      "2021-05-19 14:17:29 (21.7 MB/s) - ‘public_up_to_150k_10.csv’ saved [385399115/385399115]\n",
      "\n"
     ]
    }
   ],
   "source": [
    "!wget https://data.sba.gov/dataset/8aa276e2-6cab-4f86-aca4-a7dde42adf24/resource/1d790863-35f5-491c-9e1c-e09fa7905a7c/download/public_up_to_150k_10.csv"
   ]
  },
  {
   "cell_type": "code",
   "execution_count": 62,
   "metadata": {},
   "outputs": [],
   "source": [
    "df_below_150_10_SBA = pd.read_csv('public_up_to_150k_10.csv')"
   ]
  },
  {
   "cell_type": "code",
   "execution_count": 59,
   "metadata": {},
   "outputs": [],
   "source": [
    "k = df_below_150_10_SBA"
   ]
  },
  {
   "cell_type": "code",
   "execution_count": 60,
   "metadata": {},
   "outputs": [
    {
     "data": {
      "text/plain": [
       "900000"
      ]
     },
     "execution_count": 60,
     "metadata": {},
     "output_type": "execute_result"
    }
   ],
   "source": [
    "len(k)"
   ]
  },
  {
   "cell_type": "code",
   "execution_count": 61,
   "metadata": {},
   "outputs": [
    {
     "name": "stdout",
     "output_type": "stream",
     "text": [
      "--2021-05-19 14:19:09--  https://data.sba.gov/dataset/8aa276e2-6cab-4f86-aca4-a7dde42adf24/resource/9499ab4e-2016-41fd-b1a0-23d5a2d065cf/download/public_up_to_150k_11.csv\n",
      "Resolving data.sba.gov (data.sba.gov)... 99.86.100.4, 99.86.100.14, 99.86.100.62, ...\n",
      "Connecting to data.sba.gov (data.sba.gov)|99.86.100.4|:443... connected.\n",
      "HTTP request sent, awaiting response... 200 OK\n",
      "Length: 313914907 (299M) [text/csv]\n",
      "Saving to: ‘public_up_to_150k_11.csv’\n",
      "\n",
      "public_up_to_150k_1 100%[===================>] 299.37M  22.0MB/s    in 14s     \n",
      "\n",
      "2021-05-19 14:19:24 (21.1 MB/s) - ‘public_up_to_150k_11.csv’ saved [313914907/313914907]\n",
      "\n"
     ]
    }
   ],
   "source": [
    "!wget https://data.sba.gov/dataset/8aa276e2-6cab-4f86-aca4-a7dde42adf24/resource/9499ab4e-2016-41fd-b1a0-23d5a2d065cf/download/public_up_to_150k_11.csv"
   ]
  },
  {
   "cell_type": "code",
   "execution_count": 63,
   "metadata": {},
   "outputs": [],
   "source": [
    "df_below_150_11_SBA = pd.read_csv('public_up_to_150k_11.csv')"
   ]
  },
  {
   "cell_type": "code",
   "execution_count": 64,
   "metadata": {},
   "outputs": [],
   "source": [
    "l = df_below_150_11_SBA"
   ]
  },
  {
   "cell_type": "code",
   "execution_count": 65,
   "metadata": {},
   "outputs": [
    {
     "data": {
      "text/plain": [
       "732858"
      ]
     },
     "execution_count": 65,
     "metadata": {},
     "output_type": "execute_result"
    }
   ],
   "source": [
    "len(l)"
   ]
  },
  {
   "cell_type": "code",
   "execution_count": 66,
   "metadata": {},
   "outputs": [
    {
     "name": "stdout",
     "output_type": "stream",
     "text": [
      "Filesystem     1K-blocks     Used Available Use% Mounted on\r\n",
      "rootfs         498713704 81196976 417516728  17% /\r\n",
      "none           498713704 81196976 417516728  17% /dev\r\n",
      "none           498713704 81196976 417516728  17% /run\r\n",
      "none           498713704 81196976 417516728  17% /run/lock\r\n",
      "none           498713704 81196976 417516728  17% /run/shm\r\n",
      "none           498713704 81196976 417516728  17% /run/user\r\n",
      "tmpfs          498713704 81196976 417516728  17% /sys/fs/cgroup\r\n",
      "C:\\            498713704 81196976 417516728  17% /mnt/c\r\n"
     ]
    }
   ],
   "source": [
    "!df -k"
   ]
  },
  {
   "cell_type": "code",
   "execution_count": 67,
   "metadata": {},
   "outputs": [
    {
     "name": "stdout",
     "output_type": "stream",
     "text": [
      "<class 'pandas.core.frame.DataFrame'>\n",
      "RangeIndex: 732858 entries, 0 to 732857\n",
      "Data columns (total 51 columns):\n",
      " #   Column                       Non-Null Count   Dtype  \n",
      "---  ------                       --------------   -----  \n",
      " 0   LoanNumber                   732858 non-null  int64  \n",
      " 1   DateApproved                 732858 non-null  object \n",
      " 2   SBAOfficeCode                732858 non-null  int64  \n",
      " 3   ProcessingMethod             732858 non-null  object \n",
      " 4   BorrowerName                 732851 non-null  object \n",
      " 5   BorrowerAddress              732852 non-null  object \n",
      " 6   BorrowerCity                 732853 non-null  object \n",
      " 7   BorrowerState                732858 non-null  object \n",
      " 8   BorrowerZip                  732853 non-null  object \n",
      " 9   LoanStatusDate               256579 non-null  object \n",
      " 10  LoanStatus                   732858 non-null  object \n",
      " 11  Term                         732858 non-null  int64  \n",
      " 12  SBAGuarantyPercentage        732858 non-null  int64  \n",
      " 13  InitialApprovalAmount        732858 non-null  float64\n",
      " 14  CurrentApprovalAmount        732858 non-null  float64\n",
      " 15  UndisbursedAmount            731988 non-null  float64\n",
      " 16  FranchiseName                10385 non-null   object \n",
      " 17  ServicingLenderLocationID    732858 non-null  int64  \n",
      " 18  ServicingLenderName          732858 non-null  object \n",
      " 19  ServicingLenderAddress       732858 non-null  object \n",
      " 20  ServicingLenderCity          732858 non-null  object \n",
      " 21  ServicingLenderState         732858 non-null  object \n",
      " 22  ServicingLenderZip           732858 non-null  object \n",
      " 23  RuralUrbanIndicator          732858 non-null  object \n",
      " 24  HubzoneIndicator             732858 non-null  object \n",
      " 25  LMIIndicator                 732858 non-null  object \n",
      " 26  BusinessAgeDescription       732858 non-null  object \n",
      " 27  ProjectCity                  732853 non-null  object \n",
      " 28  ProjectCountyName            732825 non-null  object \n",
      " 29  ProjectState                 732858 non-null  object \n",
      " 30  ProjectZip                   732853 non-null  object \n",
      " 31  CD                           732834 non-null  object \n",
      " 32  JobsReported                 732857 non-null  float64\n",
      " 33  NAICSCode                    725392 non-null  float64\n",
      " 34  Race                         732858 non-null  object \n",
      " 35  Ethnicity                    732858 non-null  object \n",
      " 36  UTILITIES_PROCEED            202865 non-null  float64\n",
      " 37  PAYROLL_PROCEED              732075 non-null  float64\n",
      " 38  MORTGAGE_INTEREST_PROCEED    19710 non-null   float64\n",
      " 39  RENT_PROCEED                 26805 non-null   float64\n",
      " 40  REFINANCE_EIDL_PROCEED       4676 non-null    float64\n",
      " 41  HEALTH_CARE_PROCEED          7655 non-null    float64\n",
      " 42  DEBT_INTEREST_PROCEED        4973 non-null    float64\n",
      " 43  BusinessType                 732781 non-null  object \n",
      " 44  OriginatingLenderLocationID  732858 non-null  int64  \n",
      " 45  OriginatingLender            732858 non-null  object \n",
      " 46  OriginatingLenderCity        732858 non-null  object \n",
      " 47  OriginatingLenderState       732858 non-null  object \n",
      " 48  Gender                       732858 non-null  object \n",
      " 49  Veteran                      732858 non-null  object \n",
      " 50  NonProfit                    19756 non-null   object \n",
      "dtypes: float64(12), int64(6), object(33)\n",
      "memory usage: 285.2+ MB\n"
     ]
    }
   ],
   "source": [
    "l.info()"
   ]
  },
  {
   "cell_type": "code",
   "execution_count": 78,
   "metadata": {},
   "outputs": [],
   "source": [
    "result = b.append(c)"
   ]
  },
  {
   "cell_type": "code",
   "execution_count": 79,
   "metadata": {},
   "outputs": [],
   "source": [
    "result = result.append(d)"
   ]
  },
  {
   "cell_type": "code",
   "execution_count": 82,
   "metadata": {},
   "outputs": [],
   "source": [
    "result = result.append(e)"
   ]
  },
  {
   "cell_type": "code",
   "execution_count": 83,
   "metadata": {},
   "outputs": [],
   "source": [
    "result = result.append(f)"
   ]
  },
  {
   "cell_type": "code",
   "execution_count": 84,
   "metadata": {},
   "outputs": [],
   "source": [
    "result = result.append(g)"
   ]
  },
  {
   "cell_type": "code",
   "execution_count": 85,
   "metadata": {},
   "outputs": [],
   "source": [
    "result = result.append(h)"
   ]
  },
  {
   "cell_type": "code",
   "execution_count": 86,
   "metadata": {},
   "outputs": [],
   "source": [
    "result = result.append(i)"
   ]
  },
  {
   "cell_type": "code",
   "execution_count": 87,
   "metadata": {},
   "outputs": [],
   "source": [
    "result = result.append(j)"
   ]
  },
  {
   "cell_type": "code",
   "execution_count": 88,
   "metadata": {},
   "outputs": [],
   "source": [
    "result = result.append(k)"
   ]
  },
  {
   "cell_type": "code",
   "execution_count": 89,
   "metadata": {},
   "outputs": [],
   "source": [
    "result = result.append(l)"
   ]
  },
  {
   "cell_type": "code",
   "execution_count": null,
   "metadata": {},
   "outputs": [],
   "source": []
  },
  {
   "cell_type": "code",
   "execution_count": null,
   "metadata": {},
   "outputs": [],
   "source": []
  },
  {
   "cell_type": "code",
   "execution_count": 90,
   "metadata": {},
   "outputs": [
    {
     "data": {
      "text/html": [
       "<div>\n",
       "<style scoped>\n",
       "    .dataframe tbody tr th:only-of-type {\n",
       "        vertical-align: middle;\n",
       "    }\n",
       "\n",
       "    .dataframe tbody tr th {\n",
       "        vertical-align: top;\n",
       "    }\n",
       "\n",
       "    .dataframe thead th {\n",
       "        text-align: right;\n",
       "    }\n",
       "</style>\n",
       "<table border=\"1\" class=\"dataframe\">\n",
       "  <thead>\n",
       "    <tr style=\"text-align: right;\">\n",
       "      <th></th>\n",
       "      <th>LoanNumber</th>\n",
       "      <th>DateApproved</th>\n",
       "      <th>SBAOfficeCode</th>\n",
       "      <th>ProcessingMethod</th>\n",
       "      <th>BorrowerName</th>\n",
       "      <th>BorrowerAddress</th>\n",
       "      <th>BorrowerCity</th>\n",
       "      <th>BorrowerState</th>\n",
       "      <th>BorrowerZip</th>\n",
       "      <th>LoanStatusDate</th>\n",
       "      <th>...</th>\n",
       "      <th>HEALTH_CARE_PROCEED</th>\n",
       "      <th>DEBT_INTEREST_PROCEED</th>\n",
       "      <th>BusinessType</th>\n",
       "      <th>OriginatingLenderLocationID</th>\n",
       "      <th>OriginatingLender</th>\n",
       "      <th>OriginatingLenderCity</th>\n",
       "      <th>OriginatingLenderState</th>\n",
       "      <th>Gender</th>\n",
       "      <th>Veteran</th>\n",
       "      <th>NonProfit</th>\n",
       "    </tr>\n",
       "  </thead>\n",
       "  <tbody>\n",
       "    <tr>\n",
       "      <th>0</th>\n",
       "      <td>5375617707</td>\n",
       "      <td>05/01/2020</td>\n",
       "      <td>101.0</td>\n",
       "      <td>PPP</td>\n",
       "      <td>NOT AVAILABLE</td>\n",
       "      <td>NaN</td>\n",
       "      <td>NaN</td>\n",
       "      <td>NaN</td>\n",
       "      <td>NaN</td>\n",
       "      <td>NaN</td>\n",
       "      <td>...</td>\n",
       "      <td>NaN</td>\n",
       "      <td>NaN</td>\n",
       "      <td>NaN</td>\n",
       "      <td>9551.0</td>\n",
       "      <td>Bank of America, National Association</td>\n",
       "      <td>CHARLOTTE</td>\n",
       "      <td>NC</td>\n",
       "      <td>Unanswered</td>\n",
       "      <td>Unanswered</td>\n",
       "      <td>NaN</td>\n",
       "    </tr>\n",
       "    <tr>\n",
       "      <th>0</th>\n",
       "      <td>8085248400</td>\n",
       "      <td>02/12/2021</td>\n",
       "      <td>912.0</td>\n",
       "      <td>PPS</td>\n",
       "      <td>JAMES BAIGRIE INC</td>\n",
       "      <td>981 Butterfield Rd</td>\n",
       "      <td>San Anselmo</td>\n",
       "      <td>CA</td>\n",
       "      <td>94960-1147</td>\n",
       "      <td>NaN</td>\n",
       "      <td>...</td>\n",
       "      <td>NaN</td>\n",
       "      <td>NaN</td>\n",
       "      <td>Corporation</td>\n",
       "      <td>9551.0</td>\n",
       "      <td>Bank of America, National Association</td>\n",
       "      <td>CHARLOTTE</td>\n",
       "      <td>NC</td>\n",
       "      <td>Male Owned</td>\n",
       "      <td>Non-Veteran</td>\n",
       "      <td>NaN</td>\n",
       "    </tr>\n",
       "    <tr>\n",
       "      <th>0</th>\n",
       "      <td>4821127110</td>\n",
       "      <td>04/13/2020</td>\n",
       "      <td>455.0</td>\n",
       "      <td>PPP</td>\n",
       "      <td>SUPERIOR CHARTER SCHOOL SERVICES INC.</td>\n",
       "      <td>14850 Sw 26th st suite 213</td>\n",
       "      <td>MIAMI</td>\n",
       "      <td>FL</td>\n",
       "      <td>33185-5927</td>\n",
       "      <td>NaN</td>\n",
       "      <td>...</td>\n",
       "      <td>NaN</td>\n",
       "      <td>NaN</td>\n",
       "      <td>Corporation</td>\n",
       "      <td>225134.0</td>\n",
       "      <td>Truist Bank d/b/a Branch Banking &amp; Trust Co</td>\n",
       "      <td>CHARLOTTE</td>\n",
       "      <td>NC</td>\n",
       "      <td>Male Owned</td>\n",
       "      <td>Non-Veteran</td>\n",
       "      <td>NaN</td>\n",
       "    </tr>\n",
       "    <tr>\n",
       "      <th>0</th>\n",
       "      <td>1476448701</td>\n",
       "      <td>03/27/2021</td>\n",
       "      <td>405.0</td>\n",
       "      <td>PPS</td>\n",
       "      <td>JOHN HASLAM</td>\n",
       "      <td>2151 Cumberland Pkwy SE Apt 221</td>\n",
       "      <td>Atlanta</td>\n",
       "      <td>GA</td>\n",
       "      <td>30339-4592</td>\n",
       "      <td>NaN</td>\n",
       "      <td>...</td>\n",
       "      <td>NaN</td>\n",
       "      <td>NaN</td>\n",
       "      <td>Limited  Liability Company(LLC)</td>\n",
       "      <td>2408.0</td>\n",
       "      <td>Regions Bank</td>\n",
       "      <td>BIRMINGHAM</td>\n",
       "      <td>AL</td>\n",
       "      <td>Male Owned</td>\n",
       "      <td>Non-Veteran</td>\n",
       "      <td>NaN</td>\n",
       "    </tr>\n",
       "    <tr>\n",
       "      <th>0</th>\n",
       "      <td>5726418509</td>\n",
       "      <td>03/01/2021</td>\n",
       "      <td>507.0</td>\n",
       "      <td>PPP</td>\n",
       "      <td>ROSEMARY DICKERSON</td>\n",
       "      <td>1647 W Montvale Ave</td>\n",
       "      <td>Chicago</td>\n",
       "      <td>IL</td>\n",
       "      <td>60643-4474</td>\n",
       "      <td>NaN</td>\n",
       "      <td>...</td>\n",
       "      <td>NaN</td>\n",
       "      <td>NaN</td>\n",
       "      <td>Sole Proprietorship</td>\n",
       "      <td>456756.0</td>\n",
       "      <td>Cross River Bank</td>\n",
       "      <td>TEANECK</td>\n",
       "      <td>NJ</td>\n",
       "      <td>Unanswered</td>\n",
       "      <td>Unanswered</td>\n",
       "      <td>NaN</td>\n",
       "    </tr>\n",
       "    <tr>\n",
       "      <th>0</th>\n",
       "      <td>2715787302</td>\n",
       "      <td>04/29/2020</td>\n",
       "      <td>101.0</td>\n",
       "      <td>PPP</td>\n",
       "      <td>AVAIL PROJECT MANAGEMENT, LLC</td>\n",
       "      <td>47 Gilson Rd</td>\n",
       "      <td>Littleton</td>\n",
       "      <td>MA</td>\n",
       "      <td>01460</td>\n",
       "      <td>NaN</td>\n",
       "      <td>...</td>\n",
       "      <td>NaN</td>\n",
       "      <td>NaN</td>\n",
       "      <td>Limited  Liability Company(LLC)</td>\n",
       "      <td>109589.0</td>\n",
       "      <td>Digital FCU</td>\n",
       "      <td>MARLBOROUGH</td>\n",
       "      <td>MA</td>\n",
       "      <td>Male Owned</td>\n",
       "      <td>Non-Veteran</td>\n",
       "      <td>NaN</td>\n",
       "    </tr>\n",
       "    <tr>\n",
       "      <th>0</th>\n",
       "      <td>8785748006</td>\n",
       "      <td>07/06/2020</td>\n",
       "      <td>721.0</td>\n",
       "      <td>PPP</td>\n",
       "      <td>HER HANG</td>\n",
       "      <td>17080 ZEBRA DR</td>\n",
       "      <td>FAIRVIEW</td>\n",
       "      <td>MO</td>\n",
       "      <td>64842-7147</td>\n",
       "      <td>03/05/2021</td>\n",
       "      <td>...</td>\n",
       "      <td>NaN</td>\n",
       "      <td>NaN</td>\n",
       "      <td>Sole Proprietorship</td>\n",
       "      <td>124303.0</td>\n",
       "      <td>Freedom Bank of Southern Missouri</td>\n",
       "      <td>CASSVILLE</td>\n",
       "      <td>MO</td>\n",
       "      <td>Male Owned</td>\n",
       "      <td>Unanswered</td>\n",
       "      <td>NaN</td>\n",
       "    </tr>\n",
       "    <tr>\n",
       "      <th>0</th>\n",
       "      <td>7981197700</td>\n",
       "      <td>05/01/2020</td>\n",
       "      <td>944.0</td>\n",
       "      <td>PPP</td>\n",
       "      <td>BOB HAMMON CONSTRUCTION</td>\n",
       "      <td>Box 1060</td>\n",
       "      <td>Fallon</td>\n",
       "      <td>NV</td>\n",
       "      <td>89407</td>\n",
       "      <td>02/20/2021</td>\n",
       "      <td>...</td>\n",
       "      <td>NaN</td>\n",
       "      <td>NaN</td>\n",
       "      <td>Sole Proprietorship</td>\n",
       "      <td>72601.0</td>\n",
       "      <td>Zions Bank, A Division of</td>\n",
       "      <td>SALT LAKE CITY</td>\n",
       "      <td>UT</td>\n",
       "      <td>Unanswered</td>\n",
       "      <td>Unanswered</td>\n",
       "      <td>NaN</td>\n",
       "    </tr>\n",
       "    <tr>\n",
       "      <th>0</th>\n",
       "      <td>5230377902</td>\n",
       "      <td>06/15/2020</td>\n",
       "      <td>593.0</td>\n",
       "      <td>PPP</td>\n",
       "      <td>RORIMAC LLC</td>\n",
       "      <td>285 Basswood Rd A</td>\n",
       "      <td>COLUMBUS</td>\n",
       "      <td>OH</td>\n",
       "      <td>43207-3836</td>\n",
       "      <td>NaN</td>\n",
       "      <td>...</td>\n",
       "      <td>NaN</td>\n",
       "      <td>NaN</td>\n",
       "      <td>Limited  Liability Company(LLC)</td>\n",
       "      <td>456756.0</td>\n",
       "      <td>Cross River Bank</td>\n",
       "      <td>TEANECK</td>\n",
       "      <td>NJ</td>\n",
       "      <td>Unanswered</td>\n",
       "      <td>Unanswered</td>\n",
       "      <td>NaN</td>\n",
       "    </tr>\n",
       "    <tr>\n",
       "      <th>0</th>\n",
       "      <td>8906297700</td>\n",
       "      <td>05/01/2020</td>\n",
       "      <td>474.0</td>\n",
       "      <td>PPP</td>\n",
       "      <td>STAGECOACH AUTO REPAIR INC.</td>\n",
       "      <td>3710 JOHN LUNN RD STE 1</td>\n",
       "      <td>SPRING HILL</td>\n",
       "      <td>TN</td>\n",
       "      <td>37174-5150</td>\n",
       "      <td>NaN</td>\n",
       "      <td>...</td>\n",
       "      <td>NaN</td>\n",
       "      <td>NaN</td>\n",
       "      <td>Subchapter S Corporation</td>\n",
       "      <td>456756.0</td>\n",
       "      <td>Cross River Bank</td>\n",
       "      <td>TEANECK</td>\n",
       "      <td>NJ</td>\n",
       "      <td>Unanswered</td>\n",
       "      <td>Unanswered</td>\n",
       "      <td>NaN</td>\n",
       "    </tr>\n",
       "    <tr>\n",
       "      <th>0</th>\n",
       "      <td>8473847409</td>\n",
       "      <td>05/18/2020</td>\n",
       "      <td>610.0</td>\n",
       "      <td>PPP</td>\n",
       "      <td>KARIMA GARAS</td>\n",
       "      <td>1502 Pikeview Ter</td>\n",
       "      <td>Arlington</td>\n",
       "      <td>TX</td>\n",
       "      <td>76011</td>\n",
       "      <td>NaN</td>\n",
       "      <td>...</td>\n",
       "      <td>NaN</td>\n",
       "      <td>NaN</td>\n",
       "      <td>Sole Proprietorship</td>\n",
       "      <td>122043.0</td>\n",
       "      <td>WebBank</td>\n",
       "      <td>SALT LAKE CITY</td>\n",
       "      <td>UT</td>\n",
       "      <td>Unanswered</td>\n",
       "      <td>Unanswered</td>\n",
       "      <td>NaN</td>\n",
       "    </tr>\n",
       "  </tbody>\n",
       "</table>\n",
       "<p>11 rows × 51 columns</p>\n",
       "</div>"
      ],
      "text/plain": [
       "   LoanNumber DateApproved  SBAOfficeCode ProcessingMethod  \\\n",
       "0  5375617707   05/01/2020          101.0              PPP   \n",
       "0  8085248400   02/12/2021          912.0              PPS   \n",
       "0  4821127110   04/13/2020          455.0              PPP   \n",
       "0  1476448701   03/27/2021          405.0              PPS   \n",
       "0  5726418509   03/01/2021          507.0              PPP   \n",
       "0  2715787302   04/29/2020          101.0              PPP   \n",
       "0  8785748006   07/06/2020          721.0              PPP   \n",
       "0  7981197700   05/01/2020          944.0              PPP   \n",
       "0  5230377902   06/15/2020          593.0              PPP   \n",
       "0  8906297700   05/01/2020          474.0              PPP   \n",
       "0  8473847409   05/18/2020          610.0              PPP   \n",
       "\n",
       "                            BorrowerName                  BorrowerAddress  \\\n",
       "0                          NOT AVAILABLE                              NaN   \n",
       "0                      JAMES BAIGRIE INC               981 Butterfield Rd   \n",
       "0  SUPERIOR CHARTER SCHOOL SERVICES INC.       14850 Sw 26th st suite 213   \n",
       "0                            JOHN HASLAM  2151 Cumberland Pkwy SE Apt 221   \n",
       "0                     ROSEMARY DICKERSON              1647 W Montvale Ave   \n",
       "0          AVAIL PROJECT MANAGEMENT, LLC                     47 Gilson Rd   \n",
       "0                               HER HANG                   17080 ZEBRA DR   \n",
       "0                BOB HAMMON CONSTRUCTION                         Box 1060   \n",
       "0                            RORIMAC LLC                285 Basswood Rd A   \n",
       "0            STAGECOACH AUTO REPAIR INC.          3710 JOHN LUNN RD STE 1   \n",
       "0                           KARIMA GARAS                1502 Pikeview Ter   \n",
       "\n",
       "  BorrowerCity BorrowerState BorrowerZip LoanStatusDate  ...  \\\n",
       "0          NaN           NaN         NaN            NaN  ...   \n",
       "0  San Anselmo            CA  94960-1147            NaN  ...   \n",
       "0        MIAMI            FL  33185-5927            NaN  ...   \n",
       "0      Atlanta            GA  30339-4592            NaN  ...   \n",
       "0      Chicago            IL  60643-4474            NaN  ...   \n",
       "0    Littleton            MA       01460            NaN  ...   \n",
       "0     FAIRVIEW            MO  64842-7147     03/05/2021  ...   \n",
       "0       Fallon            NV       89407     02/20/2021  ...   \n",
       "0     COLUMBUS            OH  43207-3836            NaN  ...   \n",
       "0  SPRING HILL            TN  37174-5150            NaN  ...   \n",
       "0    Arlington            TX       76011            NaN  ...   \n",
       "\n",
       "  HEALTH_CARE_PROCEED  DEBT_INTEREST_PROCEED                     BusinessType  \\\n",
       "0                 NaN                    NaN                              NaN   \n",
       "0                 NaN                    NaN                      Corporation   \n",
       "0                 NaN                    NaN                      Corporation   \n",
       "0                 NaN                    NaN  Limited  Liability Company(LLC)   \n",
       "0                 NaN                    NaN              Sole Proprietorship   \n",
       "0                 NaN                    NaN  Limited  Liability Company(LLC)   \n",
       "0                 NaN                    NaN              Sole Proprietorship   \n",
       "0                 NaN                    NaN              Sole Proprietorship   \n",
       "0                 NaN                    NaN  Limited  Liability Company(LLC)   \n",
       "0                 NaN                    NaN         Subchapter S Corporation   \n",
       "0                 NaN                    NaN              Sole Proprietorship   \n",
       "\n",
       "   OriginatingLenderLocationID                            OriginatingLender  \\\n",
       "0                       9551.0        Bank of America, National Association   \n",
       "0                       9551.0        Bank of America, National Association   \n",
       "0                     225134.0  Truist Bank d/b/a Branch Banking & Trust Co   \n",
       "0                       2408.0                                 Regions Bank   \n",
       "0                     456756.0                             Cross River Bank   \n",
       "0                     109589.0                                  Digital FCU   \n",
       "0                     124303.0            Freedom Bank of Southern Missouri   \n",
       "0                      72601.0                    Zions Bank, A Division of   \n",
       "0                     456756.0                             Cross River Bank   \n",
       "0                     456756.0                             Cross River Bank   \n",
       "0                     122043.0                                      WebBank   \n",
       "\n",
       "   OriginatingLenderCity OriginatingLenderState      Gender      Veteran  \\\n",
       "0              CHARLOTTE                     NC  Unanswered   Unanswered   \n",
       "0              CHARLOTTE                     NC  Male Owned  Non-Veteran   \n",
       "0              CHARLOTTE                     NC  Male Owned  Non-Veteran   \n",
       "0             BIRMINGHAM                     AL  Male Owned  Non-Veteran   \n",
       "0                TEANECK                     NJ  Unanswered   Unanswered   \n",
       "0            MARLBOROUGH                     MA  Male Owned  Non-Veteran   \n",
       "0              CASSVILLE                     MO  Male Owned   Unanswered   \n",
       "0         SALT LAKE CITY                     UT  Unanswered   Unanswered   \n",
       "0                TEANECK                     NJ  Unanswered   Unanswered   \n",
       "0                TEANECK                     NJ  Unanswered   Unanswered   \n",
       "0         SALT LAKE CITY                     UT  Unanswered   Unanswered   \n",
       "\n",
       "  NonProfit  \n",
       "0       NaN  \n",
       "0       NaN  \n",
       "0       NaN  \n",
       "0       NaN  \n",
       "0       NaN  \n",
       "0       NaN  \n",
       "0       NaN  \n",
       "0       NaN  \n",
       "0       NaN  \n",
       "0       NaN  \n",
       "0       NaN  \n",
       "\n",
       "[11 rows x 51 columns]"
      ]
     },
     "execution_count": 90,
     "metadata": {},
     "output_type": "execute_result"
    }
   ],
   "source": [
    "result.loc[0]"
   ]
  },
  {
   "cell_type": "code",
   "execution_count": 91,
   "metadata": {},
   "outputs": [
    {
     "data": {
      "text/plain": [
       "LoanNumber                                                5375617707\n",
       "DateApproved                                              05/01/2020\n",
       "SBAOfficeCode                                                  101.0\n",
       "ProcessingMethod                                                 PPP\n",
       "BorrowerName                                           NOT AVAILABLE\n",
       "BorrowerAddress                                                  NaN\n",
       "BorrowerCity                                                     NaN\n",
       "BorrowerState                                                    NaN\n",
       "BorrowerZip                                                      NaN\n",
       "LoanStatusDate                                                   NaN\n",
       "LoanStatus                                               Exemption 4\n",
       "Term                                                              24\n",
       "SBAGuarantyPercentage                                            100\n",
       "InitialApprovalAmount                                       148440.0\n",
       "CurrentApprovalAmount                                       148440.0\n",
       "UndisbursedAmount                                                0.0\n",
       "FranchiseName                                                    NaN\n",
       "ServicingLenderLocationID                                     9551.0\n",
       "ServicingLenderName            Bank of America, National Association\n",
       "ServicingLenderAddress                       100 N Tryon St, Ste 170\n",
       "ServicingLenderCity                                        CHARLOTTE\n",
       "ServicingLenderState                                              NC\n",
       "ServicingLenderZip                                        28202-4024\n",
       "RuralUrbanIndicator                                                U\n",
       "HubzoneIndicator                                                   N\n",
       "LMIIndicator                                                       N\n",
       "BusinessAgeDescription               New Business or 2 years or less\n",
       "ProjectCity                                                      NaN\n",
       "ProjectCountyName                                                NaN\n",
       "ProjectState                                                     NaN\n",
       "ProjectZip                                                       NaN\n",
       "CD                                                               NaN\n",
       "JobsReported                                                    12.0\n",
       "NAICSCode                                                   339114.0\n",
       "Race                                                      Unanswered\n",
       "Ethnicity                                          Unknown/NotStated\n",
       "UTILITIES_PROCEED                                                NaN\n",
       "PAYROLL_PROCEED                                             148440.0\n",
       "MORTGAGE_INTEREST_PROCEED                                        NaN\n",
       "RENT_PROCEED                                                     NaN\n",
       "REFINANCE_EIDL_PROCEED                                           NaN\n",
       "HEALTH_CARE_PROCEED                                              NaN\n",
       "DEBT_INTEREST_PROCEED                                            NaN\n",
       "BusinessType                                                     NaN\n",
       "OriginatingLenderLocationID                                   9551.0\n",
       "OriginatingLender              Bank of America, National Association\n",
       "OriginatingLenderCity                                      CHARLOTTE\n",
       "OriginatingLenderState                                            NC\n",
       "Gender                                                    Unanswered\n",
       "Veteran                                                   Unanswered\n",
       "NonProfit                                                        NaN\n",
       "Name: 0, dtype: object"
      ]
     },
     "execution_count": 91,
     "metadata": {},
     "output_type": "execute_result"
    }
   ],
   "source": [
    "result.iloc[0]"
   ]
  },
  {
   "cell_type": "code",
   "execution_count": 92,
   "metadata": {},
   "outputs": [
    {
     "name": "stdout",
     "output_type": "stream",
     "text": [
      "<class 'pandas.core.frame.DataFrame'>\n",
      "Int64Index: 9732858 entries, 0 to 732857\n",
      "Data columns (total 51 columns):\n",
      " #   Column                       Dtype  \n",
      "---  ------                       -----  \n",
      " 0   LoanNumber                   int64  \n",
      " 1   DateApproved                 object \n",
      " 2   SBAOfficeCode                float64\n",
      " 3   ProcessingMethod             object \n",
      " 4   BorrowerName                 object \n",
      " 5   BorrowerAddress              object \n",
      " 6   BorrowerCity                 object \n",
      " 7   BorrowerState                object \n",
      " 8   BorrowerZip                  object \n",
      " 9   LoanStatusDate               object \n",
      " 10  LoanStatus                   object \n",
      " 11  Term                         int64  \n",
      " 12  SBAGuarantyPercentage        int64  \n",
      " 13  InitialApprovalAmount        float64\n",
      " 14  CurrentApprovalAmount        float64\n",
      " 15  UndisbursedAmount            float64\n",
      " 16  FranchiseName                object \n",
      " 17  ServicingLenderLocationID    float64\n",
      " 18  ServicingLenderName          object \n",
      " 19  ServicingLenderAddress       object \n",
      " 20  ServicingLenderCity          object \n",
      " 21  ServicingLenderState         object \n",
      " 22  ServicingLenderZip           object \n",
      " 23  RuralUrbanIndicator          object \n",
      " 24  HubzoneIndicator             object \n",
      " 25  LMIIndicator                 object \n",
      " 26  BusinessAgeDescription       object \n",
      " 27  ProjectCity                  object \n",
      " 28  ProjectCountyName            object \n",
      " 29  ProjectState                 object \n",
      " 30  ProjectZip                   object \n",
      " 31  CD                           object \n",
      " 32  JobsReported                 float64\n",
      " 33  NAICSCode                    float64\n",
      " 34  Race                         object \n",
      " 35  Ethnicity                    object \n",
      " 36  UTILITIES_PROCEED            float64\n",
      " 37  PAYROLL_PROCEED              float64\n",
      " 38  MORTGAGE_INTEREST_PROCEED    float64\n",
      " 39  RENT_PROCEED                 float64\n",
      " 40  REFINANCE_EIDL_PROCEED       float64\n",
      " 41  HEALTH_CARE_PROCEED          float64\n",
      " 42  DEBT_INTEREST_PROCEED        float64\n",
      " 43  BusinessType                 object \n",
      " 44  OriginatingLenderLocationID  float64\n",
      " 45  OriginatingLender            object \n",
      " 46  OriginatingLenderCity        object \n",
      " 47  OriginatingLenderState       object \n",
      " 48  Gender                       object \n",
      " 49  Veteran                      object \n",
      " 50  NonProfit                    object \n",
      "dtypes: float64(15), int64(3), object(33)\n",
      "memory usage: 3.8+ GB\n"
     ]
    }
   ],
   "source": [
    "result.info()"
   ]
  },
  {
   "cell_type": "code",
   "execution_count": 95,
   "metadata": {},
   "outputs": [],
   "source": [
    "x = result"
   ]
  },
  {
   "cell_type": "code",
   "execution_count": 96,
   "metadata": {},
   "outputs": [],
   "source": [
    "x.loc[:, 'DateApproved_dt'] = pd.to_datetime(x['DateApproved'])"
   ]
  },
  {
   "cell_type": "code",
   "execution_count": 97,
   "metadata": {},
   "outputs": [
    {
     "data": {
      "text/plain": [
       "Timestamp('2020-04-03 00:00:00')"
      ]
     },
     "execution_count": 97,
     "metadata": {},
     "output_type": "execute_result"
    }
   ],
   "source": [
    "x.DateApproved_dt.min()"
   ]
  },
  {
   "cell_type": "code",
   "execution_count": 98,
   "metadata": {},
   "outputs": [
    {
     "data": {
      "text/plain": [
       "Timestamp('2021-04-30 00:00:00')"
      ]
     },
     "execution_count": 98,
     "metadata": {},
     "output_type": "execute_result"
    }
   ],
   "source": [
    "x.DateApproved_dt.max()"
   ]
  },
  {
   "cell_type": "code",
   "execution_count": 100,
   "metadata": {},
   "outputs": [],
   "source": [
    "latest_2_weeks = x[x.DateApproved_dt > '2021-04-15']"
   ]
  },
  {
   "cell_type": "code",
   "execution_count": 101,
   "metadata": {},
   "outputs": [
    {
     "name": "stdout",
     "output_type": "stream",
     "text": [
      "<class 'pandas.core.frame.DataFrame'>\n",
      "Int64Index: 1041597 entries, 329 to 732841\n",
      "Data columns (total 52 columns):\n",
      " #   Column                       Non-Null Count    Dtype         \n",
      "---  ------                       --------------    -----         \n",
      " 0   LoanNumber                   1041597 non-null  int64         \n",
      " 1   DateApproved                 1041597 non-null  object        \n",
      " 2   SBAOfficeCode                1041597 non-null  float64       \n",
      " 3   ProcessingMethod             1041597 non-null  object        \n",
      " 4   BorrowerName                 1041594 non-null  object        \n",
      " 5   BorrowerAddress              1041595 non-null  object        \n",
      " 6   BorrowerCity                 1041596 non-null  object        \n",
      " 7   BorrowerState                1041597 non-null  object        \n",
      " 8   BorrowerZip                  1041597 non-null  object        \n",
      " 9   LoanStatusDate               916466 non-null   object        \n",
      " 10  LoanStatus                   1041597 non-null  object        \n",
      " 11  Term                         1041597 non-null  int64         \n",
      " 12  SBAGuarantyPercentage        1041597 non-null  int64         \n",
      " 13  InitialApprovalAmount        1041597 non-null  float64       \n",
      " 14  CurrentApprovalAmount        1041597 non-null  float64       \n",
      " 15  UndisbursedAmount            1041170 non-null  float64       \n",
      " 16  FranchiseName                1542 non-null     object        \n",
      " 17  ServicingLenderLocationID    1041597 non-null  float64       \n",
      " 18  ServicingLenderName          1041597 non-null  object        \n",
      " 19  ServicingLenderAddress       1041597 non-null  object        \n",
      " 20  ServicingLenderCity          1041597 non-null  object        \n",
      " 21  ServicingLenderState         1041597 non-null  object        \n",
      " 22  ServicingLenderZip           1041597 non-null  object        \n",
      " 23  RuralUrbanIndicator          1041597 non-null  object        \n",
      " 24  HubzoneIndicator             1041597 non-null  object        \n",
      " 25  LMIIndicator                 1041597 non-null  object        \n",
      " 26  BusinessAgeDescription       1041597 non-null  object        \n",
      " 27  ProjectCity                  1041596 non-null  object        \n",
      " 28  ProjectCountyName            1041597 non-null  object        \n",
      " 29  ProjectState                 1041597 non-null  object        \n",
      " 30  ProjectZip                   1041597 non-null  object        \n",
      " 31  CD                           1041597 non-null  object        \n",
      " 32  JobsReported                 1041597 non-null  float64       \n",
      " 33  NAICSCode                    1041597 non-null  float64       \n",
      " 34  Race                         1041597 non-null  object        \n",
      " 35  Ethnicity                    1041597 non-null  object        \n",
      " 36  UTILITIES_PROCEED            301298 non-null   float64       \n",
      " 37  PAYROLL_PROCEED              1041597 non-null  float64       \n",
      " 38  MORTGAGE_INTEREST_PROCEED    0 non-null        float64       \n",
      " 39  RENT_PROCEED                 0 non-null        float64       \n",
      " 40  REFINANCE_EIDL_PROCEED       1 non-null        float64       \n",
      " 41  HEALTH_CARE_PROCEED          0 non-null        float64       \n",
      " 42  DEBT_INTEREST_PROCEED        0 non-null        float64       \n",
      " 43  BusinessType                 1041597 non-null  object        \n",
      " 44  OriginatingLenderLocationID  1041597 non-null  float64       \n",
      " 45  OriginatingLender            1041597 non-null  object        \n",
      " 46  OriginatingLenderCity        1041597 non-null  object        \n",
      " 47  OriginatingLenderState       1041597 non-null  object        \n",
      " 48  Gender                       1041597 non-null  object        \n",
      " 49  Veteran                      1041597 non-null  object        \n",
      " 50  NonProfit                    3336 non-null     object        \n",
      " 51  DateApproved_dt              1041597 non-null  datetime64[ns]\n",
      "dtypes: datetime64[ns](1), float64(15), int64(3), object(33)\n",
      "memory usage: 421.2+ MB\n"
     ]
    }
   ],
   "source": [
    "latest_2_weeks.info()"
   ]
  },
  {
   "cell_type": "code",
   "execution_count": 102,
   "metadata": {},
   "outputs": [
    {
     "data": {
      "text/plain": [
       "array(['AK', 'AL', 'AR', 'AS', 'AZ', 'CA', 'CO', 'CT', 'DC', 'DE', 'FL',\n",
       "       'GA', 'GU', 'HI', 'IA', 'ID', 'IL', 'IN', 'KS', 'KY', 'LA', 'MA',\n",
       "       'MD', 'ME', 'MI', 'MN', 'MO', 'MP', 'MS', 'MT', 'NC', 'ND', 'NE',\n",
       "       'NH', 'NJ', 'NM', 'NV', 'NY', 'OH', 'OK', 'OR', 'PA', 'PR', 'RI',\n",
       "       'SC', 'SD', 'TN', 'TX', 'UT', 'VA', 'VI', 'VT', 'WA', 'WI', 'WV',\n",
       "       'WY'], dtype=object)"
      ]
     },
     "execution_count": 102,
     "metadata": {},
     "output_type": "execute_result"
    }
   ],
   "source": [
    "latest_2_weeks['BorrowerState'].unique()"
   ]
  },
  {
   "cell_type": "code",
   "execution_count": 103,
   "metadata": {},
   "outputs": [
    {
     "data": {
      "text/plain": [
       "56"
      ]
     },
     "execution_count": 103,
     "metadata": {},
     "output_type": "execute_result"
    }
   ],
   "source": [
    "latest_2_weeks['BorrowerState'].nunique()"
   ]
  },
  {
   "cell_type": "code",
   "execution_count": null,
   "metadata": {},
   "outputs": [],
   "source": []
  },
  {
   "cell_type": "code",
   "execution_count": null,
   "metadata": {},
   "outputs": [],
   "source": []
  },
  {
   "cell_type": "code",
   "execution_count": null,
   "metadata": {},
   "outputs": [],
   "source": []
  },
  {
   "cell_type": "code",
   "execution_count": 74,
   "metadata": {},
   "outputs": [
    {
     "data": {
      "text/plain": [
       "0         SC-05\n",
       "1         SC-06\n",
       "2         WA-07\n",
       "3         CA-08\n",
       "4           NaN\n",
       "          ...  \n",
       "964356      WY-\n",
       "964357      WY-\n",
       "964358      WY-\n",
       "964359      WY-\n",
       "964360      WY-\n",
       "Name: CD, Length: 964361, dtype: object"
      ]
     },
     "execution_count": 74,
     "metadata": {},
     "output_type": "execute_result"
    }
   ],
   "source": [
    "a['CD']"
   ]
  },
  {
   "cell_type": "code",
   "execution_count": 75,
   "metadata": {},
   "outputs": [
    {
     "data": {
      "text/plain": [
       "'FL-04'"
      ]
     },
     "execution_count": 75,
     "metadata": {},
     "output_type": "execute_result"
    }
   ],
   "source": [
    "a['CD'].iloc[6]"
   ]
  },
  {
   "cell_type": "code",
   "execution_count": 76,
   "metadata": {},
   "outputs": [
    {
     "data": {
      "text/html": [
       "<div>\n",
       "<style scoped>\n",
       "    .dataframe tbody tr th:only-of-type {\n",
       "        vertical-align: middle;\n",
       "    }\n",
       "\n",
       "    .dataframe tbody tr th {\n",
       "        vertical-align: top;\n",
       "    }\n",
       "\n",
       "    .dataframe thead th {\n",
       "        text-align: right;\n",
       "    }\n",
       "</style>\n",
       "<table border=\"1\" class=\"dataframe\">\n",
       "  <thead>\n",
       "    <tr style=\"text-align: right;\">\n",
       "      <th></th>\n",
       "      <th>LoanNumber</th>\n",
       "      <th>DateApproved</th>\n",
       "      <th>SBAOfficeCode</th>\n",
       "      <th>ProcessingMethod</th>\n",
       "      <th>BorrowerName</th>\n",
       "      <th>BorrowerAddress</th>\n",
       "      <th>BorrowerCity</th>\n",
       "      <th>BorrowerState</th>\n",
       "      <th>BorrowerZip</th>\n",
       "      <th>LoanStatusDate</th>\n",
       "      <th>...</th>\n",
       "      <th>HEALTH_CARE_PROCEED</th>\n",
       "      <th>DEBT_INTEREST_PROCEED</th>\n",
       "      <th>BusinessType</th>\n",
       "      <th>OriginatingLenderLocationID</th>\n",
       "      <th>OriginatingLender</th>\n",
       "      <th>OriginatingLenderCity</th>\n",
       "      <th>OriginatingLenderState</th>\n",
       "      <th>Gender</th>\n",
       "      <th>Veteran</th>\n",
       "      <th>NonProfit</th>\n",
       "    </tr>\n",
       "  </thead>\n",
       "  <tbody>\n",
       "    <tr>\n",
       "      <th>0</th>\n",
       "      <td>9547507704</td>\n",
       "      <td>05/01/2020</td>\n",
       "      <td>464</td>\n",
       "      <td>PPP</td>\n",
       "      <td>SUMTER COATINGS, INC.</td>\n",
       "      <td>2410 Highway 15 South</td>\n",
       "      <td>Sumter</td>\n",
       "      <td>NaN</td>\n",
       "      <td>29150-9662</td>\n",
       "      <td>12/18/2020</td>\n",
       "      <td>...</td>\n",
       "      <td>NaN</td>\n",
       "      <td>NaN</td>\n",
       "      <td>Corporation</td>\n",
       "      <td>19248</td>\n",
       "      <td>Synovus Bank</td>\n",
       "      <td>COLUMBUS</td>\n",
       "      <td>GA</td>\n",
       "      <td>Unanswered</td>\n",
       "      <td>Unanswered</td>\n",
       "      <td>NaN</td>\n",
       "    </tr>\n",
       "    <tr>\n",
       "      <th>1</th>\n",
       "      <td>9777677704</td>\n",
       "      <td>05/01/2020</td>\n",
       "      <td>464</td>\n",
       "      <td>PPP</td>\n",
       "      <td>PLEASANT PLACES, INC.</td>\n",
       "      <td>7684 Southrail Road</td>\n",
       "      <td>North Charleston</td>\n",
       "      <td>NaN</td>\n",
       "      <td>29420-9000</td>\n",
       "      <td>NaN</td>\n",
       "      <td>...</td>\n",
       "      <td>NaN</td>\n",
       "      <td>NaN</td>\n",
       "      <td>Sole Proprietorship</td>\n",
       "      <td>19248</td>\n",
       "      <td>Synovus Bank</td>\n",
       "      <td>COLUMBUS</td>\n",
       "      <td>GA</td>\n",
       "      <td>Male Owned</td>\n",
       "      <td>Non-Veteran</td>\n",
       "      <td>NaN</td>\n",
       "    </tr>\n",
       "    <tr>\n",
       "      <th>2</th>\n",
       "      <td>5791407702</td>\n",
       "      <td>05/01/2020</td>\n",
       "      <td>1013</td>\n",
       "      <td>PPP</td>\n",
       "      <td>BOYER CHILDREN'S CLINIC</td>\n",
       "      <td>1850 BOYER AVE E</td>\n",
       "      <td>SEATTLE</td>\n",
       "      <td>NaN</td>\n",
       "      <td>98112-2922</td>\n",
       "      <td>03/17/2021</td>\n",
       "      <td>...</td>\n",
       "      <td>NaN</td>\n",
       "      <td>NaN</td>\n",
       "      <td>Non-Profit Organization</td>\n",
       "      <td>9551</td>\n",
       "      <td>Bank of America, National Association</td>\n",
       "      <td>CHARLOTTE</td>\n",
       "      <td>NC</td>\n",
       "      <td>Unanswered</td>\n",
       "      <td>Unanswered</td>\n",
       "      <td>Y</td>\n",
       "    </tr>\n",
       "    <tr>\n",
       "      <th>3</th>\n",
       "      <td>6223567700</td>\n",
       "      <td>05/01/2020</td>\n",
       "      <td>920</td>\n",
       "      <td>PPP</td>\n",
       "      <td>KIRTLEY CONSTRUCTION INC</td>\n",
       "      <td>1661 MARTIN RANCH RD</td>\n",
       "      <td>SAN BERNARDINO</td>\n",
       "      <td>NaN</td>\n",
       "      <td>92407-1740</td>\n",
       "      <td>NaN</td>\n",
       "      <td>...</td>\n",
       "      <td>NaN</td>\n",
       "      <td>NaN</td>\n",
       "      <td>Corporation</td>\n",
       "      <td>9551</td>\n",
       "      <td>Bank of America, National Association</td>\n",
       "      <td>CHARLOTTE</td>\n",
       "      <td>NC</td>\n",
       "      <td>Unanswered</td>\n",
       "      <td>Unanswered</td>\n",
       "      <td>NaN</td>\n",
       "    </tr>\n",
       "    <tr>\n",
       "      <th>4</th>\n",
       "      <td>9662437702</td>\n",
       "      <td>05/01/2020</td>\n",
       "      <td>101</td>\n",
       "      <td>PPP</td>\n",
       "      <td>AERO BOX LLC</td>\n",
       "      <td>NaN</td>\n",
       "      <td>NaN</td>\n",
       "      <td>NaN</td>\n",
       "      <td>NaN</td>\n",
       "      <td>NaN</td>\n",
       "      <td>...</td>\n",
       "      <td>NaN</td>\n",
       "      <td>NaN</td>\n",
       "      <td>NaN</td>\n",
       "      <td>57328</td>\n",
       "      <td>The Huntington National Bank</td>\n",
       "      <td>COLUMBUS</td>\n",
       "      <td>OH</td>\n",
       "      <td>Unanswered</td>\n",
       "      <td>Unanswered</td>\n",
       "      <td>NaN</td>\n",
       "    </tr>\n",
       "  </tbody>\n",
       "</table>\n",
       "<p>5 rows × 51 columns</p>\n",
       "</div>"
      ],
      "text/plain": [
       "   LoanNumber DateApproved  SBAOfficeCode ProcessingMethod  \\\n",
       "0  9547507704   05/01/2020            464              PPP   \n",
       "1  9777677704   05/01/2020            464              PPP   \n",
       "2  5791407702   05/01/2020           1013              PPP   \n",
       "3  6223567700   05/01/2020            920              PPP   \n",
       "4  9662437702   05/01/2020            101              PPP   \n",
       "\n",
       "               BorrowerName        BorrowerAddress      BorrowerCity  \\\n",
       "0     SUMTER COATINGS, INC.  2410 Highway 15 South            Sumter   \n",
       "1     PLEASANT PLACES, INC.    7684 Southrail Road  North Charleston   \n",
       "2   BOYER CHILDREN'S CLINIC       1850 BOYER AVE E           SEATTLE   \n",
       "3  KIRTLEY CONSTRUCTION INC   1661 MARTIN RANCH RD    SAN BERNARDINO   \n",
       "4              AERO BOX LLC                    NaN               NaN   \n",
       "\n",
       "  BorrowerState BorrowerZip LoanStatusDate  ... HEALTH_CARE_PROCEED  \\\n",
       "0           NaN  29150-9662     12/18/2020  ...                 NaN   \n",
       "1           NaN  29420-9000            NaN  ...                 NaN   \n",
       "2           NaN  98112-2922     03/17/2021  ...                 NaN   \n",
       "3           NaN  92407-1740            NaN  ...                 NaN   \n",
       "4           NaN         NaN            NaN  ...                 NaN   \n",
       "\n",
       "   DEBT_INTEREST_PROCEED             BusinessType  \\\n",
       "0                    NaN              Corporation   \n",
       "1                    NaN      Sole Proprietorship   \n",
       "2                    NaN  Non-Profit Organization   \n",
       "3                    NaN              Corporation   \n",
       "4                    NaN                      NaN   \n",
       "\n",
       "   OriginatingLenderLocationID                      OriginatingLender  \\\n",
       "0                        19248                           Synovus Bank   \n",
       "1                        19248                           Synovus Bank   \n",
       "2                         9551  Bank of America, National Association   \n",
       "3                         9551  Bank of America, National Association   \n",
       "4                        57328           The Huntington National Bank   \n",
       "\n",
       "   OriginatingLenderCity OriginatingLenderState      Gender      Veteran  \\\n",
       "0               COLUMBUS                     GA  Unanswered   Unanswered   \n",
       "1               COLUMBUS                     GA  Male Owned  Non-Veteran   \n",
       "2              CHARLOTTE                     NC  Unanswered   Unanswered   \n",
       "3              CHARLOTTE                     NC  Unanswered   Unanswered   \n",
       "4               COLUMBUS                     OH  Unanswered   Unanswered   \n",
       "\n",
       "  NonProfit  \n",
       "0       NaN  \n",
       "1       NaN  \n",
       "2         Y  \n",
       "3       NaN  \n",
       "4       NaN  \n",
       "\n",
       "[5 rows x 51 columns]"
      ]
     },
     "execution_count": 76,
     "metadata": {},
     "output_type": "execute_result"
    }
   ],
   "source": [
    "a.head()"
   ]
  },
  {
   "cell_type": "code",
   "execution_count": null,
   "metadata": {},
   "outputs": [],
   "source": [
    "a"
   ]
  },
  {
   "cell_type": "code",
   "execution_count": null,
   "metadata": {},
   "outputs": [],
   "source": [
    "z = pd.read_csv('public_150k_plus.csv', index_col='LoanNumber')"
   ]
  },
  {
   "cell_type": "code",
   "execution_count": null,
   "metadata": {},
   "outputs": [],
   "source": [
    "z"
   ]
  },
  {
   "cell_type": "code",
   "execution_count": null,
   "metadata": {},
   "outputs": [],
   "source": [
    "z.dtypes"
   ]
  },
  {
   "cell_type": "code",
   "execution_count": null,
   "metadata": {},
   "outputs": [],
   "source": [
    "z.head()"
   ]
  },
  {
   "cell_type": "code",
   "execution_count": null,
   "metadata": {},
   "outputs": [],
   "source": [
    "z.tail(11)"
   ]
  },
  {
   "cell_type": "code",
   "execution_count": null,
   "metadata": {},
   "outputs": [],
   "source": [
    "z.columns"
   ]
  },
  {
   "cell_type": "code",
   "execution_count": null,
   "metadata": {},
   "outputs": [],
   "source": [
    "a.columns"
   ]
  },
  {
   "cell_type": "code",
   "execution_count": null,
   "metadata": {},
   "outputs": [],
   "source": [
    "z.index"
   ]
  },
  {
   "cell_type": "code",
   "execution_count": null,
   "metadata": {},
   "outputs": [],
   "source": [
    "a.index"
   ]
  },
  {
   "cell_type": "code",
   "execution_count": null,
   "metadata": {},
   "outputs": [],
   "source": [
    "a.describe()"
   ]
  },
  {
   "cell_type": "code",
   "execution_count": null,
   "metadata": {},
   "outputs": [],
   "source": [
    "z.describe()"
   ]
  },
  {
   "cell_type": "code",
   "execution_count": null,
   "metadata": {},
   "outputs": [],
   "source": [
    "a[:5]"
   ]
  },
  {
   "cell_type": "code",
   "execution_count": null,
   "metadata": {},
   "outputs": [],
   "source": [
    "z[0:5]"
   ]
  },
  {
   "cell_type": "code",
   "execution_count": null,
   "metadata": {},
   "outputs": [],
   "source": [
    "z.head()"
   ]
  },
  {
   "cell_type": "code",
   "execution_count": null,
   "metadata": {},
   "outputs": [],
   "source": [
    "a"
   ]
  },
  {
   "cell_type": "code",
   "execution_count": null,
   "metadata": {},
   "outputs": [],
   "source": [
    "a[a.BorrowerState == 'TX'].count()"
   ]
  },
  {
   "cell_type": "code",
   "execution_count": null,
   "metadata": {},
   "outputs": [],
   "source": [
    "a.loc[791524]"
   ]
  },
  {
   "cell_type": "code",
   "execution_count": null,
   "metadata": {},
   "outputs": [],
   "source": [
    "a.iloc[791524,2]"
   ]
  },
  {
   "cell_type": "code",
   "execution_count": null,
   "metadata": {},
   "outputs": [],
   "source": [
    "a[a.BorrowerAddress == '3400 N. Central Expressway Suite 110-243']"
   ]
  },
  {
   "cell_type": "code",
   "execution_count": null,
   "metadata": {},
   "outputs": [],
   "source": [
    "a[a.BorrowerName == r'SWH MIMIS CAFE LLC']"
   ]
  },
  {
   "cell_type": "code",
   "execution_count": null,
   "metadata": {},
   "outputs": [],
   "source": [
    "a.loc[791578]"
   ]
  },
  {
   "cell_type": "code",
   "execution_count": null,
   "metadata": {},
   "outputs": [],
   "source": [
    "a.shape"
   ]
  },
  {
   "cell_type": "code",
   "execution_count": null,
   "metadata": {},
   "outputs": [],
   "source": [
    "a.columns"
   ]
  },
  {
   "cell_type": "code",
   "execution_count": null,
   "metadata": {},
   "outputs": [],
   "source": [
    "a.count()"
   ]
  },
  {
   "cell_type": "code",
   "execution_count": null,
   "metadata": {},
   "outputs": [],
   "source": [
    "a.BorrowerZip.describe()"
   ]
  },
  {
   "cell_type": "code",
   "execution_count": null,
   "metadata": {},
   "outputs": [],
   "source": [
    "a.last_valid_index()"
   ]
  },
  {
   "cell_type": "code",
   "execution_count": null,
   "metadata": {},
   "outputs": [],
   "source": [
    "z.last_valid_index()"
   ]
  },
  {
   "cell_type": "code",
   "execution_count": null,
   "metadata": {},
   "outputs": [],
   "source": [
    "a.iloc[945919]"
   ]
  },
  {
   "cell_type": "code",
   "execution_count": null,
   "metadata": {},
   "outputs": [],
   "source": [
    "a.iloc[:3]"
   ]
  },
  {
   "cell_type": "code",
   "execution_count": null,
   "metadata": {},
   "outputs": [],
   "source": [
    "z.loc[9547507704]"
   ]
  },
  {
   "cell_type": "code",
   "execution_count": null,
   "metadata": {},
   "outputs": [],
   "source": [
    "z.iloc[945918]"
   ]
  },
  {
   "cell_type": "code",
   "execution_count": null,
   "metadata": {},
   "outputs": [],
   "source": [
    "pd.show_versions()"
   ]
  },
  {
   "cell_type": "code",
   "execution_count": null,
   "metadata": {},
   "outputs": [],
   "source": [
    "a.loc[5, ['DateApproved', 'ProcessingMethod']]"
   ]
  },
  {
   "cell_type": "code",
   "execution_count": null,
   "metadata": {},
   "outputs": [],
   "source": [
    "a.iloc[5, [1,3]]"
   ]
  },
  {
   "cell_type": "code",
   "execution_count": null,
   "metadata": {},
   "outputs": [],
   "source": [
    "!uptime"
   ]
  },
  {
   "cell_type": "code",
   "execution_count": null,
   "metadata": {},
   "outputs": [],
   "source": [
    "a.iloc[range(0,2),[1,2,4]]"
   ]
  },
  {
   "cell_type": "code",
   "execution_count": null,
   "metadata": {},
   "outputs": [],
   "source": [
    "a.loc[range(0,2), ['DateApproved', 'SBAOfficeCode', 'BorrowerName']]"
   ]
  },
  {
   "cell_type": "code",
   "execution_count": null,
   "metadata": {},
   "outputs": [],
   "source": [
    "a.iloc[1:3,:]"
   ]
  },
  {
   "cell_type": "code",
   "execution_count": null,
   "metadata": {},
   "outputs": [],
   "source": [
    "a.iloc[0:2]"
   ]
  },
  {
   "cell_type": "code",
   "execution_count": null,
   "metadata": {},
   "outputs": [],
   "source": [
    "a.groupby('BorrowerState')['DateApproved'].count()"
   ]
  },
  {
   "cell_type": "code",
   "execution_count": null,
   "metadata": {},
   "outputs": [],
   "source": [
    "a['BorrowerState'].describe()"
   ]
  },
  {
   "cell_type": "code",
   "execution_count": null,
   "metadata": {},
   "outputs": [],
   "source": [
    "a['BorrowerState'].unique()"
   ]
  },
  {
   "cell_type": "code",
   "execution_count": null,
   "metadata": {},
   "outputs": [],
   "source": [
    "a.iloc[a['BorrowerState' == 'TX']]"
   ]
  },
  {
   "cell_type": "code",
   "execution_count": null,
   "metadata": {},
   "outputs": [],
   "source": [
    "a.tail(1)"
   ]
  },
  {
   "cell_type": "code",
   "execution_count": null,
   "metadata": {},
   "outputs": [],
   "source": [
    "z.tail(1)"
   ]
  },
  {
   "cell_type": "code",
   "execution_count": null,
   "metadata": {},
   "outputs": [],
   "source": [
    "a.iloc[-1]"
   ]
  },
  {
   "cell_type": "code",
   "execution_count": null,
   "metadata": {},
   "outputs": [],
   "source": [
    "a.loc[1,'DateApproved']"
   ]
  },
  {
   "cell_type": "code",
   "execution_count": null,
   "metadata": {
    "scrolled": true
   },
   "outputs": [],
   "source": [
    "a.groupby('BorrowerZip')['BorrowerName'].count()"
   ]
  },
  {
   "cell_type": "code",
   "execution_count": null,
   "metadata": {},
   "outputs": [],
   "source": [
    "a.groupby('BorrowerZip')['BorrowerName'].nunique()"
   ]
  },
  {
   "cell_type": "code",
   "execution_count": null,
   "metadata": {},
   "outputs": [],
   "source": [
    "a.groupby('BorrowerZip').nunique()"
   ]
  },
  {
   "cell_type": "code",
   "execution_count": null,
   "metadata": {},
   "outputs": [],
   "source": [
    "a.T.head()"
   ]
  },
  {
   "cell_type": "code",
   "execution_count": null,
   "metadata": {},
   "outputs": [],
   "source": [
    "b.count()"
   ]
  },
  {
   "cell_type": "code",
   "execution_count": null,
   "metadata": {},
   "outputs": [],
   "source": [
    "900000 - 899872"
   ]
  },
  {
   "cell_type": "code",
   "execution_count": null,
   "metadata": {},
   "outputs": [],
   "source": [
    "b_missing_dropped = b.dropna()"
   ]
  },
  {
   "cell_type": "code",
   "execution_count": null,
   "metadata": {},
   "outputs": [],
   "source": [
    "b.shape"
   ]
  },
  {
   "cell_type": "code",
   "execution_count": null,
   "metadata": {},
   "outputs": [],
   "source": [
    "b_missing_dropped.shape"
   ]
  },
  {
   "cell_type": "code",
   "execution_count": null,
   "metadata": {},
   "outputs": [],
   "source": [
    "a.describe()"
   ]
  },
  {
   "cell_type": "code",
   "execution_count": null,
   "metadata": {},
   "outputs": [],
   "source": [
    "!uptime"
   ]
  },
  {
   "cell_type": "code",
   "execution_count": null,
   "metadata": {},
   "outputs": [],
   "source": []
  }
 ],
 "metadata": {
  "kernelspec": {
   "display_name": "Python 3",
   "language": "python",
   "name": "python3"
  },
  "language_info": {
   "codemirror_mode": {
    "name": "ipython",
    "version": 3
   },
   "file_extension": ".py",
   "mimetype": "text/x-python",
   "name": "python",
   "nbconvert_exporter": "python",
   "pygments_lexer": "ipython3",
   "version": "3.8.5"
  }
 },
 "nbformat": 4,
 "nbformat_minor": 4
}

{
 "cells": [
  {
   "cell_type": "code",
   "execution_count": 1,
   "metadata": {},
   "outputs": [],
   "source": [
    "#!wget https://data.sba.gov/dataset/8aa276e2-6cab-4f86-aca4-a7dde42adf24/resource/6b62a44b-69ec-436a-9b95-0ea550475543/download/public_150k_plus.csv"
   ]
  },
  {
   "cell_type": "markdown",
   "metadata": {},
   "source": [
    "Above from https://data.sba.gov/dataset/ppp-foia/resource/6b62a44b-69ec-436a-9b95-0ea550475543"
   ]
  },
  {
   "cell_type": "code",
   "execution_count": 2,
   "metadata": {},
   "outputs": [],
   "source": [
    "import pandas as pd\n",
    "import matplotlib.pyplot as plt\n",
    "import numpy as np\n",
    "import datetime\n",
    "%matplotlib inline"
   ]
  },
  {
   "cell_type": "code",
   "execution_count": 3,
   "metadata": {},
   "outputs": [],
   "source": [
    "#!wget https://data.sba.gov/dataset/8aa276e2-6cab-4f86-aca4-a7dde42adf24/resource/6b62a44b-69ec-436a-9b95-0ea550475543/download/public_150k_plus.csv"
   ]
  },
  {
   "cell_type": "code",
   "execution_count": 4,
   "metadata": {},
   "outputs": [
    {
     "name": "stdout",
     "output_type": "stream",
     "text": [
      "total 4130820\r\n",
      "drwxrwxr-x 4 ec2-user ec2-user      4096 Apr 27 21:53 .\r\n",
      "-rw-rw-r-- 1 ec2-user ec2-user     23804 Apr 27 21:53 Updating_On_AWS.ipynb\r\n",
      "drwxrwxr-x 8 ec2-user ec2-user       185 Apr 26 19:18 .git\r\n",
      "drwxrwxr-x 2 ec2-user ec2-user        46 Apr 25 17:00 .ipynb_checkpoints\r\n",
      "-rw-rw-r-- 1 ec2-user ec2-user    127633 Apr 25 16:57 Dec_2020_PPP_Work.ipynb\r\n",
      "-rw-rw-r-- 1 ec2-user ec2-user     53812 Apr 25 16:57 InitialReview.ipynb\r\n",
      "-rw-rw-r-- 1 ec2-user ec2-user      1064 Apr 25 16:57 LICENSE\r\n",
      "-rw-rw-r-- 1 ec2-user ec2-user        82 Apr 25 16:57 README.md\r\n",
      "drwxrwxr-x 9 ec2-user ec2-user       138 Apr 25 16:57 ..\r\n",
      "-rw-rw-r-- 1 ec2-user ec2-user 387730501 Apr 13 19:44 public_up_to_150k_8.csv\r\n",
      "-rw-rw-r-- 1 ec2-user ec2-user 388538904 Apr 13 19:44 public_up_to_150k_6.csv\r\n",
      "-rw-rw-r-- 1 ec2-user ec2-user 388538904 Apr 13 19:44 public_up_to_150k_6.csv.1\r\n",
      "-rw-rw-r-- 1 ec2-user ec2-user 386382997 Apr 13 19:44 public_up_to_150k_7.csv\r\n",
      "-rw-rw-r-- 1 ec2-user ec2-user 385289328 Apr 13 19:44 public_up_to_150k_5.csv\r\n",
      "-rw-rw-r-- 1 ec2-user ec2-user 386103013 Apr 13 19:44 public_up_to_150k_4.csv\r\n",
      "-rw-rw-r-- 1 ec2-user ec2-user 385650378 Apr 13 19:43 public_up_to_150k_3.csv\r\n",
      "-rw-rw-r-- 1 ec2-user ec2-user 391561150 Apr 13 19:43 public_up_to_150k_2.csv\r\n",
      "-rw-rw-r-- 1 ec2-user ec2-user 392449452 Apr 13 19:43 public_up_to_150k_1.csv\r\n",
      "-rw-rw-r-- 1 ec2-user ec2-user 320487838 Apr 13 19:42 public_up_to_150k_9.csv\r\n",
      "-rw-rw-r-- 1 ec2-user ec2-user 416982842 Apr 13 19:41 public_150k_plus.csv\r\n"
     ]
    }
   ],
   "source": [
    "!ls -alt "
   ]
  },
  {
   "cell_type": "code",
   "execution_count": 5,
   "metadata": {},
   "outputs": [],
   "source": [
    "df_all_high_SBA = pd.read_csv('public_150k_plus.csv')"
   ]
  },
  {
   "cell_type": "code",
   "execution_count": 6,
   "metadata": {},
   "outputs": [],
   "source": [
    "a = df_all_high_SBA"
   ]
  },
  {
   "cell_type": "code",
   "execution_count": 7,
   "metadata": {},
   "outputs": [
    {
     "data": {
      "text/plain": [
       "945920"
      ]
     },
     "execution_count": 7,
     "metadata": {},
     "output_type": "execute_result"
    }
   ],
   "source": [
    "len(a)"
   ]
  },
  {
   "cell_type": "code",
   "execution_count": 8,
   "metadata": {},
   "outputs": [],
   "source": [
    "#!wget https://data.sba.gov/dataset/8aa276e2-6cab-4f86-aca4-a7dde42adf24/resource/3d28c417-5170-4f1f-be31-b0c7b0182501/download/public_up_to_150k_1.csv"
   ]
  },
  {
   "cell_type": "code",
   "execution_count": 9,
   "metadata": {},
   "outputs": [],
   "source": [
    "df_below_150_1_SBA = pd.read_csv('public_up_to_150k_1.csv')"
   ]
  },
  {
   "cell_type": "code",
   "execution_count": 10,
   "metadata": {},
   "outputs": [],
   "source": [
    "b = df_below_150_1_SBA"
   ]
  },
  {
   "cell_type": "code",
   "execution_count": 11,
   "metadata": {},
   "outputs": [
    {
     "data": {
      "text/plain": [
       "900000"
      ]
     },
     "execution_count": 11,
     "metadata": {},
     "output_type": "execute_result"
    }
   ],
   "source": [
    "len(b)"
   ]
  },
  {
   "cell_type": "code",
   "execution_count": 12,
   "metadata": {},
   "outputs": [],
   "source": [
    "#!wget https://data.sba.gov/dataset/8aa276e2-6cab-4f86-aca4-a7dde42adf24/resource/4a2529a5-08ce-436d-a448-465ca82eadaf/download/public_up_to_150k_2.csv"
   ]
  },
  {
   "cell_type": "code",
   "execution_count": 13,
   "metadata": {},
   "outputs": [],
   "source": [
    "df_below_150_2_SBA = pd.read_csv('public_up_to_150k_2.csv')"
   ]
  },
  {
   "cell_type": "code",
   "execution_count": 14,
   "metadata": {},
   "outputs": [],
   "source": [
    "c = df_below_150_2_SBA"
   ]
  },
  {
   "cell_type": "code",
   "execution_count": 15,
   "metadata": {},
   "outputs": [
    {
     "data": {
      "text/plain": [
       "900000"
      ]
     },
     "execution_count": 15,
     "metadata": {},
     "output_type": "execute_result"
    }
   ],
   "source": [
    "len(c)"
   ]
  },
  {
   "cell_type": "code",
   "execution_count": 16,
   "metadata": {},
   "outputs": [],
   "source": [
    "#!wget https://data.sba.gov/dataset/8aa276e2-6cab-4f86-aca4-a7dde42adf24/resource/ffd0bdb7-cc41-4adb-9762-8957d61c1862/download/public_up_to_150k_3.csv"
   ]
  },
  {
   "cell_type": "code",
   "execution_count": 17,
   "metadata": {},
   "outputs": [],
   "source": [
    "df_below_150_3_SBA = pd.read_csv('public_up_to_150k_3.csv')"
   ]
  },
  {
   "cell_type": "code",
   "execution_count": 18,
   "metadata": {},
   "outputs": [],
   "source": [
    "d = df_below_150_3_SBA"
   ]
  },
  {
   "cell_type": "code",
   "execution_count": 19,
   "metadata": {},
   "outputs": [
    {
     "data": {
      "text/plain": [
       "900000"
      ]
     },
     "execution_count": 19,
     "metadata": {},
     "output_type": "execute_result"
    }
   ],
   "source": [
    "len(d)"
   ]
  },
  {
   "cell_type": "code",
   "execution_count": 20,
   "metadata": {},
   "outputs": [],
   "source": [
    "#!wget https://data.sba.gov/dataset/8aa276e2-6cab-4f86-aca4-a7dde42adf24/resource/864cd9cb-7797-42da-b991-68ac24fcab9a/download/public_up_to_150k_4.csv"
   ]
  },
  {
   "cell_type": "code",
   "execution_count": 21,
   "metadata": {},
   "outputs": [],
   "source": [
    "df_below_150_4_SBA = pd.read_csv('public_up_to_150k_4.csv')"
   ]
  },
  {
   "cell_type": "code",
   "execution_count": 22,
   "metadata": {},
   "outputs": [],
   "source": [
    "e = df_below_150_4_SBA"
   ]
  },
  {
   "cell_type": "code",
   "execution_count": 23,
   "metadata": {},
   "outputs": [
    {
     "data": {
      "text/plain": [
       "900000"
      ]
     },
     "execution_count": 23,
     "metadata": {},
     "output_type": "execute_result"
    }
   ],
   "source": [
    "len(e)"
   ]
  },
  {
   "cell_type": "code",
   "execution_count": 24,
   "metadata": {},
   "outputs": [
    {
     "name": "stdout",
     "output_type": "stream",
     "text": [
      "Filesystem     1K-blocks    Used Available Use% Mounted on\r\n",
      "devtmpfs         4072376       0   4072376   0% /dev\r\n",
      "tmpfs            4083144       0   4083144   0% /dev/shm\r\n",
      "tmpfs            4083144     408   4082736   1% /run\r\n",
      "tmpfs            4083144       0   4083144   0% /sys/fs/cgroup\r\n",
      "/dev/xvda1      52416492 6491024  45925468  13% /\r\n",
      "tmpfs             816632       0    816632   0% /run/user/1000\r\n"
     ]
    }
   ],
   "source": [
    "!df -k"
   ]
  },
  {
   "cell_type": "code",
   "execution_count": 25,
   "metadata": {},
   "outputs": [],
   "source": [
    "#!wget https://data.sba.gov/dataset/8aa276e2-6cab-4f86-aca4-a7dde42adf24/resource/3032cb97-3a22-4ded-a0ca-69bdf54cdc32/download/public_up_to_150k_5.csv"
   ]
  },
  {
   "cell_type": "code",
   "execution_count": 26,
   "metadata": {},
   "outputs": [],
   "source": [
    "df_below_150_5_SBA = pd.read_csv('public_up_to_150k_5.csv')"
   ]
  },
  {
   "cell_type": "code",
   "execution_count": 27,
   "metadata": {},
   "outputs": [],
   "source": [
    "f = df_below_150_5_SBA"
   ]
  },
  {
   "cell_type": "code",
   "execution_count": 28,
   "metadata": {},
   "outputs": [
    {
     "data": {
      "text/plain": [
       "900000"
      ]
     },
     "execution_count": 28,
     "metadata": {},
     "output_type": "execute_result"
    }
   ],
   "source": [
    "len(f)"
   ]
  },
  {
   "cell_type": "code",
   "execution_count": 29,
   "metadata": {},
   "outputs": [],
   "source": [
    "#!wget https://data.sba.gov/dataset/8aa276e2-6cab-4f86-aca4-a7dde42adf24/resource/8fd56c55-8ad6-491e-a219-441c50471e4d/download/public_up_to_150k_6.csv"
   ]
  },
  {
   "cell_type": "code",
   "execution_count": 30,
   "metadata": {},
   "outputs": [],
   "source": [
    "df_below_150_6_SBA = pd.read_csv('public_up_to_150k_6.csv')"
   ]
  },
  {
   "cell_type": "code",
   "execution_count": 31,
   "metadata": {},
   "outputs": [],
   "source": [
    "g = df_below_150_6_SBA"
   ]
  },
  {
   "cell_type": "code",
   "execution_count": 32,
   "metadata": {},
   "outputs": [
    {
     "data": {
      "text/plain": [
       "900000"
      ]
     },
     "execution_count": 32,
     "metadata": {},
     "output_type": "execute_result"
    }
   ],
   "source": [
    "len(g)"
   ]
  },
  {
   "cell_type": "code",
   "execution_count": 33,
   "metadata": {},
   "outputs": [],
   "source": [
    "#!wget https://data.sba.gov/dataset/8aa276e2-6cab-4f86-aca4-a7dde42adf24/resource/7fd17fde-42a9-4a5a-8be9-dfbc6703e5f3/download/public_up_to_150k_7.csv"
   ]
  },
  {
   "cell_type": "code",
   "execution_count": 34,
   "metadata": {},
   "outputs": [],
   "source": [
    "df_below_150_7_SBA = pd.read_csv('public_up_to_150k_7.csv')"
   ]
  },
  {
   "cell_type": "code",
   "execution_count": 35,
   "metadata": {},
   "outputs": [],
   "source": [
    "h = df_below_150_7_SBA"
   ]
  },
  {
   "cell_type": "code",
   "execution_count": 36,
   "metadata": {},
   "outputs": [
    {
     "data": {
      "text/plain": [
       "900000"
      ]
     },
     "execution_count": 36,
     "metadata": {},
     "output_type": "execute_result"
    }
   ],
   "source": [
    "len(h)"
   ]
  },
  {
   "cell_type": "code",
   "execution_count": 37,
   "metadata": {},
   "outputs": [],
   "source": [
    "#!wget https://data.sba.gov/dataset/8aa276e2-6cab-4f86-aca4-a7dde42adf24/resource/c0c87f18-333a-43e8-843e-7c1e27b18317/download/public_up_to_150k_8.csv"
   ]
  },
  {
   "cell_type": "code",
   "execution_count": 38,
   "metadata": {},
   "outputs": [],
   "source": [
    "df_below_150_8_SBA = pd.read_csv('public_up_to_150k_8.csv')"
   ]
  },
  {
   "cell_type": "code",
   "execution_count": 39,
   "metadata": {},
   "outputs": [],
   "source": [
    "i = df_below_150_8_SBA"
   ]
  },
  {
   "cell_type": "code",
   "execution_count": 40,
   "metadata": {},
   "outputs": [
    {
     "data": {
      "text/plain": [
       "900000"
      ]
     },
     "execution_count": 40,
     "metadata": {},
     "output_type": "execute_result"
    }
   ],
   "source": [
    "len(i)"
   ]
  },
  {
   "cell_type": "code",
   "execution_count": 41,
   "metadata": {},
   "outputs": [],
   "source": [
    "#!wget https://data.sba.gov/dataset/8aa276e2-6cab-4f86-aca4-a7dde42adf24/resource/88d9f6f7-b471-4f5b-ae3e-7b9d7b394ad2/download/public_up_to_150k_9.csv"
   ]
  },
  {
   "cell_type": "code",
   "execution_count": 42,
   "metadata": {},
   "outputs": [],
   "source": [
    "df_below_150_9_SBA = pd.read_csv('public_up_to_150k_9.csv')"
   ]
  },
  {
   "cell_type": "code",
   "execution_count": 43,
   "metadata": {},
   "outputs": [],
   "source": [
    "j = df_below_150_9_SBA"
   ]
  },
  {
   "cell_type": "code",
   "execution_count": 44,
   "metadata": {},
   "outputs": [
    {
     "data": {
      "text/plain": [
       "748171"
      ]
     },
     "execution_count": 44,
     "metadata": {},
     "output_type": "execute_result"
    }
   ],
   "source": [
    "len(j)"
   ]
  },
  {
   "cell_type": "code",
   "execution_count": 45,
   "metadata": {},
   "outputs": [
    {
     "name": "stdout",
     "output_type": "stream",
     "text": [
      "Filesystem     1K-blocks    Used Available Use% Mounted on\r\n",
      "devtmpfs         4072376       0   4072376   0% /dev\r\n",
      "tmpfs            4083144       0   4083144   0% /dev/shm\r\n",
      "tmpfs            4083144     408   4082736   1% /run\r\n",
      "tmpfs            4083144       0   4083144   0% /sys/fs/cgroup\r\n",
      "/dev/xvda1      52416492 6491028  45925464  13% /\r\n",
      "tmpfs             816632       0    816632   0% /run/user/1000\r\n"
     ]
    }
   ],
   "source": [
    "!df -k"
   ]
  },
  {
   "cell_type": "code",
   "execution_count": 46,
   "metadata": {},
   "outputs": [
    {
     "name": "stdout",
     "output_type": "stream",
     "text": [
      "total 4130820\r\n",
      "drwxrwxr-x 4 ec2-user ec2-user      4096 Apr 27 21:53 .\r\n",
      "-rw-rw-r-- 1 ec2-user ec2-user     23804 Apr 27 21:53 Updating_On_AWS.ipynb\r\n",
      "drwxrwxr-x 8 ec2-user ec2-user       185 Apr 26 19:18 .git\r\n",
      "drwxrwxr-x 2 ec2-user ec2-user        46 Apr 25 17:00 .ipynb_checkpoints\r\n",
      "-rw-rw-r-- 1 ec2-user ec2-user    127633 Apr 25 16:57 Dec_2020_PPP_Work.ipynb\r\n",
      "-rw-rw-r-- 1 ec2-user ec2-user     53812 Apr 25 16:57 InitialReview.ipynb\r\n",
      "-rw-rw-r-- 1 ec2-user ec2-user      1064 Apr 25 16:57 LICENSE\r\n",
      "-rw-rw-r-- 1 ec2-user ec2-user        82 Apr 25 16:57 README.md\r\n",
      "drwxrwxr-x 9 ec2-user ec2-user       138 Apr 25 16:57 ..\r\n",
      "-rw-rw-r-- 1 ec2-user ec2-user 387730501 Apr 13 19:44 public_up_to_150k_8.csv\r\n",
      "-rw-rw-r-- 1 ec2-user ec2-user 388538904 Apr 13 19:44 public_up_to_150k_6.csv\r\n",
      "-rw-rw-r-- 1 ec2-user ec2-user 388538904 Apr 13 19:44 public_up_to_150k_6.csv.1\r\n",
      "-rw-rw-r-- 1 ec2-user ec2-user 386382997 Apr 13 19:44 public_up_to_150k_7.csv\r\n",
      "-rw-rw-r-- 1 ec2-user ec2-user 385289328 Apr 13 19:44 public_up_to_150k_5.csv\r\n",
      "-rw-rw-r-- 1 ec2-user ec2-user 386103013 Apr 13 19:44 public_up_to_150k_4.csv\r\n",
      "-rw-rw-r-- 1 ec2-user ec2-user 385650378 Apr 13 19:43 public_up_to_150k_3.csv\r\n",
      "-rw-rw-r-- 1 ec2-user ec2-user 391561150 Apr 13 19:43 public_up_to_150k_2.csv\r\n",
      "-rw-rw-r-- 1 ec2-user ec2-user 392449452 Apr 13 19:43 public_up_to_150k_1.csv\r\n",
      "-rw-rw-r-- 1 ec2-user ec2-user 320487838 Apr 13 19:42 public_up_to_150k_9.csv\r\n",
      "-rw-rw-r-- 1 ec2-user ec2-user 416982842 Apr 13 19:41 public_150k_plus.csv\r\n"
     ]
    }
   ],
   "source": [
    "!ls -alt"
   ]
  },
  {
   "cell_type": "code",
   "execution_count": 47,
   "metadata": {},
   "outputs": [
    {
     "data": {
      "text/plain": [
       "pandas.core.frame.DataFrame"
      ]
     },
     "execution_count": 47,
     "metadata": {},
     "output_type": "execute_result"
    }
   ],
   "source": [
    "type(a)"
   ]
  },
  {
   "cell_type": "code",
   "execution_count": 48,
   "metadata": {},
   "outputs": [
    {
     "data": {
      "text/plain": [
       "945920"
      ]
     },
     "execution_count": 48,
     "metadata": {},
     "output_type": "execute_result"
    }
   ],
   "source": [
    "len(a)"
   ]
  },
  {
   "cell_type": "code",
   "execution_count": 49,
   "metadata": {},
   "outputs": [],
   "source": [
    "result = a.append([b])"
   ]
  },
  {
   "cell_type": "code",
   "execution_count": 50,
   "metadata": {},
   "outputs": [
    {
     "data": {
      "text/plain": [
       "1845920"
      ]
     },
     "execution_count": 50,
     "metadata": {},
     "output_type": "execute_result"
    }
   ],
   "source": [
    "len(result)"
   ]
  },
  {
   "cell_type": "code",
   "execution_count": 51,
   "metadata": {},
   "outputs": [
    {
     "name": "stdout",
     "output_type": "stream",
     "text": [
      "(945920, 51)\n"
     ]
    }
   ],
   "source": [
    "print(a.shape)"
   ]
  },
  {
   "cell_type": "code",
   "execution_count": 52,
   "metadata": {},
   "outputs": [
    {
     "name": "stdout",
     "output_type": "stream",
     "text": [
      "(1845920, 51)\n"
     ]
    }
   ],
   "source": [
    "print(result.shape)"
   ]
  },
  {
   "cell_type": "code",
   "execution_count": 53,
   "metadata": {},
   "outputs": [
    {
     "name": "stdout",
     "output_type": "stream",
     "text": [
      "<class 'pandas.core.frame.DataFrame'>\n",
      "RangeIndex: 945920 entries, 0 to 945919\n",
      "Data columns (total 51 columns):\n",
      " #   Column                       Non-Null Count   Dtype  \n",
      "---  ------                       --------------   -----  \n",
      " 0   LoanNumber                   945920 non-null  int64  \n",
      " 1   DateApproved                 945920 non-null  object \n",
      " 2   SBAOfficeCode                945920 non-null  int64  \n",
      " 3   ProcessingMethod             945920 non-null  object \n",
      " 4   BorrowerName                 945917 non-null  object \n",
      " 5   BorrowerAddress              945905 non-null  object \n",
      " 6   BorrowerCity                 945907 non-null  object \n",
      " 7   BorrowerState                945906 non-null  object \n",
      " 8   BorrowerZip                  945906 non-null  object \n",
      " 9   LoanStatusDate               292555 non-null  object \n",
      " 10  LoanStatus                   945920 non-null  object \n",
      " 11  Term                         945920 non-null  int64  \n",
      " 12  SBAGuarantyPercentage        945920 non-null  int64  \n",
      " 13  InitialApprovalAmount        945920 non-null  float64\n",
      " 14  CurrentApprovalAmount        945920 non-null  float64\n",
      " 15  UndisbursedAmount            945074 non-null  float64\n",
      " 16  FranchiseName                34235 non-null   object \n",
      " 17  ServicingLenderLocationID    945920 non-null  int64  \n",
      " 18  ServicingLenderName          945920 non-null  object \n",
      " 19  ServicingLenderAddress       945920 non-null  object \n",
      " 20  ServicingLenderCity          945920 non-null  object \n",
      " 21  ServicingLenderState         945920 non-null  object \n",
      " 22  ServicingLenderZip           945920 non-null  object \n",
      " 23  RuralUrbanIndicator          945920 non-null  object \n",
      " 24  HubzoneIndicator             945920 non-null  object \n",
      " 25  LMIIndicator                 945920 non-null  object \n",
      " 26  BusinessAgeDescription       945920 non-null  object \n",
      " 27  ProjectCity                  945907 non-null  object \n",
      " 28  ProjectCountyName            945863 non-null  object \n",
      " 29  ProjectState                 945911 non-null  object \n",
      " 30  ProjectZip                   945906 non-null  object \n",
      " 31  CD                           945871 non-null  object \n",
      " 32  JobsReported                 945919 non-null  float64\n",
      " 33  NAICSCode                    939273 non-null  float64\n",
      " 34  Race                         945920 non-null  object \n",
      " 35  Ethnicity                    945920 non-null  object \n",
      " 36  UTILITIES_PROCEED            324741 non-null  float64\n",
      " 37  PAYROLL_PROCEED              944093 non-null  float64\n",
      " 38  MORTGAGE_INTEREST_PROCEED    46493 non-null   float64\n",
      " 39  RENT_PROCEED                 99665 non-null   float64\n",
      " 40  REFINANCE_EIDL_PROCEED       23270 non-null   float64\n",
      " 41  HEALTH_CARE_PROCEED          57581 non-null   float64\n",
      " 42  DEBT_INTEREST_PROCEED        31993 non-null   float64\n",
      " 43  BusinessType                 945125 non-null  object \n",
      " 44  OriginatingLenderLocationID  945920 non-null  int64  \n",
      " 45  OriginatingLender            945920 non-null  object \n",
      " 46  OriginatingLenderCity        945920 non-null  object \n",
      " 47  OriginatingLenderState       945920 non-null  object \n",
      " 48  Gender                       945920 non-null  object \n",
      " 49  Veteran                      945920 non-null  object \n",
      " 50  NonProfit                    55677 non-null   object \n",
      "dtypes: float64(12), int64(6), object(33)\n",
      "memory usage: 368.1+ MB\n"
     ]
    }
   ],
   "source": [
    "a.info()"
   ]
  },
  {
   "cell_type": "code",
   "execution_count": 55,
   "metadata": {},
   "outputs": [
    {
     "name": "stdout",
     "output_type": "stream",
     "text": [
      "<class 'pandas.core.frame.DataFrame'>\n",
      "Int64Index: 1845920 entries, 0 to 899999\n",
      "Data columns (total 51 columns):\n",
      " #   Column                       Dtype  \n",
      "---  ------                       -----  \n",
      " 0   LoanNumber                   int64  \n",
      " 1   DateApproved                 object \n",
      " 2   SBAOfficeCode                float64\n",
      " 3   ProcessingMethod             object \n",
      " 4   BorrowerName                 object \n",
      " 5   BorrowerAddress              object \n",
      " 6   BorrowerCity                 object \n",
      " 7   BorrowerState                object \n",
      " 8   BorrowerZip                  object \n",
      " 9   LoanStatusDate               object \n",
      " 10  LoanStatus                   object \n",
      " 11  Term                         int64  \n",
      " 12  SBAGuarantyPercentage        int64  \n",
      " 13  InitialApprovalAmount        float64\n",
      " 14  CurrentApprovalAmount        float64\n",
      " 15  UndisbursedAmount            float64\n",
      " 16  FranchiseName                object \n",
      " 17  ServicingLenderLocationID    float64\n",
      " 18  ServicingLenderName          object \n",
      " 19  ServicingLenderAddress       object \n",
      " 20  ServicingLenderCity          object \n",
      " 21  ServicingLenderState         object \n",
      " 22  ServicingLenderZip           object \n",
      " 23  RuralUrbanIndicator          object \n",
      " 24  HubzoneIndicator             object \n",
      " 25  LMIIndicator                 object \n",
      " 26  BusinessAgeDescription       object \n",
      " 27  ProjectCity                  object \n",
      " 28  ProjectCountyName            object \n",
      " 29  ProjectState                 object \n",
      " 30  ProjectZip                   object \n",
      " 31  CD                           object \n",
      " 32  JobsReported                 float64\n",
      " 33  NAICSCode                    float64\n",
      " 34  Race                         object \n",
      " 35  Ethnicity                    object \n",
      " 36  UTILITIES_PROCEED            float64\n",
      " 37  PAYROLL_PROCEED              float64\n",
      " 38  MORTGAGE_INTEREST_PROCEED    float64\n",
      " 39  RENT_PROCEED                 float64\n",
      " 40  REFINANCE_EIDL_PROCEED       float64\n",
      " 41  HEALTH_CARE_PROCEED          float64\n",
      " 42  DEBT_INTEREST_PROCEED        float64\n",
      " 43  BusinessType                 object \n",
      " 44  OriginatingLenderLocationID  float64\n",
      " 45  OriginatingLender            object \n",
      " 46  OriginatingLenderCity        object \n",
      " 47  OriginatingLenderState       object \n",
      " 48  Gender                       object \n",
      " 49  Veteran                      object \n",
      " 50  NonProfit                    object \n",
      "dtypes: float64(15), int64(3), object(33)\n",
      "memory usage: 732.3+ MB\n"
     ]
    }
   ],
   "source": [
    "result.info()"
   ]
  },
  {
   "cell_type": "code",
   "execution_count": 57,
   "metadata": {},
   "outputs": [
    {
     "data": {
      "text/plain": [
       "Index(['LoanNumber', 'DateApproved', 'SBAOfficeCode', 'ProcessingMethod',\n",
       "       'BorrowerName', 'BorrowerAddress', 'BorrowerCity', 'BorrowerState',\n",
       "       'BorrowerZip', 'LoanStatusDate', 'LoanStatus', 'Term',\n",
       "       'SBAGuarantyPercentage', 'InitialApprovalAmount',\n",
       "       'CurrentApprovalAmount', 'UndisbursedAmount', 'FranchiseName',\n",
       "       'ServicingLenderLocationID', 'ServicingLenderName',\n",
       "       'ServicingLenderAddress', 'ServicingLenderCity', 'ServicingLenderState',\n",
       "       'ServicingLenderZip', 'RuralUrbanIndicator', 'HubzoneIndicator',\n",
       "       'LMIIndicator', 'BusinessAgeDescription', 'ProjectCity',\n",
       "       'ProjectCountyName', 'ProjectState', 'ProjectZip', 'CD', 'JobsReported',\n",
       "       'NAICSCode', 'Race', 'Ethnicity', 'UTILITIES_PROCEED',\n",
       "       'PAYROLL_PROCEED', 'MORTGAGE_INTEREST_PROCEED', 'RENT_PROCEED',\n",
       "       'REFINANCE_EIDL_PROCEED', 'HEALTH_CARE_PROCEED',\n",
       "       'DEBT_INTEREST_PROCEED', 'BusinessType', 'OriginatingLenderLocationID',\n",
       "       'OriginatingLender', 'OriginatingLenderCity', 'OriginatingLenderState',\n",
       "       'Gender', 'Veteran', 'NonProfit'],\n",
       "      dtype='object')"
      ]
     },
     "execution_count": 57,
     "metadata": {},
     "output_type": "execute_result"
    }
   ],
   "source": [
    "a.columns"
   ]
  },
  {
   "cell_type": "code",
   "execution_count": 59,
   "metadata": {},
   "outputs": [
    {
     "data": {
      "text/plain": [
       "LoanNumber                       int64\n",
       "DateApproved                    object\n",
       "SBAOfficeCode                    int64\n",
       "ProcessingMethod                object\n",
       "BorrowerName                    object\n",
       "BorrowerAddress                 object\n",
       "BorrowerCity                    object\n",
       "BorrowerState                   object\n",
       "BorrowerZip                     object\n",
       "LoanStatusDate                  object\n",
       "LoanStatus                      object\n",
       "Term                             int64\n",
       "SBAGuarantyPercentage            int64\n",
       "InitialApprovalAmount          float64\n",
       "CurrentApprovalAmount          float64\n",
       "UndisbursedAmount              float64\n",
       "FranchiseName                   object\n",
       "ServicingLenderLocationID        int64\n",
       "ServicingLenderName             object\n",
       "ServicingLenderAddress          object\n",
       "ServicingLenderCity             object\n",
       "ServicingLenderState            object\n",
       "ServicingLenderZip              object\n",
       "RuralUrbanIndicator             object\n",
       "HubzoneIndicator                object\n",
       "LMIIndicator                    object\n",
       "BusinessAgeDescription          object\n",
       "ProjectCity                     object\n",
       "ProjectCountyName               object\n",
       "ProjectState                    object\n",
       "ProjectZip                      object\n",
       "CD                              object\n",
       "JobsReported                   float64\n",
       "NAICSCode                      float64\n",
       "Race                            object\n",
       "Ethnicity                       object\n",
       "UTILITIES_PROCEED              float64\n",
       "PAYROLL_PROCEED                float64\n",
       "MORTGAGE_INTEREST_PROCEED      float64\n",
       "RENT_PROCEED                   float64\n",
       "REFINANCE_EIDL_PROCEED         float64\n",
       "HEALTH_CARE_PROCEED            float64\n",
       "DEBT_INTEREST_PROCEED          float64\n",
       "BusinessType                    object\n",
       "OriginatingLenderLocationID      int64\n",
       "OriginatingLender               object\n",
       "OriginatingLenderCity           object\n",
       "OriginatingLenderState          object\n",
       "Gender                          object\n",
       "Veteran                         object\n",
       "NonProfit                       object\n",
       "dtype: object"
      ]
     },
     "execution_count": 59,
     "metadata": {},
     "output_type": "execute_result"
    }
   ],
   "source": [
    "a.dtypes"
   ]
  },
  {
   "cell_type": "code",
   "execution_count": 60,
   "metadata": {},
   "outputs": [
    {
     "name": "stdout",
     "output_type": "stream",
     "text": [
      "<class 'pandas.core.frame.DataFrame'>\n",
      "RangeIndex: 945920 entries, 0 to 945919\n",
      "Data columns (total 51 columns):\n",
      " #   Column                       Non-Null Count   Dtype  \n",
      "---  ------                       --------------   -----  \n",
      " 0   LoanNumber                   945920 non-null  int64  \n",
      " 1   DateApproved                 945920 non-null  object \n",
      " 2   SBAOfficeCode                945920 non-null  int64  \n",
      " 3   ProcessingMethod             945920 non-null  object \n",
      " 4   BorrowerName                 945917 non-null  object \n",
      " 5   BorrowerAddress              945905 non-null  object \n",
      " 6   BorrowerCity                 945907 non-null  object \n",
      " 7   BorrowerState                945906 non-null  object \n",
      " 8   BorrowerZip                  945906 non-null  object \n",
      " 9   LoanStatusDate               292555 non-null  object \n",
      " 10  LoanStatus                   945920 non-null  object \n",
      " 11  Term                         945920 non-null  int64  \n",
      " 12  SBAGuarantyPercentage        945920 non-null  int64  \n",
      " 13  InitialApprovalAmount        945920 non-null  float64\n",
      " 14  CurrentApprovalAmount        945920 non-null  float64\n",
      " 15  UndisbursedAmount            945074 non-null  float64\n",
      " 16  FranchiseName                34235 non-null   object \n",
      " 17  ServicingLenderLocationID    945920 non-null  int64  \n",
      " 18  ServicingLenderName          945920 non-null  object \n",
      " 19  ServicingLenderAddress       945920 non-null  object \n",
      " 20  ServicingLenderCity          945920 non-null  object \n",
      " 21  ServicingLenderState         945920 non-null  object \n",
      " 22  ServicingLenderZip           945920 non-null  object \n",
      " 23  RuralUrbanIndicator          945920 non-null  object \n",
      " 24  HubzoneIndicator             945920 non-null  object \n",
      " 25  LMIIndicator                 945920 non-null  object \n",
      " 26  BusinessAgeDescription       945920 non-null  object \n",
      " 27  ProjectCity                  945907 non-null  object \n",
      " 28  ProjectCountyName            945863 non-null  object \n",
      " 29  ProjectState                 945911 non-null  object \n",
      " 30  ProjectZip                   945906 non-null  object \n",
      " 31  CD                           945871 non-null  object \n",
      " 32  JobsReported                 945919 non-null  float64\n",
      " 33  NAICSCode                    939273 non-null  float64\n",
      " 34  Race                         945920 non-null  object \n",
      " 35  Ethnicity                    945920 non-null  object \n",
      " 36  UTILITIES_PROCEED            324741 non-null  float64\n",
      " 37  PAYROLL_PROCEED              944093 non-null  float64\n",
      " 38  MORTGAGE_INTEREST_PROCEED    46493 non-null   float64\n",
      " 39  RENT_PROCEED                 99665 non-null   float64\n",
      " 40  REFINANCE_EIDL_PROCEED       23270 non-null   float64\n",
      " 41  HEALTH_CARE_PROCEED          57581 non-null   float64\n",
      " 42  DEBT_INTEREST_PROCEED        31993 non-null   float64\n",
      " 43  BusinessType                 945125 non-null  object \n",
      " 44  OriginatingLenderLocationID  945920 non-null  int64  \n",
      " 45  OriginatingLender            945920 non-null  object \n",
      " 46  OriginatingLenderCity        945920 non-null  object \n",
      " 47  OriginatingLenderState       945920 non-null  object \n",
      " 48  Gender                       945920 non-null  object \n",
      " 49  Veteran                      945920 non-null  object \n",
      " 50  NonProfit                    55677 non-null   object \n",
      "dtypes: float64(12), int64(6), object(33)\n",
      "memory usage: 368.1+ MB\n"
     ]
    }
   ],
   "source": [
    "a.info()"
   ]
  },
  {
   "cell_type": "code",
   "execution_count": 61,
   "metadata": {},
   "outputs": [
    {
     "data": {
      "text/plain": [
       "0         SC-05\n",
       "1         SC-06\n",
       "2         WA-07\n",
       "3         CA-08\n",
       "4           NaN\n",
       "          ...  \n",
       "945915      WY-\n",
       "945916      WY-\n",
       "945917      WY-\n",
       "945918      WY-\n",
       "945919      WY-\n",
       "Name: CD, Length: 945920, dtype: object"
      ]
     },
     "execution_count": 61,
     "metadata": {},
     "output_type": "execute_result"
    }
   ],
   "source": [
    "a['CD']"
   ]
  },
  {
   "cell_type": "code",
   "execution_count": 67,
   "metadata": {},
   "outputs": [
    {
     "data": {
      "text/plain": [
       "'FL-04'"
      ]
     },
     "execution_count": 67,
     "metadata": {},
     "output_type": "execute_result"
    }
   ],
   "source": [
    "a['CD'].iloc[6]"
   ]
  },
  {
   "cell_type": "code",
   "execution_count": 68,
   "metadata": {},
   "outputs": [
    {
     "data": {
      "text/html": [
       "<div>\n",
       "<style scoped>\n",
       "    .dataframe tbody tr th:only-of-type {\n",
       "        vertical-align: middle;\n",
       "    }\n",
       "\n",
       "    .dataframe tbody tr th {\n",
       "        vertical-align: top;\n",
       "    }\n",
       "\n",
       "    .dataframe thead th {\n",
       "        text-align: right;\n",
       "    }\n",
       "</style>\n",
       "<table border=\"1\" class=\"dataframe\">\n",
       "  <thead>\n",
       "    <tr style=\"text-align: right;\">\n",
       "      <th></th>\n",
       "      <th>LoanNumber</th>\n",
       "      <th>DateApproved</th>\n",
       "      <th>SBAOfficeCode</th>\n",
       "      <th>ProcessingMethod</th>\n",
       "      <th>BorrowerName</th>\n",
       "      <th>BorrowerAddress</th>\n",
       "      <th>BorrowerCity</th>\n",
       "      <th>BorrowerState</th>\n",
       "      <th>BorrowerZip</th>\n",
       "      <th>LoanStatusDate</th>\n",
       "      <th>...</th>\n",
       "      <th>HEALTH_CARE_PROCEED</th>\n",
       "      <th>DEBT_INTEREST_PROCEED</th>\n",
       "      <th>BusinessType</th>\n",
       "      <th>OriginatingLenderLocationID</th>\n",
       "      <th>OriginatingLender</th>\n",
       "      <th>OriginatingLenderCity</th>\n",
       "      <th>OriginatingLenderState</th>\n",
       "      <th>Gender</th>\n",
       "      <th>Veteran</th>\n",
       "      <th>NonProfit</th>\n",
       "    </tr>\n",
       "  </thead>\n",
       "  <tbody>\n",
       "    <tr>\n",
       "      <th>0</th>\n",
       "      <td>9547507704</td>\n",
       "      <td>05/01/2020</td>\n",
       "      <td>464</td>\n",
       "      <td>PPP</td>\n",
       "      <td>SUMTER COATINGS, INC.</td>\n",
       "      <td>2410 Highway 15 South</td>\n",
       "      <td>Sumter</td>\n",
       "      <td>NaN</td>\n",
       "      <td>29150-9662</td>\n",
       "      <td>12/18/2020</td>\n",
       "      <td>...</td>\n",
       "      <td>NaN</td>\n",
       "      <td>NaN</td>\n",
       "      <td>Corporation</td>\n",
       "      <td>19248</td>\n",
       "      <td>Synovus Bank</td>\n",
       "      <td>COLUMBUS</td>\n",
       "      <td>GA</td>\n",
       "      <td>Unanswered</td>\n",
       "      <td>Unanswered</td>\n",
       "      <td>NaN</td>\n",
       "    </tr>\n",
       "    <tr>\n",
       "      <th>1</th>\n",
       "      <td>9777677704</td>\n",
       "      <td>05/01/2020</td>\n",
       "      <td>464</td>\n",
       "      <td>PPP</td>\n",
       "      <td>PLEASANT PLACES, INC.</td>\n",
       "      <td>7684 Southrail Road</td>\n",
       "      <td>North Charleston</td>\n",
       "      <td>NaN</td>\n",
       "      <td>29420-9000</td>\n",
       "      <td>NaN</td>\n",
       "      <td>...</td>\n",
       "      <td>NaN</td>\n",
       "      <td>NaN</td>\n",
       "      <td>Sole Proprietorship</td>\n",
       "      <td>19248</td>\n",
       "      <td>Synovus Bank</td>\n",
       "      <td>COLUMBUS</td>\n",
       "      <td>GA</td>\n",
       "      <td>Male Owned</td>\n",
       "      <td>Non-Veteran</td>\n",
       "      <td>NaN</td>\n",
       "    </tr>\n",
       "    <tr>\n",
       "      <th>2</th>\n",
       "      <td>5791407702</td>\n",
       "      <td>05/01/2020</td>\n",
       "      <td>1013</td>\n",
       "      <td>PPP</td>\n",
       "      <td>BOYER CHILDREN'S CLINIC</td>\n",
       "      <td>1850 BOYER AVE E</td>\n",
       "      <td>SEATTLE</td>\n",
       "      <td>NaN</td>\n",
       "      <td>98112-2922</td>\n",
       "      <td>03/17/2021</td>\n",
       "      <td>...</td>\n",
       "      <td>NaN</td>\n",
       "      <td>NaN</td>\n",
       "      <td>Non-Profit Organization</td>\n",
       "      <td>9551</td>\n",
       "      <td>Bank of America, National Association</td>\n",
       "      <td>CHARLOTTE</td>\n",
       "      <td>NC</td>\n",
       "      <td>Unanswered</td>\n",
       "      <td>Unanswered</td>\n",
       "      <td>Y</td>\n",
       "    </tr>\n",
       "    <tr>\n",
       "      <th>3</th>\n",
       "      <td>6223567700</td>\n",
       "      <td>05/01/2020</td>\n",
       "      <td>920</td>\n",
       "      <td>PPP</td>\n",
       "      <td>KIRTLEY CONSTRUCTION INC</td>\n",
       "      <td>1661 MARTIN RANCH RD</td>\n",
       "      <td>SAN BERNARDINO</td>\n",
       "      <td>NaN</td>\n",
       "      <td>92407-1740</td>\n",
       "      <td>NaN</td>\n",
       "      <td>...</td>\n",
       "      <td>NaN</td>\n",
       "      <td>NaN</td>\n",
       "      <td>Corporation</td>\n",
       "      <td>9551</td>\n",
       "      <td>Bank of America, National Association</td>\n",
       "      <td>CHARLOTTE</td>\n",
       "      <td>NC</td>\n",
       "      <td>Unanswered</td>\n",
       "      <td>Unanswered</td>\n",
       "      <td>NaN</td>\n",
       "    </tr>\n",
       "    <tr>\n",
       "      <th>4</th>\n",
       "      <td>9662437702</td>\n",
       "      <td>05/01/2020</td>\n",
       "      <td>101</td>\n",
       "      <td>PPP</td>\n",
       "      <td>AERO BOX LLC</td>\n",
       "      <td>NaN</td>\n",
       "      <td>NaN</td>\n",
       "      <td>NaN</td>\n",
       "      <td>NaN</td>\n",
       "      <td>NaN</td>\n",
       "      <td>...</td>\n",
       "      <td>NaN</td>\n",
       "      <td>NaN</td>\n",
       "      <td>NaN</td>\n",
       "      <td>57328</td>\n",
       "      <td>The Huntington National Bank</td>\n",
       "      <td>COLUMBUS</td>\n",
       "      <td>OH</td>\n",
       "      <td>Unanswered</td>\n",
       "      <td>Unanswered</td>\n",
       "      <td>NaN</td>\n",
       "    </tr>\n",
       "  </tbody>\n",
       "</table>\n",
       "<p>5 rows × 51 columns</p>\n",
       "</div>"
      ],
      "text/plain": [
       "   LoanNumber DateApproved  SBAOfficeCode ProcessingMethod  \\\n",
       "0  9547507704   05/01/2020            464              PPP   \n",
       "1  9777677704   05/01/2020            464              PPP   \n",
       "2  5791407702   05/01/2020           1013              PPP   \n",
       "3  6223567700   05/01/2020            920              PPP   \n",
       "4  9662437702   05/01/2020            101              PPP   \n",
       "\n",
       "               BorrowerName        BorrowerAddress      BorrowerCity  \\\n",
       "0     SUMTER COATINGS, INC.  2410 Highway 15 South            Sumter   \n",
       "1     PLEASANT PLACES, INC.    7684 Southrail Road  North Charleston   \n",
       "2   BOYER CHILDREN'S CLINIC       1850 BOYER AVE E           SEATTLE   \n",
       "3  KIRTLEY CONSTRUCTION INC   1661 MARTIN RANCH RD    SAN BERNARDINO   \n",
       "4              AERO BOX LLC                    NaN               NaN   \n",
       "\n",
       "  BorrowerState BorrowerZip LoanStatusDate  ... HEALTH_CARE_PROCEED  \\\n",
       "0           NaN  29150-9662     12/18/2020  ...                 NaN   \n",
       "1           NaN  29420-9000            NaN  ...                 NaN   \n",
       "2           NaN  98112-2922     03/17/2021  ...                 NaN   \n",
       "3           NaN  92407-1740            NaN  ...                 NaN   \n",
       "4           NaN         NaN            NaN  ...                 NaN   \n",
       "\n",
       "   DEBT_INTEREST_PROCEED             BusinessType  \\\n",
       "0                    NaN              Corporation   \n",
       "1                    NaN      Sole Proprietorship   \n",
       "2                    NaN  Non-Profit Organization   \n",
       "3                    NaN              Corporation   \n",
       "4                    NaN                      NaN   \n",
       "\n",
       "   OriginatingLenderLocationID                      OriginatingLender  \\\n",
       "0                        19248                           Synovus Bank   \n",
       "1                        19248                           Synovus Bank   \n",
       "2                         9551  Bank of America, National Association   \n",
       "3                         9551  Bank of America, National Association   \n",
       "4                        57328           The Huntington National Bank   \n",
       "\n",
       "   OriginatingLenderCity OriginatingLenderState      Gender      Veteran  \\\n",
       "0               COLUMBUS                     GA  Unanswered   Unanswered   \n",
       "1               COLUMBUS                     GA  Male Owned  Non-Veteran   \n",
       "2              CHARLOTTE                     NC  Unanswered   Unanswered   \n",
       "3              CHARLOTTE                     NC  Unanswered   Unanswered   \n",
       "4               COLUMBUS                     OH  Unanswered   Unanswered   \n",
       "\n",
       "  NonProfit  \n",
       "0       NaN  \n",
       "1       NaN  \n",
       "2         Y  \n",
       "3       NaN  \n",
       "4       NaN  \n",
       "\n",
       "[5 rows x 51 columns]"
      ]
     },
     "execution_count": 68,
     "metadata": {},
     "output_type": "execute_result"
    }
   ],
   "source": [
    "a.head()"
   ]
  },
  {
   "cell_type": "code",
   "execution_count": null,
   "metadata": {},
   "outputs": [],
   "source": []
  }
 ],
 "metadata": {
  "kernelspec": {
   "display_name": "Python 3",
   "language": "python",
   "name": "python3"
  },
  "language_info": {
   "codemirror_mode": {
    "name": "ipython",
    "version": 3
   },
   "file_extension": ".py",
   "mimetype": "text/x-python",
   "name": "python",
   "nbconvert_exporter": "python",
   "pygments_lexer": "ipython3",
   "version": "3.7.9"
  }
 },
 "nbformat": 4,
 "nbformat_minor": 4
}

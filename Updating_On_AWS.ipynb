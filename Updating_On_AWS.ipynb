{
 "cells": [
  {
   "cell_type": "code",
   "execution_count": null,
   "metadata": {},
   "outputs": [],
   "source": [
    "!wget https://data.sba.gov/dataset/8aa276e2-6cab-4f86-aca4-a7dde42adf24/resource/6b62a44b-69ec-436a-9b95-0ea550475543/download/public_150k_plus.csv"
   ]
  },
  {
   "cell_type": "markdown",
   "metadata": {},
   "source": [
    "Above from https://data.sba.gov/dataset/ppp-foia/resource/6b62a44b-69ec-436a-9b95-0ea550475543"
   ]
  },
  {
   "cell_type": "code",
   "execution_count": 1,
   "metadata": {},
   "outputs": [],
   "source": [
    "import pandas as pd\n",
    "import matplotlib.pyplot as plt\n",
    "import numpy as np\n",
    "import datetime\n",
    "%matplotlib inline"
   ]
  },
  {
   "cell_type": "code",
   "execution_count": 2,
   "metadata": {},
   "outputs": [
    {
     "name": "stdout",
     "output_type": "stream",
     "text": [
      "--2021-04-25 16:59:09--  https://data.sba.gov/dataset/8aa276e2-6cab-4f86-aca4-a7dde42adf24/resource/6b62a44b-69ec-436a-9b95-0ea550475543/download/public_150k_plus.csv\n",
      "Resolving data.sba.gov (data.sba.gov)... 99.84.189.123, 99.84.189.79, 99.84.189.80, ...\n",
      "Connecting to data.sba.gov (data.sba.gov)|99.84.189.123|:443... connected.\n",
      "HTTP request sent, awaiting response... 200 OK\n",
      "Length: 416982842 (398M) [text/csv]\n",
      "Saving to: ‘public_150k_plus.csv’\n",
      "\n",
      "100%[======================================>] 416,982,842 60.7MB/s   in 6.5s   \n",
      "\n",
      "2021-04-25 16:59:16 (61.1 MB/s) - ‘public_150k_plus.csv’ saved [416982842/416982842]\n",
      "\n"
     ]
    }
   ],
   "source": [
    "!wget https://data.sba.gov/dataset/8aa276e2-6cab-4f86-aca4-a7dde42adf24/resource/6b62a44b-69ec-436a-9b95-0ea550475543/download/public_150k_plus.csv"
   ]
  },
  {
   "cell_type": "code",
   "execution_count": 3,
   "metadata": {},
   "outputs": [
    {
     "name": "stdout",
     "output_type": "stream",
     "text": [
      "total 407408\r\n",
      "drwxrwxr-x 4 ec2-user ec2-user       191 Apr 25 16:59 .\r\n",
      "drwxrwxr-x 2 ec2-user ec2-user         6 Apr 25 16:58 .ipynb_checkpoints\r\n",
      "-rw-rw-r-- 1 ec2-user ec2-user    127633 Apr 25 16:57 Dec_2020_PPP_Work.ipynb\r\n",
      "drwxrwxr-x 8 ec2-user ec2-user       163 Apr 25 16:57 .git\r\n",
      "-rw-rw-r-- 1 ec2-user ec2-user     53812 Apr 25 16:57 InitialReview.ipynb\r\n",
      "-rw-rw-r-- 1 ec2-user ec2-user      1064 Apr 25 16:57 LICENSE\r\n",
      "-rw-rw-r-- 1 ec2-user ec2-user        82 Apr 25 16:57 README.md\r\n",
      "-rw-rw-r-- 1 ec2-user ec2-user      2069 Apr 25 16:57 Updating_On_AWS.ipynb\r\n",
      "drwxrwxr-x 9 ec2-user ec2-user       138 Apr 25 16:57 ..\r\n",
      "-rw-rw-r-- 1 ec2-user ec2-user 416982842 Apr 13 19:41 public_150k_plus.csv\r\n"
     ]
    }
   ],
   "source": [
    "!ls -alt "
   ]
  },
  {
   "cell_type": "code",
   "execution_count": 4,
   "metadata": {},
   "outputs": [],
   "source": [
    "df_all_high_SBA = pd.read_csv('public_150k_plus.csv')"
   ]
  },
  {
   "cell_type": "code",
   "execution_count": 5,
   "metadata": {},
   "outputs": [],
   "source": [
    "a = df_all_high_SBA"
   ]
  },
  {
   "cell_type": "code",
   "execution_count": 6,
   "metadata": {},
   "outputs": [
    {
     "data": {
      "text/plain": [
       "945920"
      ]
     },
     "execution_count": 6,
     "metadata": {},
     "output_type": "execute_result"
    }
   ],
   "source": [
    "len(a)"
   ]
  },
  {
   "cell_type": "code",
   "execution_count": 7,
   "metadata": {},
   "outputs": [
    {
     "name": "stdout",
     "output_type": "stream",
     "text": [
      "--2021-04-25 17:01:43--  https://data.sba.gov/dataset/8aa276e2-6cab-4f86-aca4-a7dde42adf24/resource/3d28c417-5170-4f1f-be31-b0c7b0182501/download/public_up_to_150k_1.csv\n",
      "Resolving data.sba.gov (data.sba.gov)... 99.84.189.79, 99.84.189.80, 99.84.189.112, ...\n",
      "Connecting to data.sba.gov (data.sba.gov)|99.84.189.79|:443... connected.\n",
      "HTTP request sent, awaiting response... 200 OK\n",
      "Length: 392449452 (374M) [text/csv]\n",
      "Saving to: ‘public_up_to_150k_1.csv’\n",
      "\n",
      "100%[======================================>] 392,449,452  101MB/s   in 3.7s   \n",
      "\n",
      "2021-04-25 17:01:47 (102 MB/s) - ‘public_up_to_150k_1.csv’ saved [392449452/392449452]\n",
      "\n"
     ]
    }
   ],
   "source": [
    "!wget https://data.sba.gov/dataset/8aa276e2-6cab-4f86-aca4-a7dde42adf24/resource/3d28c417-5170-4f1f-be31-b0c7b0182501/download/public_up_to_150k_1.csv"
   ]
  },
  {
   "cell_type": "code",
   "execution_count": 8,
   "metadata": {},
   "outputs": [],
   "source": [
    "df_below_150_1_SBA = pd.read_csv('public_up_to_150k_1.csv')"
   ]
  },
  {
   "cell_type": "code",
   "execution_count": 10,
   "metadata": {},
   "outputs": [],
   "source": [
    "b = df_below_150_1_SBA"
   ]
  },
  {
   "cell_type": "code",
   "execution_count": 11,
   "metadata": {},
   "outputs": [
    {
     "data": {
      "text/plain": [
       "900000"
      ]
     },
     "execution_count": 11,
     "metadata": {},
     "output_type": "execute_result"
    }
   ],
   "source": [
    "len(b)"
   ]
  },
  {
   "cell_type": "code",
   "execution_count": null,
   "metadata": {},
   "outputs": [],
   "source": []
  }
 ],
 "metadata": {
  "kernelspec": {
   "display_name": "Python 3",
   "language": "python",
   "name": "python3"
  },
  "language_info": {
   "codemirror_mode": {
    "name": "ipython",
    "version": 3
   },
   "file_extension": ".py",
   "mimetype": "text/x-python",
   "name": "python",
   "nbconvert_exporter": "python",
   "pygments_lexer": "ipython3",
   "version": "3.7.9"
  }
 },
 "nbformat": 4,
 "nbformat_minor": 4
}

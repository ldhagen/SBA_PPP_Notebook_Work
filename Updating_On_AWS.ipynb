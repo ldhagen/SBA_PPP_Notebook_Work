{
 "cells": [
  {
   "cell_type": "code",
   "execution_count": null,
   "metadata": {},
   "outputs": [],
   "source": [
    "!wget https://data.sba.gov/dataset/8aa276e2-6cab-4f86-aca4-a7dde42adf24/resource/6b62a44b-69ec-436a-9b95-0ea550475543/download/public_150k_plus.csv"
   ]
  },
  {
   "cell_type": "markdown",
   "metadata": {},
   "source": [
    "Above from https://data.sba.gov/dataset/ppp-foia/resource/6b62a44b-69ec-436a-9b95-0ea550475543"
   ]
  },
  {
   "cell_type": "code",
   "execution_count": 2,
   "metadata": {},
   "outputs": [],
   "source": [
    "import pandas as pd\n",
    "import matplotlib.pyplot as plt\n",
    "import numpy as np\n",
    "import datetime\n",
    "%matplotlib inline"
   ]
  },
  {
   "cell_type": "code",
   "execution_count": 1,
   "metadata": {},
   "outputs": [
    {
     "name": "stdout",
     "output_type": "stream",
     "text": [
      "total 407232\r\n",
      "drwxr-sr-x 3 jovyan users      4096 Apr 24 23:23 .\r\n",
      "-rw-r--r-- 1 jovyan users      2069 Apr 24 23:23 Updating_On_AWS.ipynb\r\n",
      "drwxr-sr-x 2 jovyan users      4096 Apr 24 23:16 .ipynb_checkpoints\r\n",
      "drwsrwsr-x 1 jovyan users      4096 Apr 24 23:15 ..\r\n",
      "-rw-r--r-- 1 jovyan users 416982842 Apr 13 19:41 public_150k_plus.csv\r\n"
     ]
    }
   ],
   "source": [
    "!ls -alt "
   ]
  },
  {
   "cell_type": "code",
   "execution_count": null,
   "metadata": {},
   "outputs": [],
   "source": [
    "df_all_high_SBA = pd.read_csv('public_150k_plus.csv')"
   ]
  },
  {
   "cell_type": "code",
   "execution_count": null,
   "metadata": {},
   "outputs": [],
   "source": []
  }
 ],
 "metadata": {
  "kernelspec": {
   "display_name": "Python 3",
   "language": "python",
   "name": "python3"
  },
  "language_info": {
   "codemirror_mode": {
    "name": "ipython",
    "version": 3
   },
   "file_extension": ".py",
   "mimetype": "text/x-python",
   "name": "python",
   "nbconvert_exporter": "python",
   "pygments_lexer": "ipython3",
   "version": "3.7.6"
  }
 },
 "nbformat": 4,
 "nbformat_minor": 4
}

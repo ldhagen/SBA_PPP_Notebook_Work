{
 "cells": [
  {
   "cell_type": "code",
   "execution_count": 1,
   "metadata": {},
   "outputs": [],
   "source": [
    "import pandas as pd\n",
    "import matplotlib.pyplot as plt\n",
    "import numpy as np\n",
    "import datetime\n",
    "%matplotlib inline"
   ]
  },
  {
   "cell_type": "code",
   "execution_count": 2,
   "metadata": {},
   "outputs": [
    {
     "ename": "FileNotFoundError",
     "evalue": "[Errno 2] File /mnt/c/Users/ldhag/Downloads/foia_up_to_150k_TX.csv does not exist: '/mnt/c/Users/ldhag/Downloads/foia_up_to_150k_TX.csv'",
     "output_type": "error",
     "traceback": [
      "\u001b[0;31m---------------------------------------------------------------------------\u001b[0m",
      "\u001b[0;31mFileNotFoundError\u001b[0m                         Traceback (most recent call last)",
      "\u001b[0;32m<ipython-input-2-7c4c80680ce1>\u001b[0m in \u001b[0;36m<module>\u001b[0;34m\u001b[0m\n\u001b[0;32m----> 1\u001b[0;31m \u001b[0mdf_Texas_small_SBA\u001b[0m \u001b[0;34m=\u001b[0m \u001b[0mpd\u001b[0m\u001b[0;34m.\u001b[0m\u001b[0mread_csv\u001b[0m\u001b[0;34m(\u001b[0m\u001b[0;34m'/mnt/c/Users/ldhag/Downloads/foia_up_to_150k_TX.csv'\u001b[0m\u001b[0;34m)\u001b[0m\u001b[0;34m\u001b[0m\u001b[0;34m\u001b[0m\u001b[0m\n\u001b[0m",
      "\u001b[0;32m~/.local/lib/python3.8/site-packages/pandas/io/parsers.py\u001b[0m in \u001b[0;36mparser_f\u001b[0;34m(filepath_or_buffer, sep, delimiter, header, names, index_col, usecols, squeeze, prefix, mangle_dupe_cols, dtype, engine, converters, true_values, false_values, skipinitialspace, skiprows, skipfooter, nrows, na_values, keep_default_na, na_filter, verbose, skip_blank_lines, parse_dates, infer_datetime_format, keep_date_col, date_parser, dayfirst, cache_dates, iterator, chunksize, compression, thousands, decimal, lineterminator, quotechar, quoting, doublequote, escapechar, comment, encoding, dialect, error_bad_lines, warn_bad_lines, delim_whitespace, low_memory, memory_map, float_precision)\u001b[0m\n\u001b[1;32m    674\u001b[0m         )\n\u001b[1;32m    675\u001b[0m \u001b[0;34m\u001b[0m\u001b[0m\n\u001b[0;32m--> 676\u001b[0;31m         \u001b[0;32mreturn\u001b[0m \u001b[0m_read\u001b[0m\u001b[0;34m(\u001b[0m\u001b[0mfilepath_or_buffer\u001b[0m\u001b[0;34m,\u001b[0m \u001b[0mkwds\u001b[0m\u001b[0;34m)\u001b[0m\u001b[0;34m\u001b[0m\u001b[0;34m\u001b[0m\u001b[0m\n\u001b[0m\u001b[1;32m    677\u001b[0m \u001b[0;34m\u001b[0m\u001b[0m\n\u001b[1;32m    678\u001b[0m     \u001b[0mparser_f\u001b[0m\u001b[0;34m.\u001b[0m\u001b[0m__name__\u001b[0m \u001b[0;34m=\u001b[0m \u001b[0mname\u001b[0m\u001b[0;34m\u001b[0m\u001b[0;34m\u001b[0m\u001b[0m\n",
      "\u001b[0;32m~/.local/lib/python3.8/site-packages/pandas/io/parsers.py\u001b[0m in \u001b[0;36m_read\u001b[0;34m(filepath_or_buffer, kwds)\u001b[0m\n\u001b[1;32m    446\u001b[0m \u001b[0;34m\u001b[0m\u001b[0m\n\u001b[1;32m    447\u001b[0m     \u001b[0;31m# Create the parser.\u001b[0m\u001b[0;34m\u001b[0m\u001b[0;34m\u001b[0m\u001b[0;34m\u001b[0m\u001b[0m\n\u001b[0;32m--> 448\u001b[0;31m     \u001b[0mparser\u001b[0m \u001b[0;34m=\u001b[0m \u001b[0mTextFileReader\u001b[0m\u001b[0;34m(\u001b[0m\u001b[0mfp_or_buf\u001b[0m\u001b[0;34m,\u001b[0m \u001b[0;34m**\u001b[0m\u001b[0mkwds\u001b[0m\u001b[0;34m)\u001b[0m\u001b[0;34m\u001b[0m\u001b[0;34m\u001b[0m\u001b[0m\n\u001b[0m\u001b[1;32m    449\u001b[0m \u001b[0;34m\u001b[0m\u001b[0m\n\u001b[1;32m    450\u001b[0m     \u001b[0;32mif\u001b[0m \u001b[0mchunksize\u001b[0m \u001b[0;32mor\u001b[0m \u001b[0miterator\u001b[0m\u001b[0;34m:\u001b[0m\u001b[0;34m\u001b[0m\u001b[0;34m\u001b[0m\u001b[0m\n",
      "\u001b[0;32m~/.local/lib/python3.8/site-packages/pandas/io/parsers.py\u001b[0m in \u001b[0;36m__init__\u001b[0;34m(self, f, engine, **kwds)\u001b[0m\n\u001b[1;32m    878\u001b[0m             \u001b[0mself\u001b[0m\u001b[0;34m.\u001b[0m\u001b[0moptions\u001b[0m\u001b[0;34m[\u001b[0m\u001b[0;34m\"has_index_names\"\u001b[0m\u001b[0;34m]\u001b[0m \u001b[0;34m=\u001b[0m \u001b[0mkwds\u001b[0m\u001b[0;34m[\u001b[0m\u001b[0;34m\"has_index_names\"\u001b[0m\u001b[0;34m]\u001b[0m\u001b[0;34m\u001b[0m\u001b[0;34m\u001b[0m\u001b[0m\n\u001b[1;32m    879\u001b[0m \u001b[0;34m\u001b[0m\u001b[0m\n\u001b[0;32m--> 880\u001b[0;31m         \u001b[0mself\u001b[0m\u001b[0;34m.\u001b[0m\u001b[0m_make_engine\u001b[0m\u001b[0;34m(\u001b[0m\u001b[0mself\u001b[0m\u001b[0;34m.\u001b[0m\u001b[0mengine\u001b[0m\u001b[0;34m)\u001b[0m\u001b[0;34m\u001b[0m\u001b[0;34m\u001b[0m\u001b[0m\n\u001b[0m\u001b[1;32m    881\u001b[0m \u001b[0;34m\u001b[0m\u001b[0m\n\u001b[1;32m    882\u001b[0m     \u001b[0;32mdef\u001b[0m \u001b[0mclose\u001b[0m\u001b[0;34m(\u001b[0m\u001b[0mself\u001b[0m\u001b[0;34m)\u001b[0m\u001b[0;34m:\u001b[0m\u001b[0;34m\u001b[0m\u001b[0;34m\u001b[0m\u001b[0m\n",
      "\u001b[0;32m~/.local/lib/python3.8/site-packages/pandas/io/parsers.py\u001b[0m in \u001b[0;36m_make_engine\u001b[0;34m(self, engine)\u001b[0m\n\u001b[1;32m   1112\u001b[0m     \u001b[0;32mdef\u001b[0m \u001b[0m_make_engine\u001b[0m\u001b[0;34m(\u001b[0m\u001b[0mself\u001b[0m\u001b[0;34m,\u001b[0m \u001b[0mengine\u001b[0m\u001b[0;34m=\u001b[0m\u001b[0;34m\"c\"\u001b[0m\u001b[0;34m)\u001b[0m\u001b[0;34m:\u001b[0m\u001b[0;34m\u001b[0m\u001b[0;34m\u001b[0m\u001b[0m\n\u001b[1;32m   1113\u001b[0m         \u001b[0;32mif\u001b[0m \u001b[0mengine\u001b[0m \u001b[0;34m==\u001b[0m \u001b[0;34m\"c\"\u001b[0m\u001b[0;34m:\u001b[0m\u001b[0;34m\u001b[0m\u001b[0;34m\u001b[0m\u001b[0m\n\u001b[0;32m-> 1114\u001b[0;31m             \u001b[0mself\u001b[0m\u001b[0;34m.\u001b[0m\u001b[0m_engine\u001b[0m \u001b[0;34m=\u001b[0m \u001b[0mCParserWrapper\u001b[0m\u001b[0;34m(\u001b[0m\u001b[0mself\u001b[0m\u001b[0;34m.\u001b[0m\u001b[0mf\u001b[0m\u001b[0;34m,\u001b[0m \u001b[0;34m**\u001b[0m\u001b[0mself\u001b[0m\u001b[0;34m.\u001b[0m\u001b[0moptions\u001b[0m\u001b[0;34m)\u001b[0m\u001b[0;34m\u001b[0m\u001b[0;34m\u001b[0m\u001b[0m\n\u001b[0m\u001b[1;32m   1115\u001b[0m         \u001b[0;32melse\u001b[0m\u001b[0;34m:\u001b[0m\u001b[0;34m\u001b[0m\u001b[0;34m\u001b[0m\u001b[0m\n\u001b[1;32m   1116\u001b[0m             \u001b[0;32mif\u001b[0m \u001b[0mengine\u001b[0m \u001b[0;34m==\u001b[0m \u001b[0;34m\"python\"\u001b[0m\u001b[0;34m:\u001b[0m\u001b[0;34m\u001b[0m\u001b[0;34m\u001b[0m\u001b[0m\n",
      "\u001b[0;32m~/.local/lib/python3.8/site-packages/pandas/io/parsers.py\u001b[0m in \u001b[0;36m__init__\u001b[0;34m(self, src, **kwds)\u001b[0m\n\u001b[1;32m   1889\u001b[0m         \u001b[0mkwds\u001b[0m\u001b[0;34m[\u001b[0m\u001b[0;34m\"usecols\"\u001b[0m\u001b[0;34m]\u001b[0m \u001b[0;34m=\u001b[0m \u001b[0mself\u001b[0m\u001b[0;34m.\u001b[0m\u001b[0musecols\u001b[0m\u001b[0;34m\u001b[0m\u001b[0;34m\u001b[0m\u001b[0m\n\u001b[1;32m   1890\u001b[0m \u001b[0;34m\u001b[0m\u001b[0m\n\u001b[0;32m-> 1891\u001b[0;31m         \u001b[0mself\u001b[0m\u001b[0;34m.\u001b[0m\u001b[0m_reader\u001b[0m \u001b[0;34m=\u001b[0m \u001b[0mparsers\u001b[0m\u001b[0;34m.\u001b[0m\u001b[0mTextReader\u001b[0m\u001b[0;34m(\u001b[0m\u001b[0msrc\u001b[0m\u001b[0;34m,\u001b[0m \u001b[0;34m**\u001b[0m\u001b[0mkwds\u001b[0m\u001b[0;34m)\u001b[0m\u001b[0;34m\u001b[0m\u001b[0;34m\u001b[0m\u001b[0m\n\u001b[0m\u001b[1;32m   1892\u001b[0m         \u001b[0mself\u001b[0m\u001b[0;34m.\u001b[0m\u001b[0munnamed_cols\u001b[0m \u001b[0;34m=\u001b[0m \u001b[0mself\u001b[0m\u001b[0;34m.\u001b[0m\u001b[0m_reader\u001b[0m\u001b[0;34m.\u001b[0m\u001b[0munnamed_cols\u001b[0m\u001b[0;34m\u001b[0m\u001b[0;34m\u001b[0m\u001b[0m\n\u001b[1;32m   1893\u001b[0m \u001b[0;34m\u001b[0m\u001b[0m\n",
      "\u001b[0;32mpandas/_libs/parsers.pyx\u001b[0m in \u001b[0;36mpandas._libs.parsers.TextReader.__cinit__\u001b[0;34m()\u001b[0m\n",
      "\u001b[0;32mpandas/_libs/parsers.pyx\u001b[0m in \u001b[0;36mpandas._libs.parsers.TextReader._setup_parser_source\u001b[0;34m()\u001b[0m\n",
      "\u001b[0;31mFileNotFoundError\u001b[0m: [Errno 2] File /mnt/c/Users/ldhag/Downloads/foia_up_to_150k_TX.csv does not exist: '/mnt/c/Users/ldhag/Downloads/foia_up_to_150k_TX.csv'"
     ]
    }
   ],
   "source": [
    "df_Texas_small_SBA = pd.read_csv('/mnt/c/Users/ldhag/Downloads/foia_up_to_150k_TX.csv')"
   ]
  },
  {
   "cell_type": "code",
   "execution_count": 3,
   "metadata": {},
   "outputs": [],
   "source": [
    "a = df_Texas_small_SBA"
   ]
  },
  {
   "cell_type": "code",
   "execution_count": 4,
   "metadata": {},
   "outputs": [
    {
     "data": {
      "text/plain": [
       "337237"
      ]
     },
     "execution_count": 4,
     "metadata": {},
     "output_type": "execute_result"
    }
   ],
   "source": [
    "len(a)"
   ]
  },
  {
   "cell_type": "code",
   "execution_count": 5,
   "metadata": {},
   "outputs": [],
   "source": [
    "df_Texas_big_SBA = pd.read_csv('/mnt/c/Users/ldhag/Downloads/foia_150k_plus.csv')"
   ]
  },
  {
   "cell_type": "code",
   "execution_count": 6,
   "metadata": {},
   "outputs": [],
   "source": [
    "b = df_Texas_big_SBA"
   ]
  },
  {
   "cell_type": "code",
   "execution_count": 7,
   "metadata": {},
   "outputs": [
    {
     "data": {
      "text/plain": [
       "337237"
      ]
     },
     "execution_count": 7,
     "metadata": {},
     "output_type": "execute_result"
    }
   ],
   "source": [
    "len(a)"
   ]
  },
  {
   "cell_type": "code",
   "execution_count": 8,
   "metadata": {},
   "outputs": [
    {
     "data": {
      "text/plain": [
       "661218"
      ]
     },
     "execution_count": 8,
     "metadata": {},
     "output_type": "execute_result"
    }
   ],
   "source": [
    "len(b)"
   ]
  },
  {
   "cell_type": "code",
   "execution_count": 9,
   "metadata": {},
   "outputs": [],
   "source": [
    "df_big_sa = b[b['City'] == 'SAN ANTONIO' ]"
   ]
  },
  {
   "cell_type": "code",
   "execution_count": 10,
   "metadata": {},
   "outputs": [
    {
     "data": {
      "text/html": [
       "<div>\n",
       "<style scoped>\n",
       "    .dataframe tbody tr th:only-of-type {\n",
       "        vertical-align: middle;\n",
       "    }\n",
       "\n",
       "    .dataframe tbody tr th {\n",
       "        vertical-align: top;\n",
       "    }\n",
       "\n",
       "    .dataframe thead th {\n",
       "        text-align: right;\n",
       "    }\n",
       "</style>\n",
       "<table border=\"1\" class=\"dataframe\">\n",
       "  <thead>\n",
       "    <tr style=\"text-align: right;\">\n",
       "      <th></th>\n",
       "      <th>LoanRange</th>\n",
       "      <th>BusinessName</th>\n",
       "      <th>Address</th>\n",
       "      <th>City</th>\n",
       "      <th>State</th>\n",
       "      <th>Zip</th>\n",
       "      <th>NAICSCode</th>\n",
       "      <th>BusinessType</th>\n",
       "      <th>RaceEthnicity</th>\n",
       "      <th>Gender</th>\n",
       "      <th>Veteran</th>\n",
       "      <th>NonProfit</th>\n",
       "      <th>JobsRetained</th>\n",
       "      <th>DateApproved</th>\n",
       "      <th>Lender</th>\n",
       "      <th>CD</th>\n",
       "    </tr>\n",
       "  </thead>\n",
       "  <tbody>\n",
       "    <tr>\n",
       "      <th>144048</th>\n",
       "      <td>d $350,000-1 million</td>\n",
       "      <td>A&amp;AMP;G ELECTRICAL TECHNOLOGIES</td>\n",
       "      <td>11638 Corporate Lake Blvd</td>\n",
       "      <td>SAN ANTONIO</td>\n",
       "      <td>FL</td>\n",
       "      <td>33576.0</td>\n",
       "      <td>221118.0</td>\n",
       "      <td>Subchapter S Corporation</td>\n",
       "      <td>Unanswered</td>\n",
       "      <td>Unanswered</td>\n",
       "      <td>Unanswered</td>\n",
       "      <td>NaN</td>\n",
       "      <td>0.0</td>\n",
       "      <td>05/03/2020</td>\n",
       "      <td>Regions Bank</td>\n",
       "      <td>FL - 12</td>\n",
       "    </tr>\n",
       "    <tr>\n",
       "      <th>145748</th>\n",
       "      <td>d $350,000-1 million</td>\n",
       "      <td>BUSCH MFG., INC.</td>\n",
       "      <td>30241 Commerce Dr</td>\n",
       "      <td>SAN ANTONIO</td>\n",
       "      <td>FL</td>\n",
       "      <td>33576.0</td>\n",
       "      <td>325520.0</td>\n",
       "      <td>Subchapter S Corporation</td>\n",
       "      <td>Unanswered</td>\n",
       "      <td>Unanswered</td>\n",
       "      <td>Unanswered</td>\n",
       "      <td>NaN</td>\n",
       "      <td>10.0</td>\n",
       "      <td>04/30/2020</td>\n",
       "      <td>Truist Bank d/b/a Branch Banking &amp; Trust Co</td>\n",
       "      <td>FL - 12</td>\n",
       "    </tr>\n",
       "    <tr>\n",
       "      <th>162377</th>\n",
       "      <td>e $150,000-350,000</td>\n",
       "      <td>DC JOHNSON &amp; ASSOCIATES INC.</td>\n",
       "      <td>11911 Curley Street</td>\n",
       "      <td>SAN ANTONIO</td>\n",
       "      <td>FL</td>\n",
       "      <td>33576.0</td>\n",
       "      <td>541370.0</td>\n",
       "      <td>Corporation</td>\n",
       "      <td>Unanswered</td>\n",
       "      <td>Unanswered</td>\n",
       "      <td>Unanswered</td>\n",
       "      <td>NaN</td>\n",
       "      <td>20.0</td>\n",
       "      <td>04/14/2020</td>\n",
       "      <td>San Antonio Citizens FCU</td>\n",
       "      <td>FL - 12</td>\n",
       "    </tr>\n",
       "    <tr>\n",
       "      <th>163104</th>\n",
       "      <td>e $150,000-350,000</td>\n",
       "      <td>DUNRITE CONSTRUCTION SERVICES, INC.</td>\n",
       "      <td>12412 Curley St.</td>\n",
       "      <td>SAN ANTONIO</td>\n",
       "      <td>FL</td>\n",
       "      <td>33576.0</td>\n",
       "      <td>236220.0</td>\n",
       "      <td>Corporation</td>\n",
       "      <td>Unanswered</td>\n",
       "      <td>Unanswered</td>\n",
       "      <td>Unanswered</td>\n",
       "      <td>NaN</td>\n",
       "      <td>19.0</td>\n",
       "      <td>04/14/2020</td>\n",
       "      <td>Central Bank</td>\n",
       "      <td>FL - 12</td>\n",
       "    </tr>\n",
       "    <tr>\n",
       "      <th>164003</th>\n",
       "      <td>e $150,000-350,000</td>\n",
       "      <td>EXSYS TOOL, INC.</td>\n",
       "      <td>11654 CORPORATE LAKE BLVD</td>\n",
       "      <td>SAN ANTONIO</td>\n",
       "      <td>FL</td>\n",
       "      <td>33576.0</td>\n",
       "      <td>332710.0</td>\n",
       "      <td>Corporation</td>\n",
       "      <td>Unanswered</td>\n",
       "      <td>Unanswered</td>\n",
       "      <td>Unanswered</td>\n",
       "      <td>NaN</td>\n",
       "      <td>20.0</td>\n",
       "      <td>04/13/2020</td>\n",
       "      <td>The Bank of Tampa</td>\n",
       "      <td>FL - 12</td>\n",
       "    </tr>\n",
       "    <tr>\n",
       "      <th>...</th>\n",
       "      <td>...</td>\n",
       "      <td>...</td>\n",
       "      <td>...</td>\n",
       "      <td>...</td>\n",
       "      <td>...</td>\n",
       "      <td>...</td>\n",
       "      <td>...</td>\n",
       "      <td>...</td>\n",
       "      <td>...</td>\n",
       "      <td>...</td>\n",
       "      <td>...</td>\n",
       "      <td>...</td>\n",
       "      <td>...</td>\n",
       "      <td>...</td>\n",
       "      <td>...</td>\n",
       "      <td>...</td>\n",
       "    </tr>\n",
       "    <tr>\n",
       "      <th>604599</th>\n",
       "      <td>e $150,000-350,000</td>\n",
       "      <td>Z EMPLOYMENT LLC</td>\n",
       "      <td>1723 LOOP 1604 STE 211</td>\n",
       "      <td>SAN ANTONIO</td>\n",
       "      <td>TX</td>\n",
       "      <td>78232.0</td>\n",
       "      <td>541611.0</td>\n",
       "      <td>Limited  Liability Company(LLC)</td>\n",
       "      <td>Hispanic</td>\n",
       "      <td>Male Owned</td>\n",
       "      <td>Non-Veteran</td>\n",
       "      <td>NaN</td>\n",
       "      <td>20.0</td>\n",
       "      <td>04/30/2020</td>\n",
       "      <td>Lone Star National Bank</td>\n",
       "      <td>TX - 21</td>\n",
       "    </tr>\n",
       "    <tr>\n",
       "      <th>604605</th>\n",
       "      <td>e $150,000-350,000</td>\n",
       "      <td>ZACCA CONSTRUCTION, LLC</td>\n",
       "      <td>406 NW 39TH ST</td>\n",
       "      <td>SAN ANTONIO</td>\n",
       "      <td>TX</td>\n",
       "      <td>78237.0</td>\n",
       "      <td>237310.0</td>\n",
       "      <td>Subchapter S Corporation</td>\n",
       "      <td>Unanswered</td>\n",
       "      <td>Unanswered</td>\n",
       "      <td>Unanswered</td>\n",
       "      <td>NaN</td>\n",
       "      <td>30.0</td>\n",
       "      <td>04/15/2020</td>\n",
       "      <td>Third Coast Bank SSB</td>\n",
       "      <td>TX - 20</td>\n",
       "    </tr>\n",
       "    <tr>\n",
       "      <th>604630</th>\n",
       "      <td>e $150,000-350,000</td>\n",
       "      <td>ZEDRIC'S LLC</td>\n",
       "      <td>9873 IH-10 WEST</td>\n",
       "      <td>SAN ANTONIO</td>\n",
       "      <td>TX</td>\n",
       "      <td>78230.0</td>\n",
       "      <td>722511.0</td>\n",
       "      <td>Corporation</td>\n",
       "      <td>White</td>\n",
       "      <td>Male Owned</td>\n",
       "      <td>Non-Veteran</td>\n",
       "      <td>NaN</td>\n",
       "      <td>38.0</td>\n",
       "      <td>04/11/2020</td>\n",
       "      <td>The Bank of San Antonio</td>\n",
       "      <td>TX - 20</td>\n",
       "    </tr>\n",
       "    <tr>\n",
       "      <th>604700</th>\n",
       "      <td>e $150,000-350,000</td>\n",
       "      <td>ZULA PARTNERSHIP</td>\n",
       "      <td>11919 RAIL DR</td>\n",
       "      <td>SAN ANTONIO</td>\n",
       "      <td>TX</td>\n",
       "      <td>78233.0</td>\n",
       "      <td>561790.0</td>\n",
       "      <td>Limited  Liability Company(LLC)</td>\n",
       "      <td>Unanswered</td>\n",
       "      <td>Unanswered</td>\n",
       "      <td>Unanswered</td>\n",
       "      <td>NaN</td>\n",
       "      <td>26.0</td>\n",
       "      <td>04/09/2020</td>\n",
       "      <td>Frost Bank</td>\n",
       "      <td>TX - 28</td>\n",
       "    </tr>\n",
       "    <tr>\n",
       "      <th>604703</th>\n",
       "      <td>e $150,000-350,000</td>\n",
       "      <td>ZURICH INTERNATIONAL PROPERTIES, INC.</td>\n",
       "      <td>118 BROADWAY ST</td>\n",
       "      <td>SAN ANTONIO</td>\n",
       "      <td>TX</td>\n",
       "      <td>78205.0</td>\n",
       "      <td>531312.0</td>\n",
       "      <td>Corporation</td>\n",
       "      <td>Unanswered</td>\n",
       "      <td>Male Owned</td>\n",
       "      <td>Unanswered</td>\n",
       "      <td>NaN</td>\n",
       "      <td>18.0</td>\n",
       "      <td>04/14/2020</td>\n",
       "      <td>Vantage Bank Texas</td>\n",
       "      <td>TX - 23</td>\n",
       "    </tr>\n",
       "  </tbody>\n",
       "</table>\n",
       "<p>2895 rows × 16 columns</p>\n",
       "</div>"
      ],
      "text/plain": [
       "                   LoanRange                           BusinessName  \\\n",
       "144048  d $350,000-1 million        A&AMP;G ELECTRICAL TECHNOLOGIES   \n",
       "145748  d $350,000-1 million                       BUSCH MFG., INC.   \n",
       "162377    e $150,000-350,000           DC JOHNSON & ASSOCIATES INC.   \n",
       "163104    e $150,000-350,000    DUNRITE CONSTRUCTION SERVICES, INC.   \n",
       "164003    e $150,000-350,000                       EXSYS TOOL, INC.   \n",
       "...                      ...                                    ...   \n",
       "604599    e $150,000-350,000                       Z EMPLOYMENT LLC   \n",
       "604605    e $150,000-350,000                ZACCA CONSTRUCTION, LLC   \n",
       "604630    e $150,000-350,000                           ZEDRIC'S LLC   \n",
       "604700    e $150,000-350,000                       ZULA PARTNERSHIP   \n",
       "604703    e $150,000-350,000  ZURICH INTERNATIONAL PROPERTIES, INC.   \n",
       "\n",
       "                          Address         City State      Zip  NAICSCode  \\\n",
       "144048  11638 Corporate Lake Blvd  SAN ANTONIO    FL  33576.0   221118.0   \n",
       "145748          30241 Commerce Dr  SAN ANTONIO    FL  33576.0   325520.0   \n",
       "162377        11911 Curley Street  SAN ANTONIO    FL  33576.0   541370.0   \n",
       "163104           12412 Curley St.  SAN ANTONIO    FL  33576.0   236220.0   \n",
       "164003  11654 CORPORATE LAKE BLVD  SAN ANTONIO    FL  33576.0   332710.0   \n",
       "...                           ...          ...   ...      ...        ...   \n",
       "604599     1723 LOOP 1604 STE 211  SAN ANTONIO    TX  78232.0   541611.0   \n",
       "604605             406 NW 39TH ST  SAN ANTONIO    TX  78237.0   237310.0   \n",
       "604630            9873 IH-10 WEST  SAN ANTONIO    TX  78230.0   722511.0   \n",
       "604700              11919 RAIL DR  SAN ANTONIO    TX  78233.0   561790.0   \n",
       "604703            118 BROADWAY ST  SAN ANTONIO    TX  78205.0   531312.0   \n",
       "\n",
       "                           BusinessType RaceEthnicity      Gender  \\\n",
       "144048         Subchapter S Corporation    Unanswered  Unanswered   \n",
       "145748         Subchapter S Corporation    Unanswered  Unanswered   \n",
       "162377                      Corporation    Unanswered  Unanswered   \n",
       "163104                      Corporation    Unanswered  Unanswered   \n",
       "164003                      Corporation    Unanswered  Unanswered   \n",
       "...                                 ...           ...         ...   \n",
       "604599  Limited  Liability Company(LLC)      Hispanic  Male Owned   \n",
       "604605         Subchapter S Corporation    Unanswered  Unanswered   \n",
       "604630                      Corporation         White  Male Owned   \n",
       "604700  Limited  Liability Company(LLC)    Unanswered  Unanswered   \n",
       "604703                      Corporation    Unanswered  Male Owned   \n",
       "\n",
       "            Veteran NonProfit  JobsRetained DateApproved  \\\n",
       "144048   Unanswered       NaN           0.0   05/03/2020   \n",
       "145748   Unanswered       NaN          10.0   04/30/2020   \n",
       "162377   Unanswered       NaN          20.0   04/14/2020   \n",
       "163104   Unanswered       NaN          19.0   04/14/2020   \n",
       "164003   Unanswered       NaN          20.0   04/13/2020   \n",
       "...             ...       ...           ...          ...   \n",
       "604599  Non-Veteran       NaN          20.0   04/30/2020   \n",
       "604605   Unanswered       NaN          30.0   04/15/2020   \n",
       "604630  Non-Veteran       NaN          38.0   04/11/2020   \n",
       "604700   Unanswered       NaN          26.0   04/09/2020   \n",
       "604703   Unanswered       NaN          18.0   04/14/2020   \n",
       "\n",
       "                                             Lender       CD  \n",
       "144048                                 Regions Bank  FL - 12  \n",
       "145748  Truist Bank d/b/a Branch Banking & Trust Co  FL - 12  \n",
       "162377                     San Antonio Citizens FCU  FL - 12  \n",
       "163104                                 Central Bank  FL - 12  \n",
       "164003                            The Bank of Tampa  FL - 12  \n",
       "...                                             ...      ...  \n",
       "604599                      Lone Star National Bank  TX - 21  \n",
       "604605                         Third Coast Bank SSB  TX - 20  \n",
       "604630                      The Bank of San Antonio  TX - 20  \n",
       "604700                                   Frost Bank  TX - 28  \n",
       "604703                           Vantage Bank Texas  TX - 23  \n",
       "\n",
       "[2895 rows x 16 columns]"
      ]
     },
     "execution_count": 10,
     "metadata": {},
     "output_type": "execute_result"
    }
   ],
   "source": [
    "df_big_sa"
   ]
  },
  {
   "cell_type": "code",
   "execution_count": 11,
   "metadata": {},
   "outputs": [
    {
     "data": {
      "text/html": [
       "<div>\n",
       "<style scoped>\n",
       "    .dataframe tbody tr th:only-of-type {\n",
       "        vertical-align: middle;\n",
       "    }\n",
       "\n",
       "    .dataframe tbody tr th {\n",
       "        vertical-align: top;\n",
       "    }\n",
       "\n",
       "    .dataframe thead th {\n",
       "        text-align: right;\n",
       "    }\n",
       "</style>\n",
       "<table border=\"1\" class=\"dataframe\">\n",
       "  <thead>\n",
       "    <tr style=\"text-align: right;\">\n",
       "      <th></th>\n",
       "      <th>LoanRange</th>\n",
       "      <th>BusinessName</th>\n",
       "      <th>Address</th>\n",
       "      <th>City</th>\n",
       "      <th>State</th>\n",
       "      <th>Zip</th>\n",
       "      <th>NAICSCode</th>\n",
       "      <th>BusinessType</th>\n",
       "      <th>RaceEthnicity</th>\n",
       "      <th>Gender</th>\n",
       "      <th>Veteran</th>\n",
       "      <th>NonProfit</th>\n",
       "      <th>JobsRetained</th>\n",
       "      <th>DateApproved</th>\n",
       "      <th>Lender</th>\n",
       "      <th>CD</th>\n",
       "    </tr>\n",
       "  </thead>\n",
       "  <tbody>\n",
       "    <tr>\n",
       "      <th>552765</th>\n",
       "      <td>a $5-10 million</td>\n",
       "      <td>MISSION PHARMACAL COMPANY</td>\n",
       "      <td>10999 INTERSTATE 10 West Suite 1000</td>\n",
       "      <td>SAN ANTONIO</td>\n",
       "      <td>TX</td>\n",
       "      <td>78230.0</td>\n",
       "      <td>325412.0</td>\n",
       "      <td>Corporation</td>\n",
       "      <td>Unanswered</td>\n",
       "      <td>Male Owned</td>\n",
       "      <td>Unanswered</td>\n",
       "      <td>NaN</td>\n",
       "      <td>125.0</td>\n",
       "      <td>04/07/2020</td>\n",
       "      <td>Broadway National Bank</td>\n",
       "      <td>TX - 20</td>\n",
       "    </tr>\n",
       "    <tr>\n",
       "      <th>552868</th>\n",
       "      <td>a $5-10 million</td>\n",
       "      <td>STAGG RESTAURANTS, LLC</td>\n",
       "      <td>8507 Speedway</td>\n",
       "      <td>SAN ANTONIO</td>\n",
       "      <td>TX</td>\n",
       "      <td>78230.0</td>\n",
       "      <td>722513.0</td>\n",
       "      <td>Limited  Liability Company(LLC)</td>\n",
       "      <td>Unanswered</td>\n",
       "      <td>Unanswered</td>\n",
       "      <td>Unanswered</td>\n",
       "      <td>NaN</td>\n",
       "      <td>NaN</td>\n",
       "      <td>04/14/2020</td>\n",
       "      <td>Citizens Bank, National Association</td>\n",
       "      <td>TX - 20</td>\n",
       "    </tr>\n",
       "    <tr>\n",
       "      <th>554230</th>\n",
       "      <td>b $2-5 million</td>\n",
       "      <td>PHYSICIAN PRIME CARE MANAGEMENT LTD</td>\n",
       "      <td>2961 MOSSROCK</td>\n",
       "      <td>SAN ANTONIO</td>\n",
       "      <td>TX</td>\n",
       "      <td>78230.0</td>\n",
       "      <td>621399.0</td>\n",
       "      <td>Limited Liability Partnership</td>\n",
       "      <td>Unanswered</td>\n",
       "      <td>Unanswered</td>\n",
       "      <td>Unanswered</td>\n",
       "      <td>NaN</td>\n",
       "      <td>200.0</td>\n",
       "      <td>04/15/2020</td>\n",
       "      <td>Cadence Bank, National Association</td>\n",
       "      <td>TX - 20</td>\n",
       "    </tr>\n",
       "    <tr>\n",
       "      <th>554886</th>\n",
       "      <td>c $1-2 million</td>\n",
       "      <td>ABILITY HOMECARE INC</td>\n",
       "      <td>10609 INTERSTATE 10 West #105</td>\n",
       "      <td>SAN ANTONIO</td>\n",
       "      <td>TX</td>\n",
       "      <td>78230.0</td>\n",
       "      <td>621111.0</td>\n",
       "      <td>Corporation</td>\n",
       "      <td>White</td>\n",
       "      <td>Female Owned</td>\n",
       "      <td>Non-Veteran</td>\n",
       "      <td>NaN</td>\n",
       "      <td>299.0</td>\n",
       "      <td>04/15/2020</td>\n",
       "      <td>BBVA USA</td>\n",
       "      <td>TX - 20</td>\n",
       "    </tr>\n",
       "    <tr>\n",
       "      <th>555067</th>\n",
       "      <td>c $1-2 million</td>\n",
       "      <td>ANCIRA MOTOR COMPANY</td>\n",
       "      <td>10807 INTERSTATE 10 W</td>\n",
       "      <td>SAN ANTONIO</td>\n",
       "      <td>TX</td>\n",
       "      <td>78230.0</td>\n",
       "      <td>441110.0</td>\n",
       "      <td>Corporation</td>\n",
       "      <td>Unanswered</td>\n",
       "      <td>Unanswered</td>\n",
       "      <td>Unanswered</td>\n",
       "      <td>NaN</td>\n",
       "      <td>137.0</td>\n",
       "      <td>04/08/2020</td>\n",
       "      <td>Jefferson Bank</td>\n",
       "      <td>TX - 20</td>\n",
       "    </tr>\n",
       "    <tr>\n",
       "      <th>...</th>\n",
       "      <td>...</td>\n",
       "      <td>...</td>\n",
       "      <td>...</td>\n",
       "      <td>...</td>\n",
       "      <td>...</td>\n",
       "      <td>...</td>\n",
       "      <td>...</td>\n",
       "      <td>...</td>\n",
       "      <td>...</td>\n",
       "      <td>...</td>\n",
       "      <td>...</td>\n",
       "      <td>...</td>\n",
       "      <td>...</td>\n",
       "      <td>...</td>\n",
       "      <td>...</td>\n",
       "      <td>...</td>\n",
       "    </tr>\n",
       "    <tr>\n",
       "      <th>603192</th>\n",
       "      <td>e $150,000-350,000</td>\n",
       "      <td>VERACITY PROFESSIONAL SERVICES GROUP, LLC</td>\n",
       "      <td>8000 INTERSTATE 10 W SUITE 600</td>\n",
       "      <td>SAN ANTONIO</td>\n",
       "      <td>TX</td>\n",
       "      <td>78230.0</td>\n",
       "      <td>561330.0</td>\n",
       "      <td>Limited  Liability Company(LLC)</td>\n",
       "      <td>Unanswered</td>\n",
       "      <td>Unanswered</td>\n",
       "      <td>Unanswered</td>\n",
       "      <td>NaN</td>\n",
       "      <td>60.0</td>\n",
       "      <td>04/13/2020</td>\n",
       "      <td>Frost Bank</td>\n",
       "      <td>TX - 20</td>\n",
       "    </tr>\n",
       "    <tr>\n",
       "      <th>603629</th>\n",
       "      <td>e $150,000-350,000</td>\n",
       "      <td>WARTHOG, INC.</td>\n",
       "      <td>336 Box Oak</td>\n",
       "      <td>SHAVANO PARK</td>\n",
       "      <td>TX</td>\n",
       "      <td>78230.0</td>\n",
       "      <td>492210.0</td>\n",
       "      <td>Corporation</td>\n",
       "      <td>Unanswered</td>\n",
       "      <td>Unanswered</td>\n",
       "      <td>Unanswered</td>\n",
       "      <td>NaN</td>\n",
       "      <td>35.0</td>\n",
       "      <td>04/30/2020</td>\n",
       "      <td>Randolph-Brooks FCU</td>\n",
       "      <td>TX - 20</td>\n",
       "    </tr>\n",
       "    <tr>\n",
       "      <th>604514</th>\n",
       "      <td>e $150,000-350,000</td>\n",
       "      <td>YAM YAM, LP</td>\n",
       "      <td>12780 W INTERSTATE 10</td>\n",
       "      <td>SAN ANTONIO</td>\n",
       "      <td>TX</td>\n",
       "      <td>78230.0</td>\n",
       "      <td>722511.0</td>\n",
       "      <td>Limited Liability Partnership</td>\n",
       "      <td>Unanswered</td>\n",
       "      <td>Unanswered</td>\n",
       "      <td>Unanswered</td>\n",
       "      <td>NaN</td>\n",
       "      <td>47.0</td>\n",
       "      <td>04/15/2020</td>\n",
       "      <td>City Bank</td>\n",
       "      <td>TX - 20</td>\n",
       "    </tr>\n",
       "    <tr>\n",
       "      <th>604630</th>\n",
       "      <td>e $150,000-350,000</td>\n",
       "      <td>ZEDRIC'S LLC</td>\n",
       "      <td>9873 IH-10 WEST</td>\n",
       "      <td>SAN ANTONIO</td>\n",
       "      <td>TX</td>\n",
       "      <td>78230.0</td>\n",
       "      <td>722511.0</td>\n",
       "      <td>Corporation</td>\n",
       "      <td>White</td>\n",
       "      <td>Male Owned</td>\n",
       "      <td>Non-Veteran</td>\n",
       "      <td>NaN</td>\n",
       "      <td>38.0</td>\n",
       "      <td>04/11/2020</td>\n",
       "      <td>The Bank of San Antonio</td>\n",
       "      <td>TX - 20</td>\n",
       "    </tr>\n",
       "    <tr>\n",
       "      <th>604705</th>\n",
       "      <td>e $150,000-350,000</td>\n",
       "      <td>ZWIL, INC.</td>\n",
       "      <td>336 Box Oak</td>\n",
       "      <td>SHAVANO PARK</td>\n",
       "      <td>TX</td>\n",
       "      <td>78230.0</td>\n",
       "      <td>492210.0</td>\n",
       "      <td>Corporation</td>\n",
       "      <td>Unanswered</td>\n",
       "      <td>Unanswered</td>\n",
       "      <td>Unanswered</td>\n",
       "      <td>NaN</td>\n",
       "      <td>17.0</td>\n",
       "      <td>04/30/2020</td>\n",
       "      <td>Randolph-Brooks FCU</td>\n",
       "      <td>TX - 20</td>\n",
       "    </tr>\n",
       "  </tbody>\n",
       "</table>\n",
       "<p>130 rows × 16 columns</p>\n",
       "</div>"
      ],
      "text/plain": [
       "                 LoanRange                               BusinessName  \\\n",
       "552765     a $5-10 million                  MISSION PHARMACAL COMPANY   \n",
       "552868     a $5-10 million                     STAGG RESTAURANTS, LLC   \n",
       "554230      b $2-5 million        PHYSICIAN PRIME CARE MANAGEMENT LTD   \n",
       "554886      c $1-2 million                       ABILITY HOMECARE INC   \n",
       "555067      c $1-2 million                       ANCIRA MOTOR COMPANY   \n",
       "...                    ...                                        ...   \n",
       "603192  e $150,000-350,000  VERACITY PROFESSIONAL SERVICES GROUP, LLC   \n",
       "603629  e $150,000-350,000                              WARTHOG, INC.   \n",
       "604514  e $150,000-350,000                                YAM YAM, LP   \n",
       "604630  e $150,000-350,000                               ZEDRIC'S LLC   \n",
       "604705  e $150,000-350,000                                 ZWIL, INC.   \n",
       "\n",
       "                                    Address          City State      Zip  \\\n",
       "552765  10999 INTERSTATE 10 West Suite 1000   SAN ANTONIO    TX  78230.0   \n",
       "552868                        8507 Speedway   SAN ANTONIO    TX  78230.0   \n",
       "554230                        2961 MOSSROCK   SAN ANTONIO    TX  78230.0   \n",
       "554886        10609 INTERSTATE 10 West #105   SAN ANTONIO    TX  78230.0   \n",
       "555067                10807 INTERSTATE 10 W   SAN ANTONIO    TX  78230.0   \n",
       "...                                     ...           ...   ...      ...   \n",
       "603192       8000 INTERSTATE 10 W SUITE 600   SAN ANTONIO    TX  78230.0   \n",
       "603629                          336 Box Oak  SHAVANO PARK    TX  78230.0   \n",
       "604514                12780 W INTERSTATE 10   SAN ANTONIO    TX  78230.0   \n",
       "604630                      9873 IH-10 WEST   SAN ANTONIO    TX  78230.0   \n",
       "604705                          336 Box Oak  SHAVANO PARK    TX  78230.0   \n",
       "\n",
       "        NAICSCode                     BusinessType RaceEthnicity  \\\n",
       "552765   325412.0                      Corporation    Unanswered   \n",
       "552868   722513.0  Limited  Liability Company(LLC)    Unanswered   \n",
       "554230   621399.0    Limited Liability Partnership    Unanswered   \n",
       "554886   621111.0                      Corporation         White   \n",
       "555067   441110.0                      Corporation    Unanswered   \n",
       "...           ...                              ...           ...   \n",
       "603192   561330.0  Limited  Liability Company(LLC)    Unanswered   \n",
       "603629   492210.0                      Corporation    Unanswered   \n",
       "604514   722511.0    Limited Liability Partnership    Unanswered   \n",
       "604630   722511.0                      Corporation         White   \n",
       "604705   492210.0                      Corporation    Unanswered   \n",
       "\n",
       "              Gender      Veteran NonProfit  JobsRetained DateApproved  \\\n",
       "552765    Male Owned   Unanswered       NaN         125.0   04/07/2020   \n",
       "552868    Unanswered   Unanswered       NaN           NaN   04/14/2020   \n",
       "554230    Unanswered   Unanswered       NaN         200.0   04/15/2020   \n",
       "554886  Female Owned  Non-Veteran       NaN         299.0   04/15/2020   \n",
       "555067    Unanswered   Unanswered       NaN         137.0   04/08/2020   \n",
       "...              ...          ...       ...           ...          ...   \n",
       "603192    Unanswered   Unanswered       NaN          60.0   04/13/2020   \n",
       "603629    Unanswered   Unanswered       NaN          35.0   04/30/2020   \n",
       "604514    Unanswered   Unanswered       NaN          47.0   04/15/2020   \n",
       "604630    Male Owned  Non-Veteran       NaN          38.0   04/11/2020   \n",
       "604705    Unanswered   Unanswered       NaN          17.0   04/30/2020   \n",
       "\n",
       "                                     Lender       CD  \n",
       "552765               Broadway National Bank  TX - 20  \n",
       "552868  Citizens Bank, National Association  TX - 20  \n",
       "554230   Cadence Bank, National Association  TX - 20  \n",
       "554886                             BBVA USA  TX - 20  \n",
       "555067                       Jefferson Bank  TX - 20  \n",
       "...                                     ...      ...  \n",
       "603192                           Frost Bank  TX - 20  \n",
       "603629                  Randolph-Brooks FCU  TX - 20  \n",
       "604514                            City Bank  TX - 20  \n",
       "604630              The Bank of San Antonio  TX - 20  \n",
       "604705                  Randolph-Brooks FCU  TX - 20  \n",
       "\n",
       "[130 rows x 16 columns]"
      ]
     },
     "execution_count": 11,
     "metadata": {},
     "output_type": "execute_result"
    }
   ],
   "source": [
    "b[b['Zip'] == 78230.0 ]"
   ]
  },
  {
   "cell_type": "code",
   "execution_count": 12,
   "metadata": {},
   "outputs": [
    {
     "data": {
      "text/plain": [
       "661218"
      ]
     },
     "execution_count": 12,
     "metadata": {},
     "output_type": "execute_result"
    }
   ],
   "source": [
    "len(b)"
   ]
  },
  {
   "cell_type": "code",
   "execution_count": 13,
   "metadata": {},
   "outputs": [],
   "source": [
    "x = df_big_sa[df_big_sa['JobsRetained'] == 1]"
   ]
  },
  {
   "cell_type": "code",
   "execution_count": 14,
   "metadata": {},
   "outputs": [
    {
     "data": {
      "text/plain": [
       "13"
      ]
     },
     "execution_count": 14,
     "metadata": {},
     "output_type": "execute_result"
    }
   ],
   "source": [
    "len(x)"
   ]
  },
  {
   "cell_type": "code",
   "execution_count": 15,
   "metadata": {},
   "outputs": [
    {
     "name": "stdout",
     "output_type": "stream",
     "text": [
      "                   LoanRange                                BusinessName  \\\n",
      "553505        b $2-5 million  EN SU CASA PRIMARY HOME CARE SERVICE, INC.   \n",
      "555768        c $1-2 million                         CTX RESTAURANTS INC   \n",
      "555833        c $1-2 million                              DAVIS LAW FIRM   \n",
      "565695  d $350,000-1 million             IGEM COMMUNICATIONS HOLDING INC   \n",
      "568917  d $350,000-1 million                   PACIFIC SHORE HOLDING INC   \n",
      "576445    e $150,000-350,000        ANDERSON MACHINERY SAN ANTONIO, INC.   \n",
      "578844    e $150,000-350,000                             BROUSSARD GROUP   \n",
      "579664    e $150,000-350,000                      CASEY D. TABER, MD, PA   \n",
      "583792    e $150,000-350,000                                 ESTIA, INC.   \n",
      "584820    e $150,000-350,000                     FOURW RESTAURANTS, INC.   \n",
      "587197    e $150,000-350,000              HORIZON TELEPHONE SYSTEMS, INC   \n",
      "594198    e $150,000-350,000                                 OVEANA, LLC   \n",
      "594719    e $150,000-350,000                      PEDIATRIC MEDICINE P A   \n",
      "\n",
      "                               Address         City State      Zip  NAICSCode  \\\n",
      "553505                 401 S. PRESA ST  SAN ANTONIO    TX  78205.0   621610.0   \n",
      "555768        4940 BROADWAY ST Ste 240  SAN ANTONIO    TX  78209.0   722513.0   \n",
      "555833     10500 Heritage BLVD Ste 200  SAN ANTONIO    TX  78216.0   541110.0   \n",
      "565695       1870 W Bitters Rd Ste 103  SAN ANTONIO    TX  78248.0   517911.0   \n",
      "568917      11530 JONES MALTSBERGER RD  SAN ANTONIO    TX  78216.0   423320.0   \n",
      "576445              9415 N.E. Loop 410  SAN ANTONIO    TX  78219.0   532412.0   \n",
      "578844  4985 Eisenhauer Road Suite 103  SAN ANTONIO    TX  78218.0   423210.0   \n",
      "579664            130 Paseo Encinal St  SAN ANTONIO    TX  78212.0   621112.0   \n",
      "583792                4039 Broadway St  SAN ANTONIO    TX  78209.0   511210.0   \n",
      "584820         4940 Broadway Suite 240  SAN ANTONIO    TX  78209.0   722513.0   \n",
      "587197                  12919 FLAGSHIP  SAN ANTONIO    TX  78247.0   541519.0   \n",
      "594198           1100 NW Loop 410 #102  SAN ANTONIO    TX  78213.0   518210.0   \n",
      "594719  7922 Ewing Halsell  Dr Ste 440  SAN ANTONIO    TX  78229.0   621111.0   \n",
      "\n",
      "                           BusinessType RaceEthnicity      Gender  \\\n",
      "553505         Subchapter S Corporation    Unanswered  Unanswered   \n",
      "555768                      Corporation         White  Unanswered   \n",
      "555833              Sole Proprietorship    Unanswered  Unanswered   \n",
      "565695                      Corporation    Unanswered  Unanswered   \n",
      "568917                      Corporation      Hispanic  Male Owned   \n",
      "576445                      Corporation    Unanswered  Unanswered   \n",
      "578844                      Corporation         White  Male Owned   \n",
      "579664  Limited  Liability Company(LLC)    Unanswered  Unanswered   \n",
      "583792                      Corporation    Unanswered  Unanswered   \n",
      "584820                      Corporation    Unanswered  Unanswered   \n",
      "587197                      Corporation    Unanswered  Unanswered   \n",
      "594198  Limited  Liability Company(LLC)    Unanswered  Unanswered   \n",
      "594719                      Corporation    Unanswered  Unanswered   \n",
      "\n",
      "            Veteran NonProfit  JobsRetained DateApproved  \\\n",
      "553505   Unanswered       NaN           1.0   04/28/2020   \n",
      "555768   Unanswered       NaN           1.0   04/09/2020   \n",
      "555833   Unanswered       NaN           1.0   04/04/2020   \n",
      "565695   Unanswered       NaN           1.0   04/10/2020   \n",
      "568917  Non-Veteran       NaN           1.0   04/09/2020   \n",
      "576445   Unanswered       NaN           1.0   04/16/2020   \n",
      "578844  Non-Veteran       NaN           1.0   04/09/2020   \n",
      "579664   Unanswered       NaN           1.0   04/13/2020   \n",
      "583792   Unanswered       NaN           1.0   04/09/2020   \n",
      "584820   Unanswered       NaN           1.0   04/09/2020   \n",
      "587197   Unanswered       NaN           1.0   04/15/2020   \n",
      "594198   Unanswered       NaN           1.0   04/09/2020   \n",
      "594719   Unanswered       NaN           1.0   04/28/2020   \n",
      "\n",
      "                                     Lender       CD  \n",
      "553505                           Frost Bank  TX - 23  \n",
      "555768  American Bank, National Association  TX - 20  \n",
      "555833  American Bank, National Association  TX - 20  \n",
      "565695  American Bank, National Association  TX - 21  \n",
      "568917  American Bank, National Association  TX - 20  \n",
      "576445  American Bank, National Association  TX - 21  \n",
      "578844  American Bank, National Association  TX - 21  \n",
      "579664                           Frost Bank  TX - 20  \n",
      "583792  American Bank, National Association  TX - 20  \n",
      "584820  American Bank, National Association  TX - 20  \n",
      "587197               Broadway National Bank  TX - 21  \n",
      "594198  American Bank, National Association  TX - 20  \n",
      "594719  First-Citizens Bank & Trust Company  TX - 20  \n"
     ]
    }
   ],
   "source": [
    "print(x)"
   ]
  },
  {
   "cell_type": "code",
   "execution_count": 16,
   "metadata": {},
   "outputs": [
    {
     "ename": "ValueError",
     "evalue": "Cannot mask with non-boolean array containing NA / NaN values",
     "output_type": "error",
     "traceback": [
      "\u001b[0;31m---------------------------------------------------------------------------\u001b[0m",
      "\u001b[0;31mValueError\u001b[0m                                Traceback (most recent call last)",
      "\u001b[0;32m<ipython-input-16-3fde0f56fa2b>\u001b[0m in \u001b[0;36m<module>\u001b[0;34m\u001b[0m\n\u001b[0;32m----> 1\u001b[0;31m \u001b[0mb\u001b[0m\u001b[0;34m[\u001b[0m\u001b[0mb\u001b[0m\u001b[0;34m[\u001b[0m\u001b[0;34m'BusinessName'\u001b[0m\u001b[0;34m]\u001b[0m\u001b[0;34m]\u001b[0m\u001b[0;34m\u001b[0m\u001b[0;34m\u001b[0m\u001b[0m\n\u001b[0m",
      "\u001b[0;32m~/.local/lib/python3.8/site-packages/pandas/core/frame.py\u001b[0m in \u001b[0;36m__getitem__\u001b[0;34m(self, key)\u001b[0m\n\u001b[1;32m   2788\u001b[0m \u001b[0;34m\u001b[0m\u001b[0m\n\u001b[1;32m   2789\u001b[0m         \u001b[0;31m# Do we have a (boolean) 1d indexer?\u001b[0m\u001b[0;34m\u001b[0m\u001b[0;34m\u001b[0m\u001b[0;34m\u001b[0m\u001b[0m\n\u001b[0;32m-> 2790\u001b[0;31m         \u001b[0;32mif\u001b[0m \u001b[0mcom\u001b[0m\u001b[0;34m.\u001b[0m\u001b[0mis_bool_indexer\u001b[0m\u001b[0;34m(\u001b[0m\u001b[0mkey\u001b[0m\u001b[0;34m)\u001b[0m\u001b[0;34m:\u001b[0m\u001b[0;34m\u001b[0m\u001b[0;34m\u001b[0m\u001b[0m\n\u001b[0m\u001b[1;32m   2791\u001b[0m             \u001b[0;32mreturn\u001b[0m \u001b[0mself\u001b[0m\u001b[0;34m.\u001b[0m\u001b[0m_getitem_bool_array\u001b[0m\u001b[0;34m(\u001b[0m\u001b[0mkey\u001b[0m\u001b[0;34m)\u001b[0m\u001b[0;34m\u001b[0m\u001b[0;34m\u001b[0m\u001b[0m\n\u001b[1;32m   2792\u001b[0m \u001b[0;34m\u001b[0m\u001b[0m\n",
      "\u001b[0;32m~/.local/lib/python3.8/site-packages/pandas/core/common.py\u001b[0m in \u001b[0;36mis_bool_indexer\u001b[0;34m(key)\u001b[0m\n\u001b[1;32m    134\u001b[0m                 \u001b[0mna_msg\u001b[0m \u001b[0;34m=\u001b[0m \u001b[0;34m\"Cannot mask with non-boolean array containing NA / NaN values\"\u001b[0m\u001b[0;34m\u001b[0m\u001b[0;34m\u001b[0m\u001b[0m\n\u001b[1;32m    135\u001b[0m                 \u001b[0;32mif\u001b[0m \u001b[0misna\u001b[0m\u001b[0;34m(\u001b[0m\u001b[0mkey\u001b[0m\u001b[0;34m)\u001b[0m\u001b[0;34m.\u001b[0m\u001b[0many\u001b[0m\u001b[0;34m(\u001b[0m\u001b[0;34m)\u001b[0m\u001b[0;34m:\u001b[0m\u001b[0;34m\u001b[0m\u001b[0;34m\u001b[0m\u001b[0m\n\u001b[0;32m--> 136\u001b[0;31m                     \u001b[0;32mraise\u001b[0m \u001b[0mValueError\u001b[0m\u001b[0;34m(\u001b[0m\u001b[0mna_msg\u001b[0m\u001b[0;34m)\u001b[0m\u001b[0;34m\u001b[0m\u001b[0;34m\u001b[0m\u001b[0m\n\u001b[0m\u001b[1;32m    137\u001b[0m                 \u001b[0;32mreturn\u001b[0m \u001b[0;32mFalse\u001b[0m\u001b[0;34m\u001b[0m\u001b[0;34m\u001b[0m\u001b[0m\n\u001b[1;32m    138\u001b[0m             \u001b[0;32mreturn\u001b[0m \u001b[0;32mTrue\u001b[0m\u001b[0;34m\u001b[0m\u001b[0;34m\u001b[0m\u001b[0m\n",
      "\u001b[0;31mValueError\u001b[0m: Cannot mask with non-boolean array containing NA / NaN values"
     ]
    }
   ],
   "source": [
    "b[b['BusinessName']]"
   ]
  },
  {
   "cell_type": "code",
   "execution_count": null,
   "metadata": {},
   "outputs": [],
   "source": [
    "a.info()"
   ]
  },
  {
   "cell_type": "code",
   "execution_count": null,
   "metadata": {},
   "outputs": [],
   "source": [
    "b.info()"
   ]
  },
  {
   "cell_type": "code",
   "execution_count": null,
   "metadata": {},
   "outputs": [],
   "source": [
    "len(b)"
   ]
  },
  {
   "cell_type": "code",
   "execution_count": null,
   "metadata": {},
   "outputs": [],
   "source": [
    "len(a[a['Zip'] == 78230.0])"
   ]
  },
  {
   "cell_type": "code",
   "execution_count": null,
   "metadata": {},
   "outputs": [],
   "source": [
    "pd.Series(b.Lender.unique()).sort_values()"
   ]
  },
  {
   "cell_type": "code",
   "execution_count": null,
   "metadata": {},
   "outputs": [],
   "source": [
    "b[b['BusinessName'].str.contains('LTD')]"
   ]
  },
  {
   "cell_type": "code",
   "execution_count": null,
   "metadata": {},
   "outputs": [],
   "source": [
    "a.info()"
   ]
  },
  {
   "cell_type": "code",
   "execution_count": null,
   "metadata": {
    "scrolled": true
   },
   "outputs": [],
   "source": [
    "b[b.BusinessName.str.contains('DAVIS LAW')  == True]"
   ]
  },
  {
   "cell_type": "code",
   "execution_count": null,
   "metadata": {},
   "outputs": [],
   "source": [
    "sa_big_only = b[b.City == 'SAN ANTONIO']"
   ]
  },
  {
   "cell_type": "code",
   "execution_count": null,
   "metadata": {},
   "outputs": [],
   "source": [
    "sa_big_only"
   ]
  },
  {
   "cell_type": "code",
   "execution_count": null,
   "metadata": {},
   "outputs": [],
   "source": [
    "len(sa_big_only.BusinessName.unique())"
   ]
  },
  {
   "cell_type": "code",
   "execution_count": null,
   "metadata": {},
   "outputs": [],
   "source": [
    "print(sa_big_only.BusinessName.value_counts() > 1)"
   ]
  },
  {
   "cell_type": "code",
   "execution_count": null,
   "metadata": {},
   "outputs": [],
   "source": [
    "sa_big_only"
   ]
  },
  {
   "cell_type": "code",
   "execution_count": null,
   "metadata": {},
   "outputs": [],
   "source": [
    "sa_big_only.sort_values(by = 'DateApproved')"
   ]
  },
  {
   "cell_type": "code",
   "execution_count": null,
   "metadata": {},
   "outputs": [],
   "source": [
    "sa_big_only[sa_big_only.DateApproved == '04/03/2020']"
   ]
  },
  {
   "cell_type": "code",
   "execution_count": null,
   "metadata": {},
   "outputs": [],
   "source": [
    "sa_big_only[sa_big_only.BusinessName.str.contains('SEA ')]"
   ]
  },
  {
   "cell_type": "code",
   "execution_count": null,
   "metadata": {},
   "outputs": [],
   "source": [
    "sa_big_only.Zip.value_counts()"
   ]
  },
  {
   "cell_type": "code",
   "execution_count": null,
   "metadata": {},
   "outputs": [],
   "source": [
    "sa_big_only[sa_big_only.Zip == 78216.0]"
   ]
  },
  {
   "cell_type": "code",
   "execution_count": null,
   "metadata": {},
   "outputs": [],
   "source": [
    "sa_big_only[sa_big_only.BusinessName.str.contains('HENRY')]"
   ]
  },
  {
   "cell_type": "code",
   "execution_count": null,
   "metadata": {},
   "outputs": [],
   "source": []
  },
  {
   "cell_type": "code",
   "execution_count": null,
   "metadata": {},
   "outputs": [],
   "source": [
    "sa_big_only.DateApproved.value_counts()"
   ]
  },
  {
   "cell_type": "code",
   "execution_count": null,
   "metadata": {},
   "outputs": [],
   "source": []
  },
  {
   "cell_type": "code",
   "execution_count": null,
   "metadata": {},
   "outputs": [],
   "source": [
    "aaa =  sa_big_only[sa_big_only.BusinessName == 'GUSTAVO GARCIA-SILLER ARCHBISHOP OF SAN ANTONIO & HIS SUCCESSORS IN OFFICE']"
   ]
  },
  {
   "cell_type": "code",
   "execution_count": null,
   "metadata": {},
   "outputs": [],
   "source": [
    "aaa.to_records()"
   ]
  },
  {
   "cell_type": "code",
   "execution_count": null,
   "metadata": {},
   "outputs": [],
   "source": [
    "from tabulate import tabulate\n",
    "print(tabulate(aaa, headers='keys', tablefmt='psql'))"
   ]
  },
  {
   "cell_type": "code",
   "execution_count": null,
   "metadata": {
    "scrolled": true
   },
   "outputs": [],
   "source": [
    "aaa"
   ]
  },
  {
   "cell_type": "code",
   "execution_count": null,
   "metadata": {},
   "outputs": [],
   "source": [
    "aaa.to_clipboard()"
   ]
  },
  {
   "cell_type": "code",
   "execution_count": null,
   "metadata": {},
   "outputs": [],
   "source": [
    "sa_big_only.Address.value_counts()"
   ]
  },
  {
   "cell_type": "code",
   "execution_count": null,
   "metadata": {},
   "outputs": [],
   "source": [
    "sa_big_only[sa_big_only.Address == '5815 CALLAGHAN RD SUITE 100']"
   ]
  },
  {
   "cell_type": "code",
   "execution_count": null,
   "metadata": {},
   "outputs": [],
   "source": [
    "sa_big_only[sa_big_only.Address == '5815 CALLAGHAN RD SUITE 100'].to_clipboard()"
   ]
  },
  {
   "cell_type": "code",
   "execution_count": null,
   "metadata": {},
   "outputs": [],
   "source": [
    "sa_big_only[sa_big_only.Address == '10010 SAN PEDRO AVE']"
   ]
  },
  {
   "cell_type": "code",
   "execution_count": null,
   "metadata": {},
   "outputs": [],
   "source": [
    "sa_big_only[sa_big_only.Address == '5818 CALLAGHAN RD']"
   ]
  },
  {
   "cell_type": "code",
   "execution_count": null,
   "metadata": {},
   "outputs": [],
   "source": [
    "sa_big_only[sa_big_only.Address == '5818 CALLAGHAN RD'].to_clipboard()"
   ]
  },
  {
   "cell_type": "code",
   "execution_count": null,
   "metadata": {},
   "outputs": [],
   "source": []
  }
 ],
 "metadata": {
  "kernelspec": {
   "display_name": "Python 3",
   "language": "python",
   "name": "python3"
  },
  "language_info": {
   "codemirror_mode": {
    "name": "ipython",
    "version": 3
   },
   "file_extension": ".py",
   "mimetype": "text/x-python",
   "name": "python",
   "nbconvert_exporter": "python",
   "pygments_lexer": "ipython3",
   "version": "3.8.5"
  }
 },
 "nbformat": 4,
 "nbformat_minor": 4
}
